{
  "cells": [
    {
      "cell_type": "code",
      "execution_count": null,
      "metadata": {
        "colab": {
          "base_uri": "https://localhost:8080/"
        },
        "id": "XZsgdM89-L77",
        "outputId": "41cc5f79-8aba-4bee-c217-35881e06af26"
      },
      "outputs": [
        {
          "data": {
            "text/plain": [
              "4"
            ]
          },
          "execution_count": 4,
          "metadata": {},
          "output_type": "execute_result"
        }
      ],
      "source": [
        "t = (1,2)\n",
        "v = (3,4)\n",
        "w = (v, t)\n",
        "w[0][1]"
      ]
    },
    {
      "cell_type": "code",
      "execution_count": null,
      "metadata": {
        "colab": {
          "base_uri": "https://localhost:8080/"
        },
        "id": "LdqtqZh1-cX2",
        "outputId": "e393d8b2-7681-4d72-c444-5426245baffd"
      },
      "outputs": [
        {
          "data": {
            "text/plain": [
              "4"
            ]
          },
          "execution_count": 6,
          "metadata": {},
          "output_type": "execute_result"
        }
      ],
      "source": [
        "max(w[0])"
      ]
    },
    {
      "cell_type": "code",
      "execution_count": null,
      "metadata": {
        "colab": {
          "base_uri": "https://localhost:8080/"
        },
        "id": "yEQkRhDV_v9G",
        "outputId": "67d34824-7079-445b-bac2-7a27f3cae934"
      },
      "outputs": [
        {
          "data": {
            "text/plain": [
              "3"
            ]
          },
          "execution_count": 7,
          "metadata": {},
          "output_type": "execute_result"
        }
      ],
      "source": [
        "min(w[0])"
      ]
    },
    {
      "cell_type": "markdown",
      "metadata": {
        "id": "ngcBI24QDmcH"
      },
      "source": [
        "# Lecture 3 (23/3/2023)"
      ]
    },
    {
      "cell_type": "code",
      "execution_count": null,
      "metadata": {
        "colab": {
          "base_uri": "https://localhost:8080/"
        },
        "id": "6zS3sIux_0wG",
        "outputId": "887e6a79-1364-4e2a-d541-fec55ee80aa5"
      },
      "outputs": [
        {
          "data": {
            "text/plain": [
              "(1, 2)"
            ]
          },
          "execution_count": 10,
          "metadata": {},
          "output_type": "execute_result"
        }
      ],
      "source": [
        "x =[1, 2]\n",
        "tuple(x)"
      ]
    },
    {
      "cell_type": "code",
      "execution_count": null,
      "metadata": {
        "colab": {
          "base_uri": "https://localhost:8080/"
        },
        "id": "YBorUw4D_5Xu",
        "outputId": "ea7f83e6-6833-4635-ec37-e37e168d53c8"
      },
      "outputs": [
        {
          "data": {
            "text/plain": [
              "{'A': 3}"
            ]
          },
          "execution_count": 32,
          "metadata": {},
          "output_type": "execute_result"
        }
      ],
      "source": [
        "dict = {'Num1':17, 'Num2':24}\n",
        "del(dict['Num1'])\n",
        "dict['Num3'], dict['Num4'] = 31, 32\n",
        "dict.fromkeys('A',3)"
      ]
    },
    {
      "cell_type": "code",
      "execution_count": null,
      "metadata": {
        "colab": {
          "base_uri": "https://localhost:8080/"
        },
        "id": "iMGSLt0FCXei",
        "outputId": "be3234f8-2952-4384-e0e9-f361204c9100"
      },
      "outputs": [
        {
          "data": {
            "text/plain": [
              "{'Num2': 24, 'Num3': 31, 'Num4': 32, 'Azzam': 'Yes'}"
            ]
          },
          "execution_count": 33,
          "metadata": {},
          "output_type": "execute_result"
        }
      ],
      "source": [
        "dict2 = {'Azzam':'Yes'}\n",
        "dict.update(dict2)\n",
        "dict"
      ]
    },
    {
      "cell_type": "code",
      "execution_count": null,
      "metadata": {
        "colab": {
          "base_uri": "https://localhost:8080/"
        },
        "id": "zKrA7xa8EXM0",
        "outputId": "1399f45c-3954-44f8-be13-388311277b33"
      },
      "outputs": [
        {
          "name": "stdout",
          "output_type": "stream",
          "text": [
            "{'name': 'Azzam', 'age': 21}\n"
          ]
        }
      ],
      "source": [
        "p1={'name':'umair', 'age':20}\n",
        "p2={'name':'Azzam', 'age':21}\n",
        "p3={'name':'irtaza', 'age':20}\n",
        "p4={'name':'Adeen', 'age':20}\n",
        "\n",
        "clas={'student1':p1,\n",
        "      'student2':p2,\n",
        "      'student3':p3,\n",
        "      'student4':p4\n",
        "      }\n",
        "\n",
        "for item in clas:\n",
        "  if (item=='student2'):\n",
        "    print(clas[item])\n",
        "  "
      ]
    },
    {
      "cell_type": "code",
      "execution_count": null,
      "metadata": {
        "colab": {
          "base_uri": "https://localhost:8080/"
        },
        "id": "oS4iXzi5QTUn",
        "outputId": "75544263-75e4-4bf4-90f2-e1b4cec881bd"
      },
      "outputs": [
        {
          "data": {
            "text/plain": [
              "{'a': 'a for ahmad', 'b': 'b for ball', 'c': 'c for cat'}"
            ]
          },
          "execution_count": 39,
          "metadata": {},
          "output_type": "execute_result"
        }
      ],
      "source": [
        "objects = ['a', 'b', 'c']\n",
        "categories = ['a for ahmad', 'b for ball', 'c for cat']\n",
        "d = {key:value for key,value in zip(objects, categories)}\n",
        "d"
      ]
    },
    {
      "cell_type": "markdown",
      "metadata": {
        "id": "nfgo-3h6KCY9"
      },
      "source": [
        "# Lecture 4 (24/3/2023)"
      ]
    },
    {
      "cell_type": "code",
      "execution_count": null,
      "metadata": {
        "colab": {
          "base_uri": "https://localhost:8080/"
        },
        "id": "7BpckPyHYOJq",
        "outputId": "521ea18b-74fb-4f1c-eca8-b40ee977f9a3"
      },
      "outputs": [
        {
          "name": "stdout",
          "output_type": "stream",
          "text": [
            "0\n",
            "1\n",
            "2\n"
          ]
        }
      ],
      "source": [
        "def mygen(val):\n",
        "  for x in range(val):\n",
        "    yield x\n",
        "gen = mygen(3)\n",
        "for i in range(3):\n",
        "  print(next(gen))"
      ]
    },
    {
      "cell_type": "code",
      "execution_count": null,
      "metadata": {
        "colab": {
          "base_uri": "https://localhost:8080/"
        },
        "id": "Y-LSjGrNKOBJ",
        "outputId": "f8237e06-0aa4-46ad-b29e-f09040a31534"
      },
      "outputs": [
        {
          "name": "stdout",
          "output_type": "stream",
          "text": [
            "next on gen called 0\n",
            "next on gen called 1\n",
            "next on gen called 2\n",
            "next on gen called 3\n",
            "next on gen called 4\n",
            "next on gen called 5\n",
            "Can't handle this error...breaking..\n"
          ]
        }
      ],
      "source": [
        "def mygen(val):\n",
        "  for x in range(val):\n",
        "    yield x\n",
        "\n",
        "gen = mygen(6)\n",
        "\n",
        "while True:\n",
        "  try:\n",
        "    print(\"next on gen called\", next(gen))\n",
        "  except StopIteration:\n",
        "    print(\"Can't handle this error...breaking..\")\n",
        "    break"
      ]
    },
    {
      "cell_type": "code",
      "execution_count": null,
      "metadata": {
        "colab": {
          "base_uri": "https://localhost:8080/"
        },
        "id": "Kk5OsO7zK-TJ",
        "outputId": "a356ae31-7a8f-4a3f-d562-c9298b328216"
      },
      "outputs": [
        {
          "name": "stdout",
          "output_type": "stream",
          "text": [
            "Next on gen called 0\n",
            "Next on gen called 1\n",
            "Next on gen called 8\n",
            "Next on gen called 27\n",
            "Next on gen called 64\n",
            "Can't handle this error...breaking...\n"
          ]
        }
      ],
      "source": [
        "def mygen(val):\n",
        "  for x in range(val):\n",
        "    yield x**3\n",
        "\n",
        "gen = mygen(5)\n",
        "while True:\n",
        "  try:\n",
        "    print(\"Next on gen called\", next(gen))\n",
        "  except StopIteration:\n",
        "    print(\"Can't handle this error...breaking...\")\n",
        "    break"
      ]
    },
    {
      "cell_type": "code",
      "execution_count": null,
      "metadata": {
        "colab": {
          "base_uri": "https://localhost:8080/"
        },
        "id": "fLJckASmMGGj",
        "outputId": "1890eace-7beb-4334-8717-67c33be38226"
      },
      "outputs": [
        {
          "name": "stdout",
          "output_type": "stream",
          "text": [
            "<class 'generator'>\n",
            "0\n",
            "1\n",
            "8\n",
            "27\n"
          ]
        }
      ],
      "source": [
        "cubes = (x**3 for x in range(4))\n",
        "print(type(cubes))\n",
        "\n",
        "for i in range(4):\n",
        "  print(next(cubes))"
      ]
    },
    {
      "cell_type": "code",
      "execution_count": null,
      "metadata": {
        "colab": {
          "base_uri": "https://localhost:8080/"
        },
        "id": "gTP_UxO3M11r",
        "outputId": "179b393d-d75f-4f9f-fd3a-399ececfd20d"
      },
      "outputs": [
        {
          "name": "stdout",
          "output_type": "stream",
          "text": [
            "100\n"
          ]
        }
      ],
      "source": [
        "print(sum(x**3 for x in range(5)))"
      ]
    },
    {
      "cell_type": "code",
      "execution_count": null,
      "metadata": {
        "colab": {
          "base_uri": "https://localhost:8080/"
        },
        "id": "HQdnx89LOP72",
        "outputId": "99e64d3f-c10b-419b-a68a-8cf4823fdc07"
      },
      "outputs": [
        {
          "name": "stdout",
          "output_type": "stream",
          "text": [
            "True\n",
            "False\n"
          ]
        }
      ],
      "source": [
        "def fun1(val):\n",
        "  return val%2==0\n",
        "\n",
        "print(fun1(2))\n",
        "print(fun1(3))"
      ]
    },
    {
      "cell_type": "code",
      "execution_count": null,
      "metadata": {
        "colab": {
          "base_uri": "https://localhost:8080/"
        },
        "id": "sd9wbEiATCid",
        "outputId": "1d4f3038-3743-46de-fd35-3e39a39dc536"
      },
      "outputs": [
        {
          "name": "stdout",
          "output_type": "stream",
          "text": [
            "string\n",
            "[1, 2, 3, 4, 5, 6]\n",
            "dict_items([('name', 'Jawad'), ('age', 44)])\n"
          ]
        }
      ],
      "source": [
        "def return_type(val):\n",
        "  if 'str' == val:\n",
        "    return \"string\"\n",
        "  elif 'list' == val:\n",
        "    return [1,2,3,4,5,6]\n",
        "  elif 'dict' == val:\n",
        "    return {\"name\":\"Jawad\", \"age\":44}\n",
        "\n",
        "dict1 = {}\n",
        "\n",
        "print(return_type('str'))\n",
        "print(return_type('list'))\n",
        "dict1 = return_type('dict')\n",
        "print(dict1.items())"
      ]
    },
    {
      "cell_type": "code",
      "execution_count": null,
      "metadata": {
        "colab": {
          "base_uri": "https://localhost:8080/"
        },
        "id": "yZIliVggUKaP",
        "outputId": "7c05b660-9b2c-4130-ccc6-f78dab633c87"
      },
      "outputs": [
        {
          "name": "stdout",
          "output_type": "stream",
          "text": [
            "<class 'str'>\n",
            "<class 'list'>\n",
            "<class 'dict'>\n"
          ]
        }
      ],
      "source": [
        "def return_type(val):\n",
        "  return type(val)\n",
        "\n",
        "print(return_type('str'))\n",
        "print(return_type([1,2,3,4,5,6]))\n",
        "print(return_type({\"name\":\"Jawad\", \"age\":44}))"
      ]
    },
    {
      "cell_type": "code",
      "execution_count": null,
      "metadata": {
        "colab": {
          "base_uri": "https://localhost:8080/"
        },
        "id": "0RGaEgYnUWo_",
        "outputId": "45d5f85b-8640-4772-d59b-6d695b272d58"
      },
      "outputs": [
        {
          "name": "stdout",
          "output_type": "stream",
          "text": [
            "('a', 'b', 'c')\n",
            "<class 'tuple'>\n"
          ]
        }
      ],
      "source": [
        "def returning():\n",
        "  return 'a','b','c'\n",
        "\n",
        "print(returning())\n",
        "print(type(returning()))"
      ]
    },
    {
      "cell_type": "code",
      "execution_count": null,
      "metadata": {
        "colab": {
          "base_uri": "https://localhost:8080/"
        },
        "id": "FTxKWPsPWYRT",
        "outputId": "8c2ea80e-b1fc-423c-cd21-6648ca3771a0"
      },
      "outputs": [
        {
          "name": "stdout",
          "output_type": "stream",
          "text": [
            "[0, 1, 2, 3, 4] [5, 6]\n"
          ]
        }
      ],
      "source": [
        "val=(x for x in range(5))\n",
        "\n",
        "def fun():\n",
        "  yield 5\n",
        "  yield 6\n",
        "\n",
        "b = fun()\n",
        "list1 = list(val)\n",
        "list2 = list(b)\n",
        "\n",
        "print(list1, list2)"
      ]
    },
    {
      "cell_type": "code",
      "execution_count": null,
      "metadata": {
        "colab": {
          "base_uri": "https://localhost:8080/"
        },
        "id": "KOpqREr_YGZl",
        "outputId": "fc3c0f9a-5d56-4635-a933-85e0fef14526"
      },
      "outputs": [
        {
          "name": "stdout",
          "output_type": "stream",
          "text": [
            "5\n",
            "[0, 1, 2, 3, 4] [6]\n"
          ]
        }
      ],
      "source": [
        "val=(x for x in range(5))\n",
        "\n",
        "def fun():\n",
        "  yield 5\n",
        "  yield 6\n",
        "\n",
        "b = fun()\n",
        "print(next(b))\n",
        "list1=[*val]\n",
        "list2=[*b]\n",
        "\n",
        "print(list1, list2)"
      ]
    },
    {
      "cell_type": "code",
      "execution_count": null,
      "metadata": {
        "colab": {
          "base_uri": "https://localhost:8080/"
        },
        "id": "VFNeKX2UY-b_",
        "outputId": "1ffeb8eb-b2c9-4e60-e4f7-a11d93b4ffcb"
      },
      "outputs": [
        {
          "name": "stdout",
          "output_type": "stream",
          "text": [
            "[0, 1, 2, 3, 4] [5, 6]\n"
          ]
        }
      ],
      "source": [
        "val=(x for x in range(5))\n",
        "\n",
        "def fun():\n",
        "  yield 5\n",
        "  yield 6\n",
        "\n",
        "b = fun()\n",
        "list1 = []\n",
        "list2 = []\n",
        "\n",
        "for c in val:\n",
        "  list1.append(c)\n",
        "for c in b:\n",
        "  list2.append(c)\n",
        "  \n",
        "print(list1, list2)"
      ]
    },
    {
      "cell_type": "code",
      "execution_count": null,
      "metadata": {
        "id": "kCsB9NDJbiDx"
      },
      "outputs": [],
      "source": [
        "#unpacking a generator\n",
        "gen = (x*3 for x in range(3))"
      ]
    },
    {
      "cell_type": "code",
      "execution_count": null,
      "metadata": {
        "colab": {
          "base_uri": "https://localhost:8080/"
        },
        "id": "ptfHE_9_bzlJ",
        "outputId": "721238a7-118c-4b49-ff98-cd09d77a88ef"
      },
      "outputs": [
        {
          "name": "stdout",
          "output_type": "stream",
          "text": [
            "3\n",
            "4\n",
            "5\n",
            "6\n",
            "7\n",
            "8\n",
            "9\n",
            "\n",
            "Without using def:  3 4 5 6 7 8 9\n"
          ]
        }
      ],
      "source": [
        "def generator_function():\n",
        "  for i in range(3,10):\n",
        "    yield i\n",
        "    \n",
        "obj = generator_function()\n",
        "    \n",
        "for i in obj:\n",
        "  print(i)\n",
        "\n",
        "gen = (x for x in range(3, 10))\n",
        "print(\"\\nWithout using def: \", *gen)\n"
      ]
    },
    {
      "cell_type": "markdown",
      "metadata": {
        "id": "D3t9xbN1J1CP"
      },
      "source": [
        "# **Lecture 5 [30/3/23]**"
      ]
    },
    {
      "cell_type": "markdown",
      "metadata": {
        "id": "yCz9uCIuKlOJ"
      },
      "source": [
        "## Quiz"
      ]
    },
    {
      "cell_type": "code",
      "execution_count": null,
      "metadata": {
        "colab": {
          "base_uri": "https://localhost:8080/"
        },
        "id": "4RRCTl4zdT0T",
        "outputId": "8c322fce-4f2e-43cd-d7e7-9dfc4327817a"
      },
      "outputs": [
        {
          "name": "stdout",
          "output_type": "stream",
          "text": [
            "Original list: [1, 2, 3]\n",
            "Size of list: 3\n",
            "Appended list: [1, 2, 3, 'appended_element']\n",
            "Extended list: [1, 2, 3, 'appended_element', '1']\n"
          ]
        }
      ],
      "source": [
        "# Create list\n",
        "lst = [1, 2, 3]\n",
        "print('Original list:', lst)\n",
        "\n",
        "# Size of list\n",
        "print('Size of list:', len(lst))\n",
        "\n",
        "# Append to list\n",
        "lst.append('appended_element')\n",
        "print('Appended list:', lst)\n",
        "\n",
        "# Extend list\n",
        "lst.extend('1')\n",
        "print('Extended list:', lst)"
      ]
    },
    {
      "cell_type": "code",
      "execution_count": null,
      "metadata": {
        "colab": {
          "base_uri": "https://localhost:8080/"
        },
        "id": "q5EfLSwtISLr",
        "outputId": "51d334c9-37ed-4322-c566-03b5e15fd00d"
      },
      "outputs": [
        {
          "name": "stdout",
          "output_type": "stream",
          "text": [
            "['odd', 'even', 'odd']\n"
          ]
        }
      ],
      "source": [
        "def is_even(num):\n",
        "  if num%2==0:\n",
        "    return 'even'\n",
        "  else: return 'odd'\n",
        "\n",
        "def even_or_odd(seq):\n",
        "  return [is_even(num) for num in seq]\n",
        "\n",
        "print(even_or_odd([1, 2, 3]))"
      ]
    },
    {
      "cell_type": "code",
      "execution_count": null,
      "metadata": {
        "colab": {
          "base_uri": "https://localhost:8080/"
        },
        "id": "inxjK5j1JVaN",
        "outputId": "cbad009f-2f01-421b-e37a-60a9a409fddd"
      },
      "outputs": [
        {
          "name": "stdout",
          "output_type": "stream",
          "text": [
            "Unsorted list of lists [[6, 5, 4], [3, 2, 1]]\n",
            "Sorted list of lists [[3, 2, 1], [6, 5, 4]]\n",
            "Sorted sublists: [[1, 2, 3], [4, 5, 6]]\n"
          ]
        }
      ],
      "source": [
        "lst1 = [6, 5, 4]\n",
        "lst2 = [3, 2, 1]\n",
        "lst_of_lsts = [lst1, lst2]\n",
        "print('Unsorted list of lists', lst_of_lsts)\n",
        "\n",
        "lst_of_lsts.sort()\n",
        "print('Sorted list of lists', lst_of_lsts)\n",
        "\n",
        "[sublst.sort() for sublst in lst_of_lsts]\n",
        "\n",
        "print('Sorted sublists:', lst_of_lsts)"
      ]
    },
    {
      "cell_type": "code",
      "execution_count": null,
      "metadata": {
        "colab": {
          "base_uri": "https://localhost:8080/"
        },
        "id": "UYbC075RLNnr",
        "outputId": "f852d746-9e78-41ea-ae45-347d8af6aa9b"
      },
      "outputs": [
        {
          "name": "stdout",
          "output_type": "stream",
          "text": [
            "Original string: Sample string\n",
            "After insertion: ['S', 'a', 'm', 'p', 'l', 'e', ' ', 's', 't', 'r', 'i', 'n', 'g', 3]\n"
          ]
        }
      ],
      "source": [
        "string = \"Sample string\"\n",
        "print(\"Original string:\", string)\n",
        "lst_string = list(string)\n",
        "lst_string.insert(len(lst_string), 3)\n",
        "print(\"After insertion:\", lst_string)"
      ]
    },
    {
      "cell_type": "code",
      "execution_count": null,
      "metadata": {
        "colab": {
          "base_uri": "https://localhost:8080/"
        },
        "id": "iYlY7ySBM8Ba",
        "outputId": "139490e4-d7ac-42a1-d64b-33412a665a0f"
      },
      "outputs": [
        {
          "data": {
            "text/plain": [
              "20"
            ]
          },
          "execution_count": 49,
          "metadata": {},
          "output_type": "execute_result"
        }
      ],
      "source": [
        "class base_class():\n",
        "  number = 0\n",
        "  def fun(self):\n",
        "    return self.number + 20\n",
        "\n",
        "obj = base_class()\n",
        "obj.fun()"
      ]
    },
    {
      "cell_type": "code",
      "execution_count": null,
      "metadata": {
        "colab": {
          "base_uri": "https://localhost:8080/"
        },
        "id": "MeyfW7XmRgQH",
        "outputId": "03222904-f5c6-4852-9e25-0fde320b7808"
      },
      "outputs": [
        {
          "data": {
            "text/plain": [
              "3"
            ]
          },
          "execution_count": 56,
          "metadata": {},
          "output_type": "execute_result"
        }
      ],
      "source": [
        "class B():\n",
        "  def fun(self):\n",
        "    return \"B\"\n",
        "  def change(self, value):\n",
        "    self.number = value\n",
        "\n",
        "class C(B):\n",
        "  def fun2(self):\n",
        "    return self.number\n",
        "\n",
        "a = C()\n",
        "a.change(3)\n",
        "a.fun2()"
      ]
    },
    {
      "cell_type": "markdown",
      "metadata": {
        "id": "XP0YB-3ELuGY"
      },
      "source": [
        "# Lecture 6"
      ]
    },
    {
      "cell_type": "code",
      "execution_count": null,
      "metadata": {
        "colab": {
          "base_uri": "https://localhost:8080/"
        },
        "id": "iWYWjvBsUeQL",
        "outputId": "ec802a60-8528-43e5-eb65-045544258fb3"
      },
      "outputs": [
        {
          "name": "stdout",
          "output_type": "stream",
          "text": [
            "AzzamAhmad sp22-1sp22-2\n"
          ]
        }
      ],
      "source": [
        "class Student:\n",
        "  def __init__(self, name, rollno):\n",
        "    self.name = name\n",
        "    self.rollno = rollno\n",
        "\n",
        "  def __add__(self, stu):\n",
        "    self.name = self.name + stu.name\n",
        "    self.rollno = self.rollno + stu.rollno\n",
        "    return self\n",
        "\n",
        "obj1 = Student(\"Azzam\", \"sp22-1\")\n",
        "obj2 = Student(\"Ahmad\", \"sp22-2\")\n",
        "\n",
        "obj3=obj1+obj2\n",
        "print(obj3.name, obj3.rollno)"
      ]
    },
    {
      "cell_type": "code",
      "execution_count": null,
      "metadata": {
        "colab": {
          "base_uri": "https://localhost:8080/"
        },
        "id": "aUIaqOg9MBjU",
        "outputId": "5017fad1-af54-4756-d445-4af958386ca1"
      },
      "outputs": [
        {
          "name": "stdout",
          "output_type": "stream",
          "text": [
            "Was car1 registered later than car2: False\n",
            "Was car2 registered later than car1: True\n"
          ]
        }
      ],
      "source": [
        "class Vehicle:\n",
        "  def __init__(self, model, reg_year):\n",
        "    self.model = model\n",
        "    self.reg_year = reg_year\n",
        "\n",
        "  def __ge__(self, car):\n",
        "    return self.reg_year > car.reg_year\n",
        "\n",
        "  def __del__()\n",
        "\n",
        "car1 = Vehicle(2004, 2005)\n",
        "car2 = Vehicle(1998, 1999)\n",
        "\n",
        "print(\"Was car1 registered later than car2:\", car2 >= car1)\n",
        "print(\"Was car2 registered later than car1:\", car1 >= car2)"
      ]
    },
    {
      "cell_type": "code",
      "execution_count": null,
      "metadata": {
        "colab": {
          "base_uri": "https://localhost:8080/"
        },
        "id": "WKK9eIHdPebx",
        "outputId": "49e4cd87-3884-4700-964a-d1b6ab6c506f"
      },
      "outputs": [
        {
          "data": {
            "text/plain": [
              "['__add__',\n",
              " '__class__',\n",
              " '__delattr__',\n",
              " '__dict__',\n",
              " '__dir__',\n",
              " '__doc__',\n",
              " '__eq__',\n",
              " '__format__',\n",
              " '__ge__',\n",
              " '__getattribute__',\n",
              " '__gt__',\n",
              " '__hash__',\n",
              " '__init__',\n",
              " '__init_subclass__',\n",
              " '__le__',\n",
              " '__lt__',\n",
              " '__module__',\n",
              " '__ne__',\n",
              " '__new__',\n",
              " '__reduce__',\n",
              " '__reduce_ex__',\n",
              " '__repr__',\n",
              " '__setattr__',\n",
              " '__sizeof__',\n",
              " '__str__',\n",
              " '__subclasshook__',\n",
              " '__weakref__']"
            ]
          },
          "execution_count": 26,
          "metadata": {},
          "output_type": "execute_result"
        }
      ],
      "source": [
        "dir(Student)"
      ]
    },
    {
      "cell_type": "code",
      "execution_count": null,
      "metadata": {
        "id": "DPb1YB-bXm8q"
      },
      "outputs": [],
      "source": [
        "class Nothing():\n",
        "  def __init__(self, val1, val2):\n",
        "    self.val1 = val1\n",
        "    self.val2 = val2"
      ]
    },
    {
      "cell_type": "code",
      "execution_count": null,
      "metadata": {
        "colab": {
          "base_uri": "https://localhost:8080/"
        },
        "id": "Daow-KL-VbXe",
        "outputId": "4d9a718b-7bf0-404f-d356-786b423395ac"
      },
      "outputs": [
        {
          "name": "stdout",
          "output_type": "stream",
          "text": [
            "Jawad fall2023\n"
          ]
        }
      ],
      "source": [
        "class Employee(Nothing, Student):\n",
        "  def __init__(self, name, e_num):\n",
        "    super().__init__(name, e_num)\n",
        "\n",
        "employee1 = Employee(\"Jawad\", \"fall2023\")\n",
        "\n",
        "print(employee1.val1, employee1.val2)\n"
      ]
    },
    {
      "cell_type": "code",
      "execution_count": null,
      "metadata": {
        "colab": {
          "base_uri": "https://localhost:8080/"
        },
        "id": "d-D4blmJWdh3",
        "outputId": "898b5363-0196-4103-dab6-22cb8736c004"
      },
      "outputs": [
        {
          "name": "stdout",
          "output_type": "stream",
          "text": [
            "When A_Class is resolved first: 15\n",
            "Adeens' val: 10\n"
          ]
        }
      ],
      "source": [
        "class A_Class():\n",
        "  def __init__(self, val1, val2):\n",
        "    self.val3 = val1 + val2\n",
        "\n",
        "class B_Class():\n",
        "  def __init__(self, val1, val2):\n",
        "    self.val3 = val1 - val2\n",
        "\n",
        "class inherited_1(A_Class, B_Class):\n",
        "  def __init__(self, num1, num2):\n",
        "    self.adeen = 10\n",
        "    super().__init__(num1, num2)\n",
        "\n",
        "obj1 = inherited_1(10, 5)\n",
        "print(\"When A_Class is resolved first:\", obj1.val3)\n",
        "print(\"Adeens' val:\", obj1.adeen)\n"
      ]
    },
    {
      "cell_type": "code",
      "execution_count": null,
      "metadata": {
        "colab": {
          "base_uri": "https://localhost:8080/"
        },
        "id": "DcuzIZKPaS4V",
        "outputId": "b3cb851a-5576-4ffa-9d41-0c2069a2e8d5"
      },
      "outputs": [
        {
          "name": "stdout",
          "output_type": "stream",
          "text": [
            "When A_Class is resolved first: 5\n"
          ]
        }
      ],
      "source": [
        "class inherited_2(B_Class, A_Class):\n",
        "  def __init__(self, num1, num2):\n",
        "    super().__init__(num1, num2)\n",
        "\n",
        "obj2 = inherited_2(10, 5)\n",
        "print(\"When A_Class is resolved first:\", obj2.val3)"
      ]
    },
    {
      "cell_type": "code",
      "execution_count": null,
      "metadata": {
        "colab": {
          "base_uri": "https://localhost:8080/"
        },
        "id": "sxx6A-TiaxEW",
        "outputId": "866bfec2-20fa-4d87-9664-c2ba4c8b91a6"
      },
      "outputs": [
        {
          "data": {
            "text/plain": [
              "15"
            ]
          },
          "execution_count": 5,
          "metadata": {},
          "output_type": "execute_result"
        }
      ],
      "source": [
        "class inherited_3(A_Class):\n",
        "  def __init__(self, num1, num2):\n",
        "    temp = A_Class(num1, num2)\n",
        "    self.val = temp.val3\n",
        "\n",
        "obj3 = inherited_3(7, 8)\n",
        "obj3.val"
      ]
    },
    {
      "cell_type": "code",
      "execution_count": null,
      "metadata": {
        "colab": {
          "base_uri": "https://localhost:8080/"
        },
        "id": "wu-tvDiZbUTW",
        "outputId": "de085916-1264-4ee7-80ea-5d668834ca42"
      },
      "outputs": [
        {
          "name": "stdout",
          "output_type": "stream",
          "text": [
            "Ahmad\n",
            "Ahmad\n",
            "24\n",
            "Ahmad\n"
          ]
        }
      ],
      "source": [
        "class Myinfo:\n",
        "  def __init__(self, myName, myAge):  \n",
        "    self.name = myName\n",
        "    self.age = myAge\n",
        "\n",
        "  def __repr__(self):\n",
        "    return str(self.age)\n",
        "\n",
        "  def __str__(self):\n",
        "    return str(self.name)\n",
        "\n",
        "obj = Myinfo('Ahmad', 24)\n",
        "print(obj)\n",
        "print(str(obj))\n",
        "print(obj.__repr__())\n",
        "print(obj.__str__())"
      ]
    },
    {
      "cell_type": "markdown",
      "metadata": {
        "id": "deoqzz5vgYYu"
      },
      "source": [
        "**Lambda function**"
      ]
    },
    {
      "cell_type": "code",
      "execution_count": null,
      "metadata": {
        "colab": {
          "base_uri": "https://localhost:8080/"
        },
        "id": "TntnVbNvfiYt",
        "outputId": "94320212-822f-43b2-cf5c-8946b306df65"
      },
      "outputs": [
        {
          "name": "stdout",
          "output_type": "stream",
          "text": [
            "Odd\n"
          ]
        }
      ],
      "source": [
        "# Lambda functions are not allocated in memory unless used\n",
        "def fun(val):\n",
        "  if val%2==0:\n",
        "    print('Even')\n",
        "  else:\n",
        "    return('Odd')\n",
        "\n",
        "fun(5)\n",
        "\n",
        "y = (lambda x:\"Even\" if x%2==0 else \"Odd\")\n",
        "print(y(3))"
      ]
    },
    {
      "cell_type": "code",
      "execution_count": null,
      "metadata": {
        "id": "GWlmrOjGhIan"
      },
      "outputs": [],
      "source": [
        "y = lambda x:x**2"
      ]
    },
    {
      "cell_type": "code",
      "execution_count": null,
      "metadata": {
        "colab": {
          "base_uri": "https://localhost:8080/"
        },
        "id": "emtfx1bPjNTi",
        "outputId": "c1cf40ad-f4ca-4d1d-9473-22abdb81d5c1"
      },
      "outputs": [
        {
          "name": "stdout",
          "output_type": "stream",
          "text": [
            "[1, 4, 9]\n"
          ]
        }
      ],
      "source": [
        "print(list(map(y, [1, 2, 3])))"
      ]
    },
    {
      "cell_type": "markdown",
      "metadata": {
        "id": "FNyr-puRMajo"
      },
      "source": [
        "# Lecture 7"
      ]
    },
    {
      "cell_type": "code",
      "execution_count": null,
      "metadata": {
        "colab": {
          "base_uri": "https://localhost:8080/",
          "height": 206
        },
        "id": "Mhs5IVtNmOzX",
        "outputId": "9fbce8cb-3459-4b85-f42f-88108933ddf3"
      },
      "outputs": [
        {
          "data": {
            "text/html": [
              "\n",
              "  <div id=\"df-917a0d82-98e4-4e7b-937f-9dd66175a90a\">\n",
              "    <div class=\"colab-df-container\">\n",
              "      <div>\n",
              "<style scoped>\n",
              "    .dataframe tbody tr th:only-of-type {\n",
              "        vertical-align: middle;\n",
              "    }\n",
              "\n",
              "    .dataframe tbody tr th {\n",
              "        vertical-align: top;\n",
              "    }\n",
              "\n",
              "    .dataframe thead th {\n",
              "        text-align: right;\n",
              "    }\n",
              "</style>\n",
              "<table border=\"1\" class=\"dataframe\">\n",
              "  <thead>\n",
              "    <tr style=\"text-align: right;\">\n",
              "      <th></th>\n",
              "      <th>Date</th>\n",
              "      <th>SPX</th>\n",
              "      <th>GLD</th>\n",
              "      <th>USO</th>\n",
              "      <th>SLV</th>\n",
              "      <th>EUR/USD</th>\n",
              "    </tr>\n",
              "  </thead>\n",
              "  <tbody>\n",
              "    <tr>\n",
              "      <th>0</th>\n",
              "      <td>1/2/2008</td>\n",
              "      <td>1447.160034</td>\n",
              "      <td>84.860001</td>\n",
              "      <td>78.470001</td>\n",
              "      <td>15.180</td>\n",
              "      <td>1.471692</td>\n",
              "    </tr>\n",
              "    <tr>\n",
              "      <th>1</th>\n",
              "      <td>1/3/2008</td>\n",
              "      <td>1447.160034</td>\n",
              "      <td>85.570000</td>\n",
              "      <td>78.370003</td>\n",
              "      <td>15.285</td>\n",
              "      <td>1.474491</td>\n",
              "    </tr>\n",
              "    <tr>\n",
              "      <th>2</th>\n",
              "      <td>1/4/2008</td>\n",
              "      <td>1411.630005</td>\n",
              "      <td>85.129997</td>\n",
              "      <td>77.309998</td>\n",
              "      <td>15.167</td>\n",
              "      <td>1.475492</td>\n",
              "    </tr>\n",
              "    <tr>\n",
              "      <th>3</th>\n",
              "      <td>1/7/2008</td>\n",
              "      <td>1416.180054</td>\n",
              "      <td>84.769997</td>\n",
              "      <td>75.500000</td>\n",
              "      <td>15.053</td>\n",
              "      <td>1.468299</td>\n",
              "    </tr>\n",
              "    <tr>\n",
              "      <th>4</th>\n",
              "      <td>1/8/2008</td>\n",
              "      <td>1390.189941</td>\n",
              "      <td>86.779999</td>\n",
              "      <td>76.059998</td>\n",
              "      <td>15.590</td>\n",
              "      <td>1.557099</td>\n",
              "    </tr>\n",
              "  </tbody>\n",
              "</table>\n",
              "</div>\n",
              "      <button class=\"colab-df-convert\" onclick=\"convertToInteractive('df-917a0d82-98e4-4e7b-937f-9dd66175a90a')\"\n",
              "              title=\"Convert this dataframe to an interactive table.\"\n",
              "              style=\"display:none;\">\n",
              "        \n",
              "  <svg xmlns=\"http://www.w3.org/2000/svg\" height=\"24px\"viewBox=\"0 0 24 24\"\n",
              "       width=\"24px\">\n",
              "    <path d=\"M0 0h24v24H0V0z\" fill=\"none\"/>\n",
              "    <path d=\"M18.56 5.44l.94 2.06.94-2.06 2.06-.94-2.06-.94-.94-2.06-.94 2.06-2.06.94zm-11 1L8.5 8.5l.94-2.06 2.06-.94-2.06-.94L8.5 2.5l-.94 2.06-2.06.94zm10 10l.94 2.06.94-2.06 2.06-.94-2.06-.94-.94-2.06-.94 2.06-2.06.94z\"/><path d=\"M17.41 7.96l-1.37-1.37c-.4-.4-.92-.59-1.43-.59-.52 0-1.04.2-1.43.59L10.3 9.45l-7.72 7.72c-.78.78-.78 2.05 0 2.83L4 21.41c.39.39.9.59 1.41.59.51 0 1.02-.2 1.41-.59l7.78-7.78 2.81-2.81c.8-.78.8-2.07 0-2.86zM5.41 20L4 18.59l7.72-7.72 1.47 1.35L5.41 20z\"/>\n",
              "  </svg>\n",
              "      </button>\n",
              "      \n",
              "  <style>\n",
              "    .colab-df-container {\n",
              "      display:flex;\n",
              "      flex-wrap:wrap;\n",
              "      gap: 12px;\n",
              "    }\n",
              "\n",
              "    .colab-df-convert {\n",
              "      background-color: #E8F0FE;\n",
              "      border: none;\n",
              "      border-radius: 50%;\n",
              "      cursor: pointer;\n",
              "      display: none;\n",
              "      fill: #1967D2;\n",
              "      height: 32px;\n",
              "      padding: 0 0 0 0;\n",
              "      width: 32px;\n",
              "    }\n",
              "\n",
              "    .colab-df-convert:hover {\n",
              "      background-color: #E2EBFA;\n",
              "      box-shadow: 0px 1px 2px rgba(60, 64, 67, 0.3), 0px 1px 3px 1px rgba(60, 64, 67, 0.15);\n",
              "      fill: #174EA6;\n",
              "    }\n",
              "\n",
              "    [theme=dark] .colab-df-convert {\n",
              "      background-color: #3B4455;\n",
              "      fill: #D2E3FC;\n",
              "    }\n",
              "\n",
              "    [theme=dark] .colab-df-convert:hover {\n",
              "      background-color: #434B5C;\n",
              "      box-shadow: 0px 1px 3px 1px rgba(0, 0, 0, 0.15);\n",
              "      filter: drop-shadow(0px 1px 2px rgba(0, 0, 0, 0.3));\n",
              "      fill: #FFFFFF;\n",
              "    }\n",
              "  </style>\n",
              "\n",
              "      <script>\n",
              "        const buttonEl =\n",
              "          document.querySelector('#df-917a0d82-98e4-4e7b-937f-9dd66175a90a button.colab-df-convert');\n",
              "        buttonEl.style.display =\n",
              "          google.colab.kernel.accessAllowed ? 'block' : 'none';\n",
              "\n",
              "        async function convertToInteractive(key) {\n",
              "          const element = document.querySelector('#df-917a0d82-98e4-4e7b-937f-9dd66175a90a');\n",
              "          const dataTable =\n",
              "            await google.colab.kernel.invokeFunction('convertToInteractive',\n",
              "                                                     [key], {});\n",
              "          if (!dataTable) return;\n",
              "\n",
              "          const docLinkHtml = 'Like what you see? Visit the ' +\n",
              "            '<a target=\"_blank\" href=https://colab.research.google.com/notebooks/data_table.ipynb>data table notebook</a>'\n",
              "            + ' to learn more about interactive tables.';\n",
              "          element.innerHTML = '';\n",
              "          dataTable['output_type'] = 'display_data';\n",
              "          await google.colab.output.renderOutput(dataTable, element);\n",
              "          const docLink = document.createElement('div');\n",
              "          docLink.innerHTML = docLinkHtml;\n",
              "          element.appendChild(docLink);\n",
              "        }\n",
              "      </script>\n",
              "    </div>\n",
              "  </div>\n",
              "  "
            ],
            "text/plain": [
              "       Date          SPX        GLD        USO     SLV   EUR/USD\n",
              "0  1/2/2008  1447.160034  84.860001  78.470001  15.180  1.471692\n",
              "1  1/3/2008  1447.160034  85.570000  78.370003  15.285  1.474491\n",
              "2  1/4/2008  1411.630005  85.129997  77.309998  15.167  1.475492\n",
              "3  1/7/2008  1416.180054  84.769997  75.500000  15.053  1.468299\n",
              "4  1/8/2008  1390.189941  86.779999  76.059998  15.590  1.557099"
            ]
          },
          "execution_count": 1,
          "metadata": {},
          "output_type": "execute_result"
        }
      ],
      "source": [
        "import pandas as pd\n",
        "gld = pd.read_csv('/content/drive/MyDrive/datasets/gld_price_data.csv')\n",
        "gld.head()"
      ]
    },
    {
      "cell_type": "code",
      "execution_count": null,
      "metadata": {
        "colab": {
          "base_uri": "https://localhost:8080/"
        },
        "id": "7D81_gGVPFkl",
        "outputId": "ecdeb3b6-75dc-4e63-e753-5ac83eca0487"
      },
      "outputs": [
        {
          "data": {
            "text/plain": [
              "Date          1/2/2008\n",
              "SPX        1447.160034\n",
              "GLD          84.860001\n",
              "USO          78.470001\n",
              "SLV              15.18\n",
              "EUR/USD       1.471692\n",
              "Name: 0, dtype: object"
            ]
          },
          "execution_count": 2,
          "metadata": {},
          "output_type": "execute_result"
        }
      ],
      "source": [
        "gld.iloc[0]\n"
      ]
    },
    {
      "cell_type": "code",
      "execution_count": null,
      "metadata": {
        "colab": {
          "base_uri": "https://localhost:8080/"
        },
        "id": "SkhsRacEPWCj",
        "outputId": "3836490b-cf8c-4826-d2c4-a88e43b6d884"
      },
      "outputs": [
        {
          "data": {
            "text/plain": [
              "(2290, 6)"
            ]
          },
          "execution_count": 5,
          "metadata": {},
          "output_type": "execute_result"
        }
      ],
      "source": [
        "gld.shape"
      ]
    },
    {
      "cell_type": "code",
      "execution_count": null,
      "metadata": {
        "colab": {
          "base_uri": "https://localhost:8080/"
        },
        "id": "ZZAGHvRPPiEd",
        "outputId": "673c2f03-1e72-4396-d032-315917df3cb9"
      },
      "outputs": [
        {
          "name": "stdout",
          "output_type": "stream",
          "text": [
            "<class 'pandas.core.frame.DataFrame'>\n",
            "                Names  Age  Gender\n",
            "0  Ahmad Uzzam Masood   24    Male\n",
            "1         Adeen Zahid   22  Female\n",
            "2        Irteza Hyder   20    Male\n"
          ]
        }
      ],
      "source": [
        "data = {\n",
        "    'Names':{'0':'Ahmad Uzzam Masood', '1':'Adeen Zahid', '2':'Irteza Hyder'},\n",
        "    'Age':{'0':24, '1':22, '2':20},\n",
        "    'Gender':{'0':'Male', '1':'Female', '2':'Male'}\n",
        "}\n",
        "\n",
        "df = pd.DataFrame(data=data)\n",
        "print(type(df))\n",
        "print(df)\n",
        "df.to_csv('Custom data.csv')"
      ]
    },
    {
      "cell_type": "code",
      "execution_count": null,
      "metadata": {
        "colab": {
          "base_uri": "https://localhost:8080/"
        },
        "id": "aqQ2jseiSYu5",
        "outputId": "81bfcb2a-3027-48f3-de02-00f84ddd15a2"
      },
      "outputs": [
        {
          "name": "stdout",
          "output_type": "stream",
          "text": [
            "Names     Irteza Hyder\n",
            "Age                 20\n",
            "Gender            Male\n",
            "Name: 2, dtype: object\n"
          ]
        }
      ],
      "source": [
        "df1 = pd.read_csv('Custom data.csv', index_col=0)\n",
        "print(df.iloc[2])"
      ]
    },
    {
      "cell_type": "code",
      "execution_count": null,
      "metadata": {
        "id": "G_8FjrRxh83v"
      },
      "outputs": [],
      "source": [
        "!pip install openpyxl"
      ]
    },
    {
      "cell_type": "code",
      "execution_count": null,
      "metadata": {
        "colab": {
          "base_uri": "https://localhost:8080/"
        },
        "id": "utVh5zMOXY4i",
        "outputId": "2ee407ae-ad70-4f50-c0da-589f4fc8e88b"
      },
      "outputs": [
        {
          "name": "stdout",
          "output_type": "stream",
          "text": [
            "Sheet1\n",
            "('2x0', '=0')\n",
            "('2x1', '=2')\n",
            "('2x2', '=4')\n",
            "('2x3', '=6')\n",
            "('2x4', '=8')\n",
            "('2x5', '=10')\n",
            "('2x6', '=12')\n",
            "('2x7', '=14')\n",
            "('2x8', '=16')\n",
            "('2x9', '=18')\n",
            "\n",
            "\n",
            "Sheet2\n",
            "('3x1', 3)\n",
            "('3x2', 6)\n",
            "('3x3', 9)\n",
            "('3x4', 12)\n",
            "('3x5', 15)\n",
            "('3x6', 18)\n",
            "('3x7', 21)\n",
            "('3x8', 24)\n",
            "('3x9', 27)\n",
            "('3x10', 30)\n",
            "\n",
            "\n"
          ]
        }
      ],
      "source": [
        "import openpyxl as opy\n",
        "workbook = opy.load_workbook('/content/drive/MyDrive/datasets/Book1.xlsx')\n",
        "\n",
        "sheet_names = workbook.sheetnames\n",
        "\n",
        "for sheet_name in sheet_names:\n",
        "  sheet = workbook[sheet_name]\n",
        "  print(sheet.title)\n",
        "  for row in sheet.iter_rows(values_only=True):\n",
        "    print(row)\n",
        "  print('\\n')\n"
      ]
    },
    {
      "cell_type": "code",
      "execution_count": null,
      "metadata": {
        "colab": {
          "base_uri": "https://localhost:8080/"
        },
        "id": "QtV1P02FaX_K",
        "outputId": "5612b249-b3ad-4912-f794-95bbf9896599"
      },
      "outputs": [
        {
          "name": "stdout",
          "output_type": "stream",
          "text": [
            "{\"columns\":[\"Names\",\"Age\",\"Gender\"],\"index\":[\"0\",\"1\",\"2\"],\"data\":[[\"Ahmad Uzzam Masood\",24,\"Male\"],[\"Adeen Zahid\",22,\"Female\"],[\"Irteza Hyder\",20,\"Male\"]]}\n"
          ]
        }
      ],
      "source": [
        "import json\n",
        "df1 = {\n",
        "    'Names':{'0':'Ahmad Uzzam Masood', '1':'Adeen Zahid', '2':'Irteza Hyder'},\n",
        "    'Age':{'0':24, '1':22, '2':20},\n",
        "    'Gender':{'0':'Male', '1':'Female', '2':'Male'}\n",
        "}\n",
        "print(result)\n",
        "\n",
        "with open('1.json', 'w') as f:\n",
        "  json.dump(df1, f)"
      ]
    },
    {
      "cell_type": "code",
      "execution_count": null,
      "metadata": {
        "colab": {
          "base_uri": "https://localhost:8080/",
          "height": 55
        },
        "id": "ZCT3p_zNlykc",
        "outputId": "852d78a7-b1af-4df2-8554-94daf708d359"
      },
      "outputs": [
        {
          "data": {
            "text/html": [
              "\n",
              "     <input type=\"file\" id=\"files-c8b6fe31-3c00-4333-ba28-a4c992dd09f1\" name=\"files[]\" multiple disabled\n",
              "        style=\"border:none\" />\n",
              "     <output id=\"result-c8b6fe31-3c00-4333-ba28-a4c992dd09f1\">\n",
              "      Upload widget is only available when the cell has been executed in the\n",
              "      current browser session. Please rerun this cell to enable.\n",
              "      </output>\n",
              "      <script>// Copyright 2017 Google LLC\n",
              "//\n",
              "// Licensed under the Apache License, Version 2.0 (the \"License\");\n",
              "// you may not use this file except in compliance with the License.\n",
              "// You may obtain a copy of the License at\n",
              "//\n",
              "//      http://www.apache.org/licenses/LICENSE-2.0\n",
              "//\n",
              "// Unless required by applicable law or agreed to in writing, software\n",
              "// distributed under the License is distributed on an \"AS IS\" BASIS,\n",
              "// WITHOUT WARRANTIES OR CONDITIONS OF ANY KIND, either express or implied.\n",
              "// See the License for the specific language governing permissions and\n",
              "// limitations under the License.\n",
              "\n",
              "/**\n",
              " * @fileoverview Helpers for google.colab Python module.\n",
              " */\n",
              "(function(scope) {\n",
              "function span(text, styleAttributes = {}) {\n",
              "  const element = document.createElement('span');\n",
              "  element.textContent = text;\n",
              "  for (const key of Object.keys(styleAttributes)) {\n",
              "    element.style[key] = styleAttributes[key];\n",
              "  }\n",
              "  return element;\n",
              "}\n",
              "\n",
              "// Max number of bytes which will be uploaded at a time.\n",
              "const MAX_PAYLOAD_SIZE = 100 * 1024;\n",
              "\n",
              "function _uploadFiles(inputId, outputId) {\n",
              "  const steps = uploadFilesStep(inputId, outputId);\n",
              "  const outputElement = document.getElementById(outputId);\n",
              "  // Cache steps on the outputElement to make it available for the next call\n",
              "  // to uploadFilesContinue from Python.\n",
              "  outputElement.steps = steps;\n",
              "\n",
              "  return _uploadFilesContinue(outputId);\n",
              "}\n",
              "\n",
              "// This is roughly an async generator (not supported in the browser yet),\n",
              "// where there are multiple asynchronous steps and the Python side is going\n",
              "// to poll for completion of each step.\n",
              "// This uses a Promise to block the python side on completion of each step,\n",
              "// then passes the result of the previous step as the input to the next step.\n",
              "function _uploadFilesContinue(outputId) {\n",
              "  const outputElement = document.getElementById(outputId);\n",
              "  const steps = outputElement.steps;\n",
              "\n",
              "  const next = steps.next(outputElement.lastPromiseValue);\n",
              "  return Promise.resolve(next.value.promise).then((value) => {\n",
              "    // Cache the last promise value to make it available to the next\n",
              "    // step of the generator.\n",
              "    outputElement.lastPromiseValue = value;\n",
              "    return next.value.response;\n",
              "  });\n",
              "}\n",
              "\n",
              "/**\n",
              " * Generator function which is called between each async step of the upload\n",
              " * process.\n",
              " * @param {string} inputId Element ID of the input file picker element.\n",
              " * @param {string} outputId Element ID of the output display.\n",
              " * @return {!Iterable<!Object>} Iterable of next steps.\n",
              " */\n",
              "function* uploadFilesStep(inputId, outputId) {\n",
              "  const inputElement = document.getElementById(inputId);\n",
              "  inputElement.disabled = false;\n",
              "\n",
              "  const outputElement = document.getElementById(outputId);\n",
              "  outputElement.innerHTML = '';\n",
              "\n",
              "  const pickedPromise = new Promise((resolve) => {\n",
              "    inputElement.addEventListener('change', (e) => {\n",
              "      resolve(e.target.files);\n",
              "    });\n",
              "  });\n",
              "\n",
              "  const cancel = document.createElement('button');\n",
              "  inputElement.parentElement.appendChild(cancel);\n",
              "  cancel.textContent = 'Cancel upload';\n",
              "  const cancelPromise = new Promise((resolve) => {\n",
              "    cancel.onclick = () => {\n",
              "      resolve(null);\n",
              "    };\n",
              "  });\n",
              "\n",
              "  // Wait for the user to pick the files.\n",
              "  const files = yield {\n",
              "    promise: Promise.race([pickedPromise, cancelPromise]),\n",
              "    response: {\n",
              "      action: 'starting',\n",
              "    }\n",
              "  };\n",
              "\n",
              "  cancel.remove();\n",
              "\n",
              "  // Disable the input element since further picks are not allowed.\n",
              "  inputElement.disabled = true;\n",
              "\n",
              "  if (!files) {\n",
              "    return {\n",
              "      response: {\n",
              "        action: 'complete',\n",
              "      }\n",
              "    };\n",
              "  }\n",
              "\n",
              "  for (const file of files) {\n",
              "    const li = document.createElement('li');\n",
              "    li.append(span(file.name, {fontWeight: 'bold'}));\n",
              "    li.append(span(\n",
              "        `(${file.type || 'n/a'}) - ${file.size} bytes, ` +\n",
              "        `last modified: ${\n",
              "            file.lastModifiedDate ? file.lastModifiedDate.toLocaleDateString() :\n",
              "                                    'n/a'} - `));\n",
              "    const percent = span('0% done');\n",
              "    li.appendChild(percent);\n",
              "\n",
              "    outputElement.appendChild(li);\n",
              "\n",
              "    const fileDataPromise = new Promise((resolve) => {\n",
              "      const reader = new FileReader();\n",
              "      reader.onload = (e) => {\n",
              "        resolve(e.target.result);\n",
              "      };\n",
              "      reader.readAsArrayBuffer(file);\n",
              "    });\n",
              "    // Wait for the data to be ready.\n",
              "    let fileData = yield {\n",
              "      promise: fileDataPromise,\n",
              "      response: {\n",
              "        action: 'continue',\n",
              "      }\n",
              "    };\n",
              "\n",
              "    // Use a chunked sending to avoid message size limits. See b/62115660.\n",
              "    let position = 0;\n",
              "    do {\n",
              "      const length = Math.min(fileData.byteLength - position, MAX_PAYLOAD_SIZE);\n",
              "      const chunk = new Uint8Array(fileData, position, length);\n",
              "      position += length;\n",
              "\n",
              "      const base64 = btoa(String.fromCharCode.apply(null, chunk));\n",
              "      yield {\n",
              "        response: {\n",
              "          action: 'append',\n",
              "          file: file.name,\n",
              "          data: base64,\n",
              "        },\n",
              "      };\n",
              "\n",
              "      let percentDone = fileData.byteLength === 0 ?\n",
              "          100 :\n",
              "          Math.round((position / fileData.byteLength) * 100);\n",
              "      percent.textContent = `${percentDone}% done`;\n",
              "\n",
              "    } while (position < fileData.byteLength);\n",
              "  }\n",
              "\n",
              "  // All done.\n",
              "  yield {\n",
              "    response: {\n",
              "      action: 'complete',\n",
              "    }\n",
              "  };\n",
              "}\n",
              "\n",
              "scope.google = scope.google || {};\n",
              "scope.google.colab = scope.google.colab || {};\n",
              "scope.google.colab._files = {\n",
              "  _uploadFiles,\n",
              "  _uploadFilesContinue,\n",
              "};\n",
              "})(self);\n",
              "</script> "
            ],
            "text/plain": [
              "<IPython.core.display.HTML object>"
            ]
          },
          "metadata": {},
          "output_type": "display_data"
        },
        {
          "data": {
            "text/plain": [
              "{}"
            ]
          },
          "execution_count": 20,
          "metadata": {},
          "output_type": "execute_result"
        }
      ],
      "source": [
        "from google.colab import files\n",
        "files.upload()"
      ]
    },
    {
      "cell_type": "code",
      "execution_count": null,
      "metadata": {
        "id": "6m-Usn7tgHp-"
      },
      "outputs": [],
      "source": [
        "# Code to download dataset from kaggle. Go into your account in Kaggle, then go to APIs and click on 'Create new API token'*\n",
        "import kaggle\n",
        "\n",
        "!mkdir -p ~/kaggle\n",
        "!cp /content/drive/MyDrive/datasets/kaggle.json ~/kaggle\n",
        "\n",
        "kaggle.api.authenticate()\n",
        "kaggle.api.dataset_download_files('gauravsharma99/ck48-5-emotions', path='./')"
      ]
    },
    {
      "cell_type": "code",
      "execution_count": null,
      "metadata": {
        "colab": {
          "base_uri": "https://localhost:8080/"
        },
        "id": "9luhFS9Dk1VW",
        "outputId": "393661a1-ba03-4818-c7dc-ca54d869efce"
      },
      "outputs": [
        {
          "name": "stdout",
          "output_type": "stream",
          "text": [
            "Hello, this is before function execution\n",
            "This is inside the function !!\n",
            "This is after function execution\n"
          ]
        }
      ],
      "source": [
        "# Decorators: Modify and enhance function without changing their definition\n",
        "\n",
        "# defining a decorator\n",
        "def hello_decorator(func):\n",
        "    # inner1 is a Wrapper function in\n",
        "    # which the argument is called\n",
        "    # inner function can access the outer local\n",
        "    # functions like in this case \"func\"\n",
        "    def inner1():\n",
        "        print(\"Hello, this is before function execution\")\n",
        " \n",
        "        # calling the actual function now\n",
        "        # inside the wrapper function.\n",
        "         \n",
        " \n",
        "        print(\"This is after function execution\")\n",
        "         \n",
        "    return inner1\n",
        " \n",
        "# defining a function, to be called inside wrapper\n",
        "def function_to_be_used():\n",
        "    print(\"This is inside the function !!\")\n",
        " \n",
        "# passing 'function_to_be_used' inside the\n",
        "# decorator to control its behaviour\n",
        "function_to_be_used = hello_decorator(function_to_be_used)\n",
        " \n",
        "# calling the function\n",
        "function_to_be_used()\n",
        "\n"
      ]
    },
    {
      "cell_type": "markdown",
      "metadata": {
        "id": "xIlZPIsyhIlu"
      },
      "source": [
        "# Lecture 8"
      ]
    },
    {
      "cell_type": "code",
      "execution_count": null,
      "metadata": {
        "colab": {
          "base_uri": "https://localhost:8080/"
        },
        "id": "u0pHkz0htEnX",
        "outputId": "7c1dd2a4-9cad-47e7-ead4-ac287025ed16"
      },
      "outputs": [
        {
          "data": {
            "text/plain": [
              "['HELLO', 'WORLD']"
            ]
          },
          "execution_count": 4,
          "metadata": {},
          "output_type": "execute_result"
        }
      ],
      "source": [
        "# Map\n",
        "li = ['hello', 'world']\n",
        "li2 = list(map(str.upper, li))\n",
        "li2\n"
      ]
    },
    {
      "cell_type": "code",
      "execution_count": null,
      "metadata": {
        "colab": {
          "base_uri": "https://localhost:8080/"
        },
        "id": "0v6Qz3cHhf5V",
        "outputId": "5a50a824-248b-4f0b-c687-7f02b49ee0e2"
      },
      "outputs": [
        {
          "name": "stdout",
          "output_type": "stream",
          "text": [
            "[('hello', 'HELLO'), ('world', 'WORLD')]\n"
          ]
        }
      ],
      "source": [
        "print(list(zip(li, li2)))"
      ]
    },
    {
      "cell_type": "code",
      "execution_count": null,
      "metadata": {
        "colab": {
          "base_uri": "https://localhost:8080/"
        },
        "id": "tclEDp-yh_87",
        "outputId": "7206f3f4-c8bb-4f5a-ec55-0de2b6c2b9f3"
      },
      "outputs": [
        {
          "name": "stdout",
          "output_type": "stream",
          "text": [
            "Filter: ['HELLO', 'WORLD']\n",
            "Map: [True, True]\n"
          ]
        }
      ],
      "source": [
        "# Filter\n",
        "def length_string(string):\n",
        "  return len(string)>4\n",
        "\n",
        "elements1 = list(filter(length_string, li2))\n",
        "print('Filter:', elements1)\n",
        "elements2 = list(map(length_string, li2))\n",
        "print('Map:', elements2)"
      ]
    },
    {
      "cell_type": "code",
      "execution_count": null,
      "metadata": {
        "colab": {
          "base_uri": "https://localhost:8080/"
        },
        "id": "YUWHlJq0jEkb",
        "outputId": "2a920c45-2620-438e-993d-0b0988d7514e"
      },
      "outputs": [
        {
          "name": "stdout",
          "output_type": "stream",
          "text": [
            "['HELLO', 'WORLD']\n"
          ]
        }
      ],
      "source": [
        "elements3 = list(filter(lambda x:x if len(x)>4 else 'Nope', li2))\n",
        "print(elements3)"
      ]
    },
    {
      "cell_type": "code",
      "execution_count": null,
      "metadata": {
        "colab": {
          "base_uri": "https://localhost:8080/"
        },
        "id": "zQcyu88vkuEU",
        "outputId": "9c7e1551-0248-42b3-ba2c-f12423207c9a"
      },
      "outputs": [
        {
          "name": "stdout",
          "output_type": "stream",
          "text": [
            "helloworldtext\n"
          ]
        }
      ],
      "source": [
        "# Reduce implements operation one by one\n",
        "\n",
        "from functools import reduce\n",
        "\n",
        "li3 = ['hello', 'world', 'text']\n",
        "result = reduce(lambda x,y:x+y, li3)\n",
        "print(result)"
      ]
    },
    {
      "cell_type": "code",
      "execution_count": null,
      "metadata": {
        "colab": {
          "base_uri": "https://localhost:8080/"
        },
        "id": "fJT1OyIFmvEL",
        "outputId": "18c2add2-647d-427a-e3d2-e850e4a43658"
      },
      "outputs": [
        {
          "name": "stdout",
          "output_type": "stream",
          "text": [
            "[0, 1, 1, 2, 3, 5, 8, 13, 21, 34]\n"
          ]
        }
      ],
      "source": [
        "# Question 1\n",
        "# 0, 1, 1, 2, 3, 5\n",
        "def fibonacci():\n",
        "    x, y = 0, 1\n",
        "    while True:\n",
        "        yield x\n",
        "        x, y = y, x + y\n",
        "\n",
        "fib = []\n",
        "a = fibonacci()\n",
        "for i in range(10):\n",
        "    fib.append(next(a))\n",
        "\n",
        "print(fib)"
      ]
    },
    {
      "cell_type": "code",
      "execution_count": null,
      "metadata": {
        "colab": {
          "base_uri": "https://localhost:8080/"
        },
        "id": "_ObhHqDgpnCD",
        "outputId": "8e67f616-285f-4107-85e1-a2e41eb2c7a6"
      },
      "outputs": [
        {
          "data": {
            "text/plain": [
              "[1, 8, 27, 64, 125]"
            ]
          },
          "execution_count": 51,
          "metadata": {},
          "output_type": "execute_result"
        }
      ],
      "source": [
        "# Question 2\n",
        "def cube(*args):\n",
        "  return [x**3 for x in args]\n",
        "\n",
        "cube(1, 2, 3, 4, 5)"
      ]
    },
    {
      "cell_type": "code",
      "execution_count": null,
      "metadata": {
        "colab": {
          "base_uri": "https://localhost:8080/"
        },
        "id": "gK14rCIOsK-C",
        "outputId": "43bd8cb4-9bd6-4067-8447-835ca310ee78"
      },
      "outputs": [
        {
          "name": "stdout",
          "output_type": "stream",
          "text": [
            "10\n",
            "10\n",
            "10\n"
          ]
        }
      ],
      "source": [
        "# Question 3\n",
        "class A():\n",
        "  def __init__(self):\n",
        "    self.a = 10\n",
        "\n",
        "class B(A):\n",
        "  def __init__(self):\n",
        "    super().__init__()\n",
        "    self.b = 20\n",
        "\n",
        "class C(B):\n",
        "  def __init__(self):\n",
        "    super().__init__()\n",
        "    self.c = 30\n",
        "\n",
        "obj1 = A()\n",
        "obj2 = B()\n",
        "obj3 = C()\n",
        "\n",
        "print(obj1.a)\n",
        "print(obj2.a)\n",
        "print(obj3.a)"
      ]
    },
    {
      "cell_type": "code",
      "execution_count": null,
      "metadata": {
        "colab": {
          "base_uri": "https://localhost:8080/"
        },
        "id": "PPDt1aYkuls5",
        "outputId": "30bb8f99-96e2-4bb5-fc7d-0ad6341b8995"
      },
      "outputs": [
        {
          "name": "stdout",
          "output_type": "stream",
          "text": [
            "12\n",
            "12\n"
          ]
        }
      ],
      "source": [
        "# Question 4\n",
        "\n",
        "class base1():\n",
        "  def __init__(self, *args):\n",
        "    self.sides = args\n",
        "\n",
        "  def area_of_polygon(self):\n",
        "    return sum(*self.sides)\n",
        "\n",
        "class base2():\n",
        "  def __init__(self, *args):\n",
        "    self.sides = args\n",
        "\n",
        "  def perimeter_of_polygon(self):\n",
        "    return sum(*self.sides)\n",
        "\n",
        "class inherited(base1, base2):\n",
        "  def __init__(self, *args):\n",
        "    super().__init__(*args)\n",
        "\n",
        "obj1 = inherited([3, 6, 3])\n",
        "print(obj1.area_of_polygon())\n",
        "print(obj1.perimeter_of_polygon())"
      ]
    },
    {
      "cell_type": "code",
      "execution_count": null,
      "metadata": {
        "colab": {
          "base_uri": "https://localhost:8080/"
        },
        "id": "gEOo4z6F0zl3",
        "outputId": "dd4ba291-7ac3-4dd0-b51f-4588aff3c556"
      },
      "outputs": [
        {
          "name": "stdout",
          "output_type": "stream",
          "text": [
            "dog says Woof!\n",
            "cat says Meow!\n"
          ]
        }
      ],
      "source": [
        "# Question 5\n",
        "class Dog:\n",
        "    def __init__(self, name):\n",
        "        self.name = name\n",
        "\n",
        "    def speak(self):\n",
        "        return self.name + ' says Woof!'\n",
        "\n",
        "class Cat:\n",
        "    def __init__(self, name):\n",
        "        self.name = name\n",
        "\n",
        "    def speak(self):\n",
        "        return self.name + ' says Meow!'\n",
        "\n",
        "d = Dog('dog')\n",
        "print(d.speak())\n",
        "\n",
        "c = Cat('cat')\n",
        "print(c.speak())"
      ]
    },
    {
      "cell_type": "code",
      "execution_count": null,
      "metadata": {
        "colab": {
          "base_uri": "https://localhost:8080/"
        },
        "id": "q6DaTJoZ1hBf",
        "outputId": "a955ed35-cf6d-4dd1-9354-8deaea8daed1"
      },
      "outputs": [
        {
          "name": "stdout",
          "output_type": "stream",
          "text": [
            "Sqrt: [3.         2.82842712 5.        ] \n",
            "\n",
            "Vertically stacked:\n",
            "[[1 2 3]\n",
            " [3 4 5]]\n"
          ]
        }
      ],
      "source": [
        "# Question 1\n",
        "import numpy as np\n",
        "\n",
        "arr = np.array([9, 8, 25])\n",
        "print('Sqrt:', np.sqrt(arr), \"\\n\")\n",
        "\n",
        "arr1 = np.array([1, 2, 3])\n",
        "arr2 = np.array([3, 4, 5])\n",
        "\n",
        "print('Vertically stacked:')\n",
        "print(np.stack((arr1, arr2), axis=0))"
      ]
    },
    {
      "cell_type": "code",
      "execution_count": null,
      "metadata": {
        "colab": {
          "base_uri": "https://localhost:8080/",
          "height": 432
        },
        "id": "XablxeM72Ot3",
        "outputId": "777ec920-aebf-4f7e-ea79-72e5a9060537"
      },
      "outputs": [
        {
          "ename": "ValueError",
          "evalue": "ignored",
          "output_type": "error",
          "traceback": [
            "\u001b[0;31m---------------------------------------------------------------------------\u001b[0m",
            "\u001b[0;31mAssertionError\u001b[0m                            Traceback (most recent call last)",
            "\u001b[0;32m/usr/local/lib/python3.9/dist-packages/pandas/core/internals/construction.py\u001b[0m in \u001b[0;36m_finalize_columns_and_data\u001b[0;34m(content, columns, dtype)\u001b[0m\n\u001b[1;32m    981\u001b[0m     \u001b[0;32mtry\u001b[0m\u001b[0;34m:\u001b[0m\u001b[0;34m\u001b[0m\u001b[0;34m\u001b[0m\u001b[0m\n\u001b[0;32m--> 982\u001b[0;31m         \u001b[0mcolumns\u001b[0m \u001b[0;34m=\u001b[0m \u001b[0m_validate_or_indexify_columns\u001b[0m\u001b[0;34m(\u001b[0m\u001b[0mcontents\u001b[0m\u001b[0;34m,\u001b[0m \u001b[0mcolumns\u001b[0m\u001b[0;34m)\u001b[0m\u001b[0;34m\u001b[0m\u001b[0;34m\u001b[0m\u001b[0m\n\u001b[0m\u001b[1;32m    983\u001b[0m     \u001b[0;32mexcept\u001b[0m \u001b[0mAssertionError\u001b[0m \u001b[0;32mas\u001b[0m \u001b[0merr\u001b[0m\u001b[0;34m:\u001b[0m\u001b[0;34m\u001b[0m\u001b[0;34m\u001b[0m\u001b[0m\n",
            "\u001b[0;32m/usr/local/lib/python3.9/dist-packages/pandas/core/internals/construction.py\u001b[0m in \u001b[0;36m_validate_or_indexify_columns\u001b[0;34m(content, columns)\u001b[0m\n\u001b[1;32m   1029\u001b[0m             \u001b[0;31m# caller's responsibility to check for this...\u001b[0m\u001b[0;34m\u001b[0m\u001b[0;34m\u001b[0m\u001b[0m\n\u001b[0;32m-> 1030\u001b[0;31m             raise AssertionError(\n\u001b[0m\u001b[1;32m   1031\u001b[0m                 \u001b[0;34mf\"{len(columns)} columns passed, passed data had \"\u001b[0m\u001b[0;34m\u001b[0m\u001b[0;34m\u001b[0m\u001b[0m\n",
            "\u001b[0;31mAssertionError\u001b[0m: 18 columns passed, passed data had 21 columns",
            "\nThe above exception was the direct cause of the following exception:\n",
            "\u001b[0;31mValueError\u001b[0m                                Traceback (most recent call last)",
            "\u001b[0;32m<ipython-input-132-e28afbdeb9c3>\u001b[0m in \u001b[0;36m<cell line: 21>\u001b[0;34m()\u001b[0m\n\u001b[1;32m     19\u001b[0m   \u001b[0;32mreturn\u001b[0m \u001b[0mdf\u001b[0m\u001b[0;34m\u001b[0m\u001b[0;34m\u001b[0m\u001b[0m\n\u001b[1;32m     20\u001b[0m \u001b[0;34m\u001b[0m\u001b[0m\n\u001b[0;32m---> 21\u001b[0;31m \u001b[0mdf_loaded_csv\u001b[0m \u001b[0;34m=\u001b[0m \u001b[0mloading_csv\u001b[0m\u001b[0;34m(\u001b[0m\u001b[0;34m'/content/36238_IMDd-Movie-Database.csv'\u001b[0m\u001b[0;34m)\u001b[0m\u001b[0;34m\u001b[0m\u001b[0;34m\u001b[0m\u001b[0m\n\u001b[0m\u001b[1;32m     22\u001b[0m \u001b[0mprint\u001b[0m\u001b[0;34m(\u001b[0m\u001b[0mdf_loaded_csv\u001b[0m\u001b[0;34m)\u001b[0m\u001b[0;34m\u001b[0m\u001b[0;34m\u001b[0m\u001b[0m\n\u001b[1;32m     23\u001b[0m \u001b[0;34m\u001b[0m\u001b[0m\n",
            "\u001b[0;32m<ipython-input-132-e28afbdeb9c3>\u001b[0m in \u001b[0;36mloading_csv\u001b[0;34m(file)\u001b[0m\n\u001b[1;32m     16\u001b[0m         \u001b[0mvalues\u001b[0m\u001b[0;34m.\u001b[0m\u001b[0mappend\u001b[0m\u001b[0;34m(\u001b[0m\u001b[0mval\u001b[0m\u001b[0;34m)\u001b[0m\u001b[0;34m\u001b[0m\u001b[0;34m\u001b[0m\u001b[0m\n\u001b[1;32m     17\u001b[0m \u001b[0;34m\u001b[0m\u001b[0m\n\u001b[0;32m---> 18\u001b[0;31m   \u001b[0mdf\u001b[0m \u001b[0;34m=\u001b[0m \u001b[0mpd\u001b[0m\u001b[0;34m.\u001b[0m\u001b[0mDataFrame\u001b[0m\u001b[0;34m(\u001b[0m\u001b[0mdata\u001b[0m\u001b[0;34m=\u001b[0m\u001b[0mvalues\u001b[0m\u001b[0;34m,\u001b[0m \u001b[0mcolumns\u001b[0m \u001b[0;34m=\u001b[0m \u001b[0mcols\u001b[0m\u001b[0;34m)\u001b[0m\u001b[0;34m\u001b[0m\u001b[0;34m\u001b[0m\u001b[0m\n\u001b[0m\u001b[1;32m     19\u001b[0m   \u001b[0;32mreturn\u001b[0m \u001b[0mdf\u001b[0m\u001b[0;34m\u001b[0m\u001b[0;34m\u001b[0m\u001b[0m\n\u001b[1;32m     20\u001b[0m \u001b[0;34m\u001b[0m\u001b[0m\n",
            "\u001b[0;32m/usr/local/lib/python3.9/dist-packages/pandas/core/frame.py\u001b[0m in \u001b[0;36m__init__\u001b[0;34m(self, data, index, columns, dtype, copy)\u001b[0m\n\u001b[1;32m    719\u001b[0m                         \u001b[0;31m# ndarray], Index, Series], Sequence[Any]]\"\u001b[0m\u001b[0;34m\u001b[0m\u001b[0;34m\u001b[0m\u001b[0m\n\u001b[1;32m    720\u001b[0m                         \u001b[0mcolumns\u001b[0m \u001b[0;34m=\u001b[0m \u001b[0mensure_index\u001b[0m\u001b[0;34m(\u001b[0m\u001b[0mcolumns\u001b[0m\u001b[0;34m)\u001b[0m  \u001b[0;31m# type: ignore[arg-type]\u001b[0m\u001b[0;34m\u001b[0m\u001b[0;34m\u001b[0m\u001b[0m\n\u001b[0;32m--> 721\u001b[0;31m                     arrays, columns, index = nested_data_to_arrays(\n\u001b[0m\u001b[1;32m    722\u001b[0m                         \u001b[0;31m# error: Argument 3 to \"nested_data_to_arrays\" has incompatible\u001b[0m\u001b[0;34m\u001b[0m\u001b[0;34m\u001b[0m\u001b[0m\n\u001b[1;32m    723\u001b[0m                         \u001b[0;31m# type \"Optional[Collection[Any]]\"; expected \"Optional[Index]\"\u001b[0m\u001b[0;34m\u001b[0m\u001b[0;34m\u001b[0m\u001b[0m\n",
            "\u001b[0;32m/usr/local/lib/python3.9/dist-packages/pandas/core/internals/construction.py\u001b[0m in \u001b[0;36mnested_data_to_arrays\u001b[0;34m(data, columns, index, dtype)\u001b[0m\n\u001b[1;32m    517\u001b[0m         \u001b[0mcolumns\u001b[0m \u001b[0;34m=\u001b[0m \u001b[0mensure_index\u001b[0m\u001b[0;34m(\u001b[0m\u001b[0mdata\u001b[0m\u001b[0;34m[\u001b[0m\u001b[0;36m0\u001b[0m\u001b[0;34m]\u001b[0m\u001b[0;34m.\u001b[0m\u001b[0m_fields\u001b[0m\u001b[0;34m)\u001b[0m\u001b[0;34m\u001b[0m\u001b[0;34m\u001b[0m\u001b[0m\n\u001b[1;32m    518\u001b[0m \u001b[0;34m\u001b[0m\u001b[0m\n\u001b[0;32m--> 519\u001b[0;31m     \u001b[0marrays\u001b[0m\u001b[0;34m,\u001b[0m \u001b[0mcolumns\u001b[0m \u001b[0;34m=\u001b[0m \u001b[0mto_arrays\u001b[0m\u001b[0;34m(\u001b[0m\u001b[0mdata\u001b[0m\u001b[0;34m,\u001b[0m \u001b[0mcolumns\u001b[0m\u001b[0;34m,\u001b[0m \u001b[0mdtype\u001b[0m\u001b[0;34m=\u001b[0m\u001b[0mdtype\u001b[0m\u001b[0;34m)\u001b[0m\u001b[0;34m\u001b[0m\u001b[0;34m\u001b[0m\u001b[0m\n\u001b[0m\u001b[1;32m    520\u001b[0m     \u001b[0mcolumns\u001b[0m \u001b[0;34m=\u001b[0m \u001b[0mensure_index\u001b[0m\u001b[0;34m(\u001b[0m\u001b[0mcolumns\u001b[0m\u001b[0;34m)\u001b[0m\u001b[0;34m\u001b[0m\u001b[0;34m\u001b[0m\u001b[0m\n\u001b[1;32m    521\u001b[0m \u001b[0;34m\u001b[0m\u001b[0m\n",
            "\u001b[0;32m/usr/local/lib/python3.9/dist-packages/pandas/core/internals/construction.py\u001b[0m in \u001b[0;36mto_arrays\u001b[0;34m(data, columns, dtype)\u001b[0m\n\u001b[1;32m    881\u001b[0m         \u001b[0marr\u001b[0m \u001b[0;34m=\u001b[0m \u001b[0m_list_to_arrays\u001b[0m\u001b[0;34m(\u001b[0m\u001b[0mdata\u001b[0m\u001b[0;34m)\u001b[0m\u001b[0;34m\u001b[0m\u001b[0;34m\u001b[0m\u001b[0m\n\u001b[1;32m    882\u001b[0m \u001b[0;34m\u001b[0m\u001b[0m\n\u001b[0;32m--> 883\u001b[0;31m     \u001b[0mcontent\u001b[0m\u001b[0;34m,\u001b[0m \u001b[0mcolumns\u001b[0m \u001b[0;34m=\u001b[0m \u001b[0m_finalize_columns_and_data\u001b[0m\u001b[0;34m(\u001b[0m\u001b[0marr\u001b[0m\u001b[0;34m,\u001b[0m \u001b[0mcolumns\u001b[0m\u001b[0;34m,\u001b[0m \u001b[0mdtype\u001b[0m\u001b[0;34m)\u001b[0m\u001b[0;34m\u001b[0m\u001b[0;34m\u001b[0m\u001b[0m\n\u001b[0m\u001b[1;32m    884\u001b[0m     \u001b[0;32mreturn\u001b[0m \u001b[0mcontent\u001b[0m\u001b[0;34m,\u001b[0m \u001b[0mcolumns\u001b[0m\u001b[0;34m\u001b[0m\u001b[0;34m\u001b[0m\u001b[0m\n\u001b[1;32m    885\u001b[0m \u001b[0;34m\u001b[0m\u001b[0m\n",
            "\u001b[0;32m/usr/local/lib/python3.9/dist-packages/pandas/core/internals/construction.py\u001b[0m in \u001b[0;36m_finalize_columns_and_data\u001b[0;34m(content, columns, dtype)\u001b[0m\n\u001b[1;32m    983\u001b[0m     \u001b[0;32mexcept\u001b[0m \u001b[0mAssertionError\u001b[0m \u001b[0;32mas\u001b[0m \u001b[0merr\u001b[0m\u001b[0;34m:\u001b[0m\u001b[0;34m\u001b[0m\u001b[0;34m\u001b[0m\u001b[0m\n\u001b[1;32m    984\u001b[0m         \u001b[0;31m# GH#26429 do not raise user-facing AssertionError\u001b[0m\u001b[0;34m\u001b[0m\u001b[0;34m\u001b[0m\u001b[0m\n\u001b[0;32m--> 985\u001b[0;31m         \u001b[0;32mraise\u001b[0m \u001b[0mValueError\u001b[0m\u001b[0;34m(\u001b[0m\u001b[0merr\u001b[0m\u001b[0;34m)\u001b[0m \u001b[0;32mfrom\u001b[0m \u001b[0merr\u001b[0m\u001b[0;34m\u001b[0m\u001b[0;34m\u001b[0m\u001b[0m\n\u001b[0m\u001b[1;32m    986\u001b[0m \u001b[0;34m\u001b[0m\u001b[0m\n\u001b[1;32m    987\u001b[0m     \u001b[0;32mif\u001b[0m \u001b[0mlen\u001b[0m\u001b[0;34m(\u001b[0m\u001b[0mcontents\u001b[0m\u001b[0;34m)\u001b[0m \u001b[0;32mand\u001b[0m \u001b[0mcontents\u001b[0m\u001b[0;34m[\u001b[0m\u001b[0;36m0\u001b[0m\u001b[0;34m]\u001b[0m\u001b[0;34m.\u001b[0m\u001b[0mdtype\u001b[0m \u001b[0;34m==\u001b[0m \u001b[0mnp\u001b[0m\u001b[0;34m.\u001b[0m\u001b[0mobject_\u001b[0m\u001b[0;34m:\u001b[0m\u001b[0;34m\u001b[0m\u001b[0;34m\u001b[0m\u001b[0m\n",
            "\u001b[0;31mValueError\u001b[0m: 18 columns passed, passed data had 21 columns"
          ]
        }
      ],
      "source": [
        "import pandas as pd\n",
        "\n",
        "def loading_csv(file):\n",
        "  values = []\n",
        "  cols = []\n",
        "  checkcol = False\n",
        "  with open(file) as f:\n",
        "    for val in f.readlines():\n",
        "      val = val.replace(\"\\n\", \"\")\n",
        "      val = val.split(',')\n",
        "\n",
        "      if checkcol is False:\n",
        "        cols = val\n",
        "        checkcol = True\n",
        "      else:\n",
        "        values.append(val)\n",
        "  \n",
        "  df = pd.DataFrame(data=values, columns = cols)\n",
        "  return df\n",
        "\n",
        "df_loaded_csv = loading_csv('/content/36238_IMDd-Movie-Database.csv')\n",
        "print(df_loaded_csv)\n",
        "\n",
        "# df = pd.read_csv('/content/36238_IMDd-Movie-Database.csv')\n",
        "# df.head(1)"
      ]
    },
    {
      "cell_type": "markdown",
      "metadata": {
        "id": "eylZqWoGOibv"
      },
      "source": [
        "# Lecture 9"
      ]
    },
    {
      "cell_type": "code",
      "execution_count": null,
      "metadata": {
        "colab": {
          "base_uri": "https://localhost:8080/"
        },
        "id": "JemopZzF3WJ2",
        "outputId": "a71aa166-e2c7-4284-e08b-93f49a1b1b98"
      },
      "outputs": [
        {
          "data": {
            "text/plain": [
              "PassengerId    0\n",
              "Survived       0\n",
              "Pclass         0\n",
              "Name           0\n",
              "Sex            0\n",
              "Age            0\n",
              "SibSp          0\n",
              "Parch          0\n",
              "Ticket         0\n",
              "Fare           0\n",
              "Cabin          0\n",
              "Embarked       0\n",
              "dtype: int64"
            ]
          },
          "execution_count": 5,
          "metadata": {},
          "output_type": "execute_result"
        }
      ],
      "source": [
        "import pandas as pd\n",
        "df = pd.read_csv('/content/train (1).csv')\n",
        "df.dropna() # Drop null values\n",
        "df.isnull().sum() # Show number of null values in each column"
      ]
    },
    {
      "cell_type": "code",
      "execution_count": null,
      "metadata": {
        "colab": {
          "base_uri": "https://localhost:8080/"
        },
        "id": "SZldrjj3PDyo",
        "outputId": "5694b809-9245-4fa0-fa37-20b9e6c6c485"
      },
      "outputs": [
        {
          "name": "stdout",
          "output_type": "stream",
          "text": [
            "Index(['survived', 'pclass', 'sex', 'age', 'sibsp', 'parch', 'fare',\n",
            "       'embarked', 'class', 'who', 'adult_male', 'deck', 'embark_town',\n",
            "       'alive', 'alone'],\n",
            "      dtype='object') \n",
            "\n",
            "<bound method NDFrame.head of      survived  pclass     sex   age  sibsp  parch     fare embarked   class  \\\n",
            "0           0       3    male  22.0      1      0   7.2500        S   Third   \n",
            "1           1       1  female  38.0      1      0  71.2833        C   First   \n",
            "2           1       3  female  26.0      0      0   7.9250        S   Third   \n",
            "3           1       1  female  35.0      1      0  53.1000        S   First   \n",
            "4           0       3    male  35.0      0      0   8.0500        S   Third   \n",
            "..        ...     ...     ...   ...    ...    ...      ...      ...     ...   \n",
            "886         0       2    male  27.0      0      0  13.0000        S  Second   \n",
            "887         1       1  female  19.0      0      0  30.0000        S   First   \n",
            "888         0       3  female   NaN      1      2  23.4500        S   Third   \n",
            "889         1       1    male  26.0      0      0  30.0000        C   First   \n",
            "890         0       3    male  32.0      0      0   7.7500        Q   Third   \n",
            "\n",
            "       who  adult_male deck  embark_town alive  alone  \n",
            "0      man        True  NaN  Southampton    no  False  \n",
            "1    woman       False    C    Cherbourg   yes  False  \n",
            "2    woman       False  NaN  Southampton   yes   True  \n",
            "3    woman       False    C  Southampton   yes  False  \n",
            "4      man        True  NaN  Southampton    no   True  \n",
            "..     ...         ...  ...          ...   ...    ...  \n",
            "886    man        True  NaN  Southampton    no   True  \n",
            "887  woman       False    B  Southampton   yes   True  \n",
            "888  woman       False  NaN  Southampton    no  False  \n",
            "889    man        True    C    Cherbourg   yes   True  \n",
            "890    man        True  NaN   Queenstown    no   True  \n",
            "\n",
            "[891 rows x 15 columns]>\n"
          ]
        }
      ],
      "source": [
        "import seaborn as sns\n",
        "import matplotlib.pyplot as plt\n",
        "df = sns.load_dataset('titanic')\n",
        "print(df.columns, \"\\n\")\n",
        "print(df.head)"
      ]
    },
    {
      "cell_type": "code",
      "execution_count": null,
      "metadata": {
        "colab": {
          "base_uri": "https://localhost:8080/",
          "height": 174
        },
        "id": "yy0IK0TnXqm2",
        "outputId": "d732659e-4028-48e9-acc9-e38bed2551d0"
      },
      "outputs": [
        {
          "data": {
            "text/html": [
              "\n",
              "  <div id=\"df-cd8dc950-f645-4c45-a2b8-5879054f9282\">\n",
              "    <div class=\"colab-df-container\">\n",
              "      <div>\n",
              "<style scoped>\n",
              "    .dataframe tbody tr th:only-of-type {\n",
              "        vertical-align: middle;\n",
              "    }\n",
              "\n",
              "    .dataframe tbody tr th {\n",
              "        vertical-align: top;\n",
              "    }\n",
              "\n",
              "    .dataframe thead th {\n",
              "        text-align: right;\n",
              "    }\n",
              "</style>\n",
              "<table border=\"1\" class=\"dataframe\">\n",
              "  <thead>\n",
              "    <tr style=\"text-align: right;\">\n",
              "      <th></th>\n",
              "      <th>sex</th>\n",
              "      <th>embarked</th>\n",
              "      <th>who</th>\n",
              "      <th>embark_town</th>\n",
              "      <th>alive</th>\n",
              "    </tr>\n",
              "  </thead>\n",
              "  <tbody>\n",
              "    <tr>\n",
              "      <th>count</th>\n",
              "      <td>891</td>\n",
              "      <td>889</td>\n",
              "      <td>891</td>\n",
              "      <td>889</td>\n",
              "      <td>891</td>\n",
              "    </tr>\n",
              "    <tr>\n",
              "      <th>unique</th>\n",
              "      <td>2</td>\n",
              "      <td>3</td>\n",
              "      <td>3</td>\n",
              "      <td>3</td>\n",
              "      <td>2</td>\n",
              "    </tr>\n",
              "    <tr>\n",
              "      <th>top</th>\n",
              "      <td>male</td>\n",
              "      <td>S</td>\n",
              "      <td>man</td>\n",
              "      <td>Southampton</td>\n",
              "      <td>no</td>\n",
              "    </tr>\n",
              "    <tr>\n",
              "      <th>freq</th>\n",
              "      <td>577</td>\n",
              "      <td>644</td>\n",
              "      <td>537</td>\n",
              "      <td>644</td>\n",
              "      <td>549</td>\n",
              "    </tr>\n",
              "  </tbody>\n",
              "</table>\n",
              "</div>\n",
              "      <button class=\"colab-df-convert\" onclick=\"convertToInteractive('df-cd8dc950-f645-4c45-a2b8-5879054f9282')\"\n",
              "              title=\"Convert this dataframe to an interactive table.\"\n",
              "              style=\"display:none;\">\n",
              "        \n",
              "  <svg xmlns=\"http://www.w3.org/2000/svg\" height=\"24px\"viewBox=\"0 0 24 24\"\n",
              "       width=\"24px\">\n",
              "    <path d=\"M0 0h24v24H0V0z\" fill=\"none\"/>\n",
              "    <path d=\"M18.56 5.44l.94 2.06.94-2.06 2.06-.94-2.06-.94-.94-2.06-.94 2.06-2.06.94zm-11 1L8.5 8.5l.94-2.06 2.06-.94-2.06-.94L8.5 2.5l-.94 2.06-2.06.94zm10 10l.94 2.06.94-2.06 2.06-.94-2.06-.94-.94-2.06-.94 2.06-2.06.94z\"/><path d=\"M17.41 7.96l-1.37-1.37c-.4-.4-.92-.59-1.43-.59-.52 0-1.04.2-1.43.59L10.3 9.45l-7.72 7.72c-.78.78-.78 2.05 0 2.83L4 21.41c.39.39.9.59 1.41.59.51 0 1.02-.2 1.41-.59l7.78-7.78 2.81-2.81c.8-.78.8-2.07 0-2.86zM5.41 20L4 18.59l7.72-7.72 1.47 1.35L5.41 20z\"/>\n",
              "  </svg>\n",
              "      </button>\n",
              "      \n",
              "  <style>\n",
              "    .colab-df-container {\n",
              "      display:flex;\n",
              "      flex-wrap:wrap;\n",
              "      gap: 12px;\n",
              "    }\n",
              "\n",
              "    .colab-df-convert {\n",
              "      background-color: #E8F0FE;\n",
              "      border: none;\n",
              "      border-radius: 50%;\n",
              "      cursor: pointer;\n",
              "      display: none;\n",
              "      fill: #1967D2;\n",
              "      height: 32px;\n",
              "      padding: 0 0 0 0;\n",
              "      width: 32px;\n",
              "    }\n",
              "\n",
              "    .colab-df-convert:hover {\n",
              "      background-color: #E2EBFA;\n",
              "      box-shadow: 0px 1px 2px rgba(60, 64, 67, 0.3), 0px 1px 3px 1px rgba(60, 64, 67, 0.15);\n",
              "      fill: #174EA6;\n",
              "    }\n",
              "\n",
              "    [theme=dark] .colab-df-convert {\n",
              "      background-color: #3B4455;\n",
              "      fill: #D2E3FC;\n",
              "    }\n",
              "\n",
              "    [theme=dark] .colab-df-convert:hover {\n",
              "      background-color: #434B5C;\n",
              "      box-shadow: 0px 1px 3px 1px rgba(0, 0, 0, 0.15);\n",
              "      filter: drop-shadow(0px 1px 2px rgba(0, 0, 0, 0.3));\n",
              "      fill: #FFFFFF;\n",
              "    }\n",
              "  </style>\n",
              "\n",
              "      <script>\n",
              "        const buttonEl =\n",
              "          document.querySelector('#df-cd8dc950-f645-4c45-a2b8-5879054f9282 button.colab-df-convert');\n",
              "        buttonEl.style.display =\n",
              "          google.colab.kernel.accessAllowed ? 'block' : 'none';\n",
              "\n",
              "        async function convertToInteractive(key) {\n",
              "          const element = document.querySelector('#df-cd8dc950-f645-4c45-a2b8-5879054f9282');\n",
              "          const dataTable =\n",
              "            await google.colab.kernel.invokeFunction('convertToInteractive',\n",
              "                                                     [key], {});\n",
              "          if (!dataTable) return;\n",
              "\n",
              "          const docLinkHtml = 'Like what you see? Visit the ' +\n",
              "            '<a target=\"_blank\" href=https://colab.research.google.com/notebooks/data_table.ipynb>data table notebook</a>'\n",
              "            + ' to learn more about interactive tables.';\n",
              "          element.innerHTML = '';\n",
              "          dataTable['output_type'] = 'display_data';\n",
              "          await google.colab.output.renderOutput(dataTable, element);\n",
              "          const docLink = document.createElement('div');\n",
              "          docLink.innerHTML = docLinkHtml;\n",
              "          element.appendChild(docLink);\n",
              "        }\n",
              "      </script>\n",
              "    </div>\n",
              "  </div>\n",
              "  "
            ],
            "text/plain": [
              "         sex embarked  who  embark_town alive\n",
              "count    891      889  891          889   891\n",
              "unique     2        3    3            3     2\n",
              "top     male        S  man  Southampton    no\n",
              "freq     577      644  537          644   549"
            ]
          },
          "execution_count": 12,
          "metadata": {},
          "output_type": "execute_result"
        }
      ],
      "source": [
        "df.describe(include=['O'])"
      ]
    },
    {
      "cell_type": "code",
      "execution_count": null,
      "metadata": {
        "colab": {
          "base_uri": "https://localhost:8080/"
        },
        "id": "8vxAGXUfYm3F",
        "outputId": "e1960745-5841-40b3-ab35-3d695f1480f2"
      },
      "outputs": [
        {
          "data": {
            "text/plain": [
              "(891, 15)"
            ]
          },
          "execution_count": 14,
          "metadata": {},
          "output_type": "execute_result"
        }
      ],
      "source": [
        "df.shape"
      ]
    },
    {
      "cell_type": "code",
      "execution_count": null,
      "metadata": {
        "colab": {
          "base_uri": "https://localhost:8080/",
          "height": 472
        },
        "id": "aVhWozlhYu5G",
        "outputId": "a6db42a5-0e19-4bf0-dbdf-3eb0980b457e"
      },
      "outputs": [
        {
          "data": {
            "image/png": "[encoded data removed]",
            "text/plain": [
              "<Figure size 640x480 with 1 Axes>"
            ]
          },
          "metadata": {},
          "output_type": "display_data"
        }
      ],
      "source": [
        "df1 = df.groupby('class')['fare'].sum().to_frame().reset_index()\n",
        "# Creating the column plot\n",
        "plt.bar(df1['class'], df1['fare'], color = ['#FFAFFF', '#FF00AA', '#00FFFF'])\n",
        "# Adding aesthetics\n",
        "plt.title('Fares for different ages and genders')\n",
        "plt.xlabel('Who')\n",
        "plt.ylabel('Fare')\n",
        "plt.show()"
      ]
    },
    {
      "cell_type": "code",
      "execution_count": null,
      "metadata": {
        "id": "jweqMqFbZvzz"
      },
      "outputs": [],
      "source": [
        "df['embark_town'].head()"
      ]
    },
    {
      "cell_type": "code",
      "execution_count": null,
      "metadata": {
        "colab": {
          "base_uri": "https://localhost:8080/",
          "height": 486
        },
        "id": "fgc6wJxoZSZP",
        "outputId": "29f6fea3-bbfa-4b78-d133-ce928159d339"
      },
      "outputs": [
        {
          "data": {
            "image/png": "[encoded data removed]",
            "text/plain": [
              "<Figure size 640x480 with 1 Axes>"
            ]
          },
          "metadata": {},
          "output_type": "display_data"
        }
      ],
      "source": [
        "import numpy as np\n",
        "df_pivot = pd.pivot_table(df, values=\"survived\", index=\"who\", columns=\"class\", aggfunc=np.mean)\n",
        "ax = df_pivot.plot(kind=\"bar\", alpha=0.5)\n",
        "plt.show()"
      ]
    },
    {
      "cell_type": "markdown",
      "metadata": {
        "id": "61qoMNEtUc1k"
      },
      "source": [
        "# Lecture 10\n",
        "# Visualizations"
      ]
    },
    {
      "cell_type": "code",
      "execution_count": null,
      "metadata": {
        "colab": {
          "base_uri": "https://localhost:8080/",
          "height": 497
        },
        "id": "YP-36fKuU1bp",
        "outputId": "bb485222-2e66-4e6b-94fc-5a6b36dc9803"
      },
      "outputs": [
        {
          "output_type": "execute_result",
          "data": {
            "text/plain": [
              "<Axes: xlabel='A'>"
            ]
          },
          "metadata": {},
          "execution_count": 71
        },
        {
          "output_type": "display_data",
          "data": {
            "text/plain": [
              "<Figure size 640x480 with 1 Axes>"
            ],
            "image/png": "[encoded data removed]"
          },
          "metadata": {}
        }
      ],
      "source": [
        "#@title \n",
        "import pandas as pd\n",
        "df = pd.DataFrame(columns=[\"A\", \"B\", \"C\", \"D\"], \n",
        "                  data=[[\"umar\", 0, 1, 1],\n",
        "                        [\"jawad\", 1, 1, 0],\n",
        "                        [\"hamid\", 0, 1, 0]])\n",
        "\n",
        "df.plot.bar(x='A', y=[\"B\", \"C\", \"D\"], width=0.4, alpha=0.5)"
      ]
    },
    {
      "cell_type": "code",
      "execution_count": null,
      "metadata": {
        "colab": {
          "base_uri": "https://localhost:8080/",
          "height": 497
        },
        "id": "x_vzGQloVnNa",
        "outputId": "3711b219-79d0-4a7a-a854-11b9e8f7d526"
      },
      "outputs": [
        {
          "data": {
            "text/plain": [
              "<Axes: xlabel='A'>"
            ]
          },
          "execution_count": 4,
          "metadata": {},
          "output_type": "execute_result"
        },
        {
          "data": {
            "image/png": "[encoded data removed]",
            "text/plain": [
              "<Figure size 640x480 with 1 Axes>"
            ]
          },
          "metadata": {},
          "output_type": "display_data"
        }
      ],
      "source": [
        "dataframe = pd.DataFrame(columns=[\"A\", \"B\", \"C\", \"D\"],\n",
        "                         data=[[\"umar\", 0, 1, 1],\n",
        "                               [\"jawad\", 1, 1, 0],\n",
        "                               [\"hamid\", 0, 1, 0]])\n",
        "\n",
        "df.plot.bar(x='A', y=[\"B\", \"C\", \"D\"], stacked=True, width=0.4, alpha=0.5)"
      ]
    },
    {
      "cell_type": "code",
      "execution_count": null,
      "metadata": {
        "colab": {
          "base_uri": "https://localhost:8080/",
          "height": 244
        },
        "id": "mV9B_ScCaWew",
        "outputId": "eee52d4a-5e38-4157-d147-36095acda4d7"
      },
      "outputs": [
        {
          "output_type": "error",
          "ename": "NameError",
          "evalue": "ignored",
          "traceback": [
            "\u001b[0;31m---------------------------------------------------------------------------\u001b[0m",
            "\u001b[0;31mNameError\u001b[0m                                 Traceback (most recent call last)",
            "\u001b[0;32m<ipython-input-75-ee15226704c5>\u001b[0m in \u001b[0;36m<cell line: 6>\u001b[0;34m()\u001b[0m\n\u001b[1;32m      4\u001b[0m \u001b[0mdf\u001b[0m \u001b[0;34m=\u001b[0m \u001b[0mdf\u001b[0m\u001b[0;34m.\u001b[0m\u001b[0mgroupby\u001b[0m\u001b[0;34m(\u001b[0m\u001b[0;34m'sepal_length'\u001b[0m\u001b[0;34m)\u001b[0m\u001b[0;34m[\u001b[0m\u001b[0;34m'sepal_width'\u001b[0m\u001b[0;34m]\u001b[0m\u001b[0;34m.\u001b[0m\u001b[0msum\u001b[0m\u001b[0;34m(\u001b[0m\u001b[0;34m)\u001b[0m\u001b[0;34m.\u001b[0m\u001b[0mto_frame\u001b[0m\u001b[0;34m(\u001b[0m\u001b[0;34m)\u001b[0m\u001b[0;34m.\u001b[0m\u001b[0mreset_index\u001b[0m\u001b[0;34m(\u001b[0m\u001b[0;34m)\u001b[0m\u001b[0;34m\u001b[0m\u001b[0;34m\u001b[0m\u001b[0m\n\u001b[1;32m      5\u001b[0m \u001b[0;34m\u001b[0m\u001b[0m\n\u001b[0;32m----> 6\u001b[0;31m \u001b[0mplt\u001b[0m\u001b[0;34m.\u001b[0m\u001b[0mplot\u001b[0m\u001b[0;34m(\u001b[0m\u001b[0mdf\u001b[0m\u001b[0;34m[\u001b[0m\u001b[0;34m'sepal_length'\u001b[0m\u001b[0;34m]\u001b[0m\u001b[0;34m,\u001b[0m \u001b[0mdf\u001b[0m\u001b[0;34m[\u001b[0m\u001b[0;34m'sepal_width'\u001b[0m\u001b[0;34m]\u001b[0m\u001b[0;34m)\u001b[0m\u001b[0;34m\u001b[0m\u001b[0;34m\u001b[0m\u001b[0m\n\u001b[0m\u001b[1;32m      7\u001b[0m \u001b[0mplt\u001b[0m\u001b[0;34m.\u001b[0m\u001b[0mtitle\u001b[0m\u001b[0;34m(\u001b[0m\u001b[0;34m'Sepal measurements'\u001b[0m\u001b[0;34m)\u001b[0m\u001b[0;34m\u001b[0m\u001b[0;34m\u001b[0m\u001b[0m\n\u001b[1;32m      8\u001b[0m \u001b[0mplt\u001b[0m\u001b[0;34m.\u001b[0m\u001b[0mxlabel\u001b[0m\u001b[0;34m(\u001b[0m\u001b[0;34m'Sepal length'\u001b[0m\u001b[0;34m)\u001b[0m\u001b[0;34m\u001b[0m\u001b[0;34m\u001b[0m\u001b[0m\n",
            "\u001b[0;31mNameError\u001b[0m: name 'plt' is not defined"
          ]
        }
      ],
      "source": [
        "import seaborn as sns\n",
        "df = sns.load_dataset(\"iris\")\n",
        "\n",
        "df = df.groupby('sepal_length')['sepal_width'].sum().to_frame().reset_index()\n",
        "\n",
        "plt.plot(df['sepal_length'], df['sepal_width'])\n",
        "plt.title('Sepal measurements')\n",
        "plt.xlabel('Sepal length')\n",
        "plt.ylabel('Sepal width')\n",
        "plt.show()"
      ]
    },
    {
      "cell_type": "code",
      "execution_count": null,
      "metadata": {
        "colab": {
          "base_uri": "https://localhost:8080/",
          "height": 428
        },
        "id": "pdmjsaOVZibS",
        "outputId": "de33b198-bdd5-4132-f022-69e825dc4e39"
      },
      "outputs": [
        {
          "data": {
            "image/png": "[encoded data removed]",
            "text/plain": [
              "<Figure size 640x480 with 1 Axes>"
            ]
          },
          "metadata": {},
          "output_type": "display_data"
        }
      ],
      "source": [
        "import matplotlib.pyplot as plt\n",
        "\n",
        "item = ['Table', 'Chair', 'Computer', 'laptops', 'Books', 'mobile']\n",
        "\n",
        "data = [20, 15, 15, 14, 16, 20]\n",
        "\n",
        "plt.pie(data, labels=item, colors=['#F0F8FF', '#E6E6FA', '#B0E0E6', '#7B68EE', '#483D8B'])\n",
        "\n",
        "plt.title('Chart title')\n",
        "\n",
        "plt.show()"
      ]
    },
    {
      "cell_type": "code",
      "execution_count": null,
      "metadata": {
        "colab": {
          "base_uri": "https://localhost:8080/",
          "height": 472
        },
        "id": "VhL83pHGZ-y4",
        "outputId": "08490039-dec9-4283-fa1f-042104e7012f"
      },
      "outputs": [
        {
          "data": {
            "image/png": "[encoded data removed]",
            "text/plain": [
              "<Figure size 640x480 with 1 Axes>"
            ]
          },
          "metadata": {},
          "output_type": "display_data"
        }
      ],
      "source": [
        "x = range(1, 6)\n",
        "y = [[1,4,6,8,9], [2,2,7,10,12], [2,8, 5, 10, 6]]\n",
        "\n",
        "ax = plt.gca()\n",
        "ax.stackplot(x, y, labels=['A', 'B', 'C'], alpha=0.5)\n",
        "\n",
        "plt.legend(loc='upper left')\n",
        "plt.title('Area Chart')\n",
        "plt.xlabel('X axis title')\n",
        "plt.ylabel('Y axis title')\n",
        "plt.show()"
      ]
    },
    {
      "cell_type": "code",
      "execution_count": null,
      "metadata": {
        "id": "KsRVOlt2b7aJ"
      },
      "outputs": [],
      "source": [
        "years_of_expereince = [1, 2, 3]\n",
        "salary = [[6, 8, 10], [4,5,9], [3,5,7]]\n",
        "\n",
        "plt.stackplot(years_of_expereince, salary, labels=['Company A', 'Company B', 'Company C'])\n",
        "\n",
        "plt.legend(loc='upper left')\n",
        "plt.title('Area Chart using Seaborn')\n",
        "plt.xlabel('X axis')\n",
        "plt.ylabel('Y axis')\n",
        "\n",
        "plt.show()"
      ]
    },
    {
      "cell_type": "markdown",
      "source": [
        "# Task: All visualizations and conclude each graph"
      ],
      "metadata": {
        "id": "9y3ikyeAr_t6"
      }
    },
    {
      "cell_type": "code",
      "source": [
        "import seaborn as sns\n",
        "import pandas as pd\n",
        "import matplotlib.pyplot as plt\n",
        "# Task: All visualizations and conclude each graph\n",
        "titanic = pd.read_csv('/content/titanic.csv')\n",
        "\n",
        "# Data Handling\n",
        "print('Shape of dataset:', titanic.shape, \"\\n\")\n",
        "print('Column names:', list(titanic.columns), \"\\n\")\n",
        "print('Categorical data:')\n",
        "print(titanic.describe(include=['O']), \"\\n\")\n",
        "\n"
      ],
      "metadata": {
        "id": "ox2FMzHP3P5a",
        "outputId": "178d65fb-80c7-4f27-83c3-e0e42d31df2c",
        "colab": {
          "base_uri": "https://localhost:8080/"
        }
      },
      "execution_count": null,
      "outputs": [
        {
          "output_type": "stream",
          "name": "stdout",
          "text": [
            "Shape of dataset: (891, 12) \n",
            "\n",
            "Column names: ['PassengerId', 'Survived', 'Pclass', 'Name', 'Sex', 'Age', 'SibSp', 'Parch', 'Ticket', 'Fare', 'Cabin', 'Embarked'] \n",
            "\n",
            "Categorical data:\n",
            "                           Name   Sex  Ticket    Cabin Embarked\n",
            "count                       891   891     891      204      889\n",
            "unique                      891     2     681      147        3\n",
            "top     Braund, Mr. Owen Harris  male  347082  B96 B98        S\n",
            "freq                          1   577       7        4      644 \n",
            "\n"
          ]
        }
      ]
    },
    {
      "cell_type": "code",
      "execution_count": null,
      "metadata": {
        "colab": {
          "base_uri": "https://localhost:8080/",
          "height": 1000
        },
        "id": "wAMscVPwk1sm",
        "outputId": "60204df3-09d8-4fb7-f26c-2957d5cc1e96"
      },
      "outputs": [
        {
          "output_type": "stream",
          "name": "stdout",
          "text": [
            "Shape of dataset: (891, 12) \n",
            "\n",
            "Column names: ['PassengerId', 'Survived', 'Pclass', 'Name', 'Sex', 'Age', 'SibSp', 'Parch', 'Ticket', 'Fare', 'Cabin', 'Embarked'] \n",
            "\n",
            "Categorical data:\n",
            "                           Name   Sex  Ticket    Cabin Embarked\n",
            "count                       891   891     891      204      889\n",
            "unique                      891     2     681      147        3\n",
            "top     Braund, Mr. Owen Harris  male  347082  B96 B98        S\n",
            "freq                          1   577       7        4      644 \n",
            "\n"
          ]
        },
        {
          "output_type": "display_data",
          "data": {
            "text/plain": [
              "<Figure size 640x480 with 1 Axes>"
            ],
            "image/png": "[encoded data removed]"
          },
          "metadata": {}
        },
        {
          "output_type": "display_data",
          "data": {
            "text/plain": [
              "<Figure size 640x480 with 1 Axes>"
            ],
            "image/png": "[encoded data removed]"
          },
          "metadata": {}
        },
        {
          "output_type": "display_data",
          "data": {
            "text/plain": [
              "<Figure size 800x600 with 1 Axes>"
            ],
            "image/png": "[encoded data removed]"
          },
          "metadata": {}
        }
      ],
      "source": [
        "# Visualizations\n",
        "# 1. Column Chart using Seaborn\n",
        "sns.barplot(x='Sex', y='Fare', data=titanic, palette=\"Blues\")\n",
        "plt.title('Column Chart using Seaborn')\n",
        "plt.xlabel('Sex')\n",
        "plt.ylabel('Fare')\n",
        "plt.show()\n",
        "\n",
        "# 2. Grouped Bar Chart using Seaborn\n",
        "sns.barplot(x='Sex', y='Fare', data=titanic, hue='Pclass', palette=\"Blues\")\n",
        "plt.title('Grouped Bar Chart using Seaborn')\n",
        "plt.xlabel('Sex')\n",
        "plt.ylabel('Fare')\n",
        "plt.show()\n",
        "\n",
        "# 3. Stacked Bar Chart using Seaborn \n",
        "t1 = titanic.filter(items=['Sex', 'Survived'])\n",
        "plt.figure(figsize=(8, 6))\n",
        "sns.countplot(data=t1, x='Sex', hue='Survived')\n",
        "\n",
        "plt.title('Stacked Bar Chart using Seaborn')\n",
        "plt.xlabel('Sex')\n",
        "plt.ylabel('Count')\n",
        "plt.show()\n"
      ]
    },
    {
      "cell_type": "code",
      "execution_count": null,
      "metadata": {
        "id": "P_qPriSAlud9",
        "colab": {
          "base_uri": "https://localhost:8080/",
          "height": 1000
        },
        "outputId": "cca9ced3-caec-4fad-be6c-e714877e1ec9"
      },
      "outputs": [
        {
          "output_type": "display_data",
          "data": {
            "text/plain": [
              "<Figure size 640x480 with 1 Axes>"
            ],
            "image/png": "[encoded data removed]"
          },
          "metadata": {}
        },
        {
          "output_type": "display_data",
          "data": {
            "text/plain": [
              "<Figure size 1200x600 with 2 Axes>"
            ],
            "image/png": "[encoded data removed]"
          },
          "metadata": {}
        }
      ],
      "source": [
        "# 4. Line chart using matplotlib\n",
        "titanic = pd.read_csv('/content/titanic.csv')\n",
        "t2 = titanic.groupby('Age')['Fare'].sum().to_frame().reset_index()\n",
        "plt.plot(t2['Age'], t2['Fare'])\n",
        "plt.suptitle('Line chart using matplotlib: Relation of Fare with Age')\n",
        "plt.show()\n",
        "\n",
        "#5. Pie Chart using matplotlib\n",
        "# Group the data by 'Sex' and 'Survived' and count the number of occurrences\n",
        "grouped_data = titanic.groupby(['Sex', 'Survived']).size().reset_index(name='Count')\n",
        "\n",
        "# Create pie charts for each sex\n",
        "fig, ax = plt.subplots(1, 2, figsize=(12, 6))\n",
        "\n",
        "for i, sex in enumerate(grouped_data['Sex'].unique()):\n",
        "    sex_data = grouped_data[grouped_data['Sex'] == sex]\n",
        "    ax[i].pie(sex_data['Count'], labels=sex_data['Survived'], autopct='%1.1f%%')\n",
        "    ax[i].set_title(f\"{sex.capitalize()} Survivors\")\n",
        "\n",
        "plt.suptitle('Pie Chart using matplotlib: Survival Proportions by Sex')\n",
        "plt.show()"
      ]
    },
    {
      "cell_type": "code",
      "source": [
        "# 6. Area chart using Seaborn\n",
        "titanic = pd.read_csv('/content/titanic.csv')\n",
        "male_data = titanic[titanic['Sex']=='Male']\n",
        "female_data = titanic[titanic['Sex']=='Female']\n",
        "\n",
        "male_ages = male_data['Age'].value_counts()\n",
        "female_ages = female_data['Age'].value_counts()\n",
        "\n",
        "male_fares = male_data['Fare'].value_counts()\n",
        "female_fares = female_data['Fare'].value_counts()\n",
        "\n",
        "plt.stackplot([male_ages, female_ages], [male_fares, female_fares], labels=['Male, Female'])\n",
        "plt.show()"
      ],
      "metadata": {
        "colab": {
          "base_uri": "https://localhost:8080/",
          "height": 925
        },
        "id": "0btbN0awyT82",
        "outputId": "c60a93eb-c9b2-4559-968a-7383511da64d"
      },
      "execution_count": null,
      "outputs": [
        {
          "output_type": "stream",
          "name": "stderr",
          "text": [
            "<ipython-input-106-de42cbe81b08>:6: SettingWithCopyWarning: \n",
            "A value is trying to be set on a copy of a slice from a DataFrame.\n",
            "Try using .loc[row_indexer,col_indexer] = value instead\n",
            "\n",
            "See the caveats in the documentation: https://pandas.pydata.org/pandas-docs/stable/user_guide/indexing.html#returning-a-view-versus-a-copy\n",
            "  titanic['Age_bin'] = pd.cut(titanic['Age'], bins=np.arange(0, 90, 5), include_lowest=True)\n"
          ]
        },
        {
          "output_type": "error",
          "ename": "TypeError",
          "evalue": "ignored",
          "traceback": [
            "\u001b[0;31m---------------------------------------------------------------------------\u001b[0m",
            "\u001b[0;31mTypeError\u001b[0m                                 Traceback (most recent call last)",
            "\u001b[0;32m/usr/local/lib/python3.9/dist-packages/pandas/_libs/lib.pyx\u001b[0m in \u001b[0;36mpandas._libs.lib.maybe_convert_numeric\u001b[0;34m()\u001b[0m\n",
            "\u001b[0;31mTypeError\u001b[0m: Invalid object type",
            "\nDuring handling of the above exception, another exception occurred:\n",
            "\u001b[0;31mTypeError\u001b[0m                                 Traceback (most recent call last)",
            "\u001b[0;32m<ipython-input-106-de42cbe81b08>\u001b[0m in \u001b[0;36m<cell line: 15>\u001b[0;34m()\u001b[0m\n\u001b[1;32m     15\u001b[0m \u001b[0;32mfor\u001b[0m \u001b[0msex\u001b[0m\u001b[0;34m,\u001b[0m \u001b[0mcolor\u001b[0m \u001b[0;32min\u001b[0m \u001b[0mzip\u001b[0m\u001b[0;34m(\u001b[0m\u001b[0;34m[\u001b[0m\u001b[0;34m'male'\u001b[0m\u001b[0;34m,\u001b[0m \u001b[0;34m'female'\u001b[0m\u001b[0;34m]\u001b[0m\u001b[0;34m,\u001b[0m \u001b[0;34m[\u001b[0m\u001b[0;34m'skyblue'\u001b[0m\u001b[0;34m,\u001b[0m \u001b[0;34m'orange'\u001b[0m\u001b[0;34m]\u001b[0m\u001b[0;34m)\u001b[0m\u001b[0;34m:\u001b[0m\u001b[0;34m\u001b[0m\u001b[0;34m\u001b[0m\u001b[0m\n\u001b[1;32m     16\u001b[0m     \u001b[0msex_data\u001b[0m \u001b[0;34m=\u001b[0m \u001b[0mgrouped_data\u001b[0m\u001b[0;34m[\u001b[0m\u001b[0mgrouped_data\u001b[0m\u001b[0;34m[\u001b[0m\u001b[0;34m'Sex'\u001b[0m\u001b[0;34m]\u001b[0m \u001b[0;34m==\u001b[0m \u001b[0msex\u001b[0m\u001b[0;34m]\u001b[0m\u001b[0;34m\u001b[0m\u001b[0;34m\u001b[0m\u001b[0m\n\u001b[0;32m---> 17\u001b[0;31m     \u001b[0msns\u001b[0m\u001b[0;34m.\u001b[0m\u001b[0mlineplot\u001b[0m\u001b[0;34m(\u001b[0m\u001b[0mdata\u001b[0m\u001b[0;34m=\u001b[0m\u001b[0msex_data\u001b[0m\u001b[0;34m,\u001b[0m \u001b[0mx\u001b[0m\u001b[0;34m=\u001b[0m\u001b[0;34m'Age_bin'\u001b[0m\u001b[0;34m,\u001b[0m \u001b[0my\u001b[0m\u001b[0;34m=\u001b[0m\u001b[0;34m'Fare'\u001b[0m\u001b[0;34m,\u001b[0m \u001b[0mlabel\u001b[0m\u001b[0;34m=\u001b[0m\u001b[0;34mf'{sex.capitalize()}'\u001b[0m\u001b[0;34m,\u001b[0m \u001b[0mcolor\u001b[0m\u001b[0;34m=\u001b[0m\u001b[0mcolor\u001b[0m\u001b[0;34m)\u001b[0m\u001b[0;34m\u001b[0m\u001b[0;34m\u001b[0m\u001b[0m\n\u001b[0m\u001b[1;32m     18\u001b[0m     \u001b[0mplt\u001b[0m\u001b[0;34m.\u001b[0m\u001b[0mfill_between\u001b[0m\u001b[0;34m(\u001b[0m\u001b[0msex_data\u001b[0m\u001b[0;34m[\u001b[0m\u001b[0;34m'Age_bin'\u001b[0m\u001b[0;34m]\u001b[0m\u001b[0;34m.\u001b[0m\u001b[0mapply\u001b[0m\u001b[0;34m(\u001b[0m\u001b[0;32mlambda\u001b[0m \u001b[0mx\u001b[0m\u001b[0;34m:\u001b[0m \u001b[0mx\u001b[0m\u001b[0;34m.\u001b[0m\u001b[0mmid\u001b[0m\u001b[0;34m)\u001b[0m\u001b[0;34m.\u001b[0m\u001b[0mastype\u001b[0m\u001b[0;34m(\u001b[0m\u001b[0mfloat\u001b[0m\u001b[0;34m)\u001b[0m\u001b[0;34m,\u001b[0m \u001b[0msex_data\u001b[0m\u001b[0;34m[\u001b[0m\u001b[0;34m'Fare'\u001b[0m\u001b[0;34m]\u001b[0m\u001b[0;34m,\u001b[0m \u001b[0mcolor\u001b[0m\u001b[0;34m=\u001b[0m\u001b[0mcolor\u001b[0m\u001b[0;34m,\u001b[0m \u001b[0malpha\u001b[0m\u001b[0;34m=\u001b[0m\u001b[0;36m0.4\u001b[0m\u001b[0;34m)\u001b[0m\u001b[0;34m\u001b[0m\u001b[0;34m\u001b[0m\u001b[0m\n\u001b[1;32m     19\u001b[0m \u001b[0;34m\u001b[0m\u001b[0m\n",
            "\u001b[0;32m/usr/local/lib/python3.9/dist-packages/seaborn/relational.py\u001b[0m in \u001b[0;36mlineplot\u001b[0;34m(data, x, y, hue, size, style, units, palette, hue_order, hue_norm, sizes, size_order, size_norm, dashes, markers, style_order, estimator, errorbar, n_boot, seed, orient, sort, err_style, err_kws, legend, ci, ax, **kwargs)\u001b[0m\n\u001b[1;32m    643\u001b[0m     \u001b[0mkwargs\u001b[0m\u001b[0;34m[\u001b[0m\u001b[0;34m\"color\"\u001b[0m\u001b[0;34m]\u001b[0m \u001b[0;34m=\u001b[0m \u001b[0m_default_color\u001b[0m\u001b[0;34m(\u001b[0m\u001b[0max\u001b[0m\u001b[0;34m.\u001b[0m\u001b[0mplot\u001b[0m\u001b[0;34m,\u001b[0m \u001b[0mhue\u001b[0m\u001b[0;34m,\u001b[0m \u001b[0mcolor\u001b[0m\u001b[0;34m,\u001b[0m \u001b[0mkwargs\u001b[0m\u001b[0;34m)\u001b[0m\u001b[0;34m\u001b[0m\u001b[0;34m\u001b[0m\u001b[0m\n\u001b[1;32m    644\u001b[0m \u001b[0;34m\u001b[0m\u001b[0m\n\u001b[0;32m--> 645\u001b[0;31m     \u001b[0mp\u001b[0m\u001b[0;34m.\u001b[0m\u001b[0mplot\u001b[0m\u001b[0;34m(\u001b[0m\u001b[0max\u001b[0m\u001b[0;34m,\u001b[0m \u001b[0mkwargs\u001b[0m\u001b[0;34m)\u001b[0m\u001b[0;34m\u001b[0m\u001b[0;34m\u001b[0m\u001b[0m\n\u001b[0m\u001b[1;32m    646\u001b[0m     \u001b[0;32mreturn\u001b[0m \u001b[0max\u001b[0m\u001b[0;34m\u001b[0m\u001b[0;34m\u001b[0m\u001b[0m\n\u001b[1;32m    647\u001b[0m \u001b[0;34m\u001b[0m\u001b[0m\n",
            "\u001b[0;32m/usr/local/lib/python3.9/dist-packages/seaborn/relational.py\u001b[0m in \u001b[0;36mplot\u001b[0;34m(self, ax, kws)\u001b[0m\n\u001b[1;32m    421\u001b[0m         \u001b[0;31m# Loop over the semantic subsets and add to the plot\u001b[0m\u001b[0;34m\u001b[0m\u001b[0;34m\u001b[0m\u001b[0m\n\u001b[1;32m    422\u001b[0m         \u001b[0mgrouping_vars\u001b[0m \u001b[0;34m=\u001b[0m \u001b[0;34m\"hue\"\u001b[0m\u001b[0;34m,\u001b[0m \u001b[0;34m\"size\"\u001b[0m\u001b[0;34m,\u001b[0m \u001b[0;34m\"style\"\u001b[0m\u001b[0;34m\u001b[0m\u001b[0;34m\u001b[0m\u001b[0m\n\u001b[0;32m--> 423\u001b[0;31m         \u001b[0;32mfor\u001b[0m \u001b[0msub_vars\u001b[0m\u001b[0;34m,\u001b[0m \u001b[0msub_data\u001b[0m \u001b[0;32min\u001b[0m \u001b[0mself\u001b[0m\u001b[0;34m.\u001b[0m\u001b[0miter_data\u001b[0m\u001b[0;34m(\u001b[0m\u001b[0mgrouping_vars\u001b[0m\u001b[0;34m,\u001b[0m \u001b[0mfrom_comp_data\u001b[0m\u001b[0;34m=\u001b[0m\u001b[0;32mTrue\u001b[0m\u001b[0;34m)\u001b[0m\u001b[0;34m:\u001b[0m\u001b[0;34m\u001b[0m\u001b[0;34m\u001b[0m\u001b[0m\n\u001b[0m\u001b[1;32m    424\u001b[0m \u001b[0;34m\u001b[0m\u001b[0m\n\u001b[1;32m    425\u001b[0m             \u001b[0;32mif\u001b[0m \u001b[0mself\u001b[0m\u001b[0;34m.\u001b[0m\u001b[0msort\u001b[0m\u001b[0;34m:\u001b[0m\u001b[0;34m\u001b[0m\u001b[0;34m\u001b[0m\u001b[0m\n",
            "\u001b[0;32m/usr/local/lib/python3.9/dist-packages/seaborn/_oldcore.py\u001b[0m in \u001b[0;36miter_data\u001b[0;34m(self, grouping_vars, reverse, from_comp_data, by_facet, allow_empty, dropna)\u001b[0m\n\u001b[1;32m   1026\u001b[0m \u001b[0;34m\u001b[0m\u001b[0m\n\u001b[1;32m   1027\u001b[0m         \u001b[0;32mif\u001b[0m \u001b[0mfrom_comp_data\u001b[0m\u001b[0;34m:\u001b[0m\u001b[0;34m\u001b[0m\u001b[0;34m\u001b[0m\u001b[0m\n\u001b[0;32m-> 1028\u001b[0;31m             \u001b[0mdata\u001b[0m \u001b[0;34m=\u001b[0m \u001b[0mself\u001b[0m\u001b[0;34m.\u001b[0m\u001b[0mcomp_data\u001b[0m\u001b[0;34m\u001b[0m\u001b[0;34m\u001b[0m\u001b[0m\n\u001b[0m\u001b[1;32m   1029\u001b[0m         \u001b[0;32melse\u001b[0m\u001b[0;34m:\u001b[0m\u001b[0;34m\u001b[0m\u001b[0;34m\u001b[0m\u001b[0m\n\u001b[1;32m   1030\u001b[0m             \u001b[0mdata\u001b[0m \u001b[0;34m=\u001b[0m \u001b[0mself\u001b[0m\u001b[0;34m.\u001b[0m\u001b[0mplot_data\u001b[0m\u001b[0;34m\u001b[0m\u001b[0;34m\u001b[0m\u001b[0m\n",
            "\u001b[0;32m/usr/local/lib/python3.9/dist-packages/seaborn/_oldcore.py\u001b[0m in \u001b[0;36mcomp_data\u001b[0;34m(self)\u001b[0m\n\u001b[1;32m   1124\u001b[0m                             \u001b[0;31m# supporting `order` in categorical plots is tricky\u001b[0m\u001b[0;34m\u001b[0m\u001b[0;34m\u001b[0m\u001b[0m\n\u001b[1;32m   1125\u001b[0m                             \u001b[0morig\u001b[0m \u001b[0;34m=\u001b[0m \u001b[0morig\u001b[0m\u001b[0;34m[\u001b[0m\u001b[0morig\u001b[0m\u001b[0;34m.\u001b[0m\u001b[0misin\u001b[0m\u001b[0;34m(\u001b[0m\u001b[0mself\u001b[0m\u001b[0;34m.\u001b[0m\u001b[0mvar_levels\u001b[0m\u001b[0;34m[\u001b[0m\u001b[0mvar\u001b[0m\u001b[0;34m]\u001b[0m\u001b[0;34m)\u001b[0m\u001b[0;34m]\u001b[0m\u001b[0;34m\u001b[0m\u001b[0;34m\u001b[0m\u001b[0m\n\u001b[0;32m-> 1126\u001b[0;31m                     \u001b[0mcomp\u001b[0m \u001b[0;34m=\u001b[0m \u001b[0mpd\u001b[0m\u001b[0;34m.\u001b[0m\u001b[0mto_numeric\u001b[0m\u001b[0;34m(\u001b[0m\u001b[0mconverter\u001b[0m\u001b[0;34m.\u001b[0m\u001b[0mconvert_units\u001b[0m\u001b[0;34m(\u001b[0m\u001b[0morig\u001b[0m\u001b[0;34m)\u001b[0m\u001b[0;34m)\u001b[0m\u001b[0;34m\u001b[0m\u001b[0;34m\u001b[0m\u001b[0m\n\u001b[0m\u001b[1;32m   1127\u001b[0m                     \u001b[0;32mif\u001b[0m \u001b[0mconverter\u001b[0m\u001b[0;34m.\u001b[0m\u001b[0mget_scale\u001b[0m\u001b[0;34m(\u001b[0m\u001b[0;34m)\u001b[0m \u001b[0;34m==\u001b[0m \u001b[0;34m\"log\"\u001b[0m\u001b[0;34m:\u001b[0m\u001b[0;34m\u001b[0m\u001b[0;34m\u001b[0m\u001b[0m\n\u001b[1;32m   1128\u001b[0m                         \u001b[0mcomp\u001b[0m \u001b[0;34m=\u001b[0m \u001b[0mnp\u001b[0m\u001b[0;34m.\u001b[0m\u001b[0mlog10\u001b[0m\u001b[0;34m(\u001b[0m\u001b[0mcomp\u001b[0m\u001b[0;34m)\u001b[0m\u001b[0;34m\u001b[0m\u001b[0;34m\u001b[0m\u001b[0m\n",
            "\u001b[0;32m/usr/local/lib/python3.9/dist-packages/pandas/core/tools/numeric.py\u001b[0m in \u001b[0;36mto_numeric\u001b[0;34m(arg, errors, downcast)\u001b[0m\n\u001b[1;32m    183\u001b[0m         \u001b[0mcoerce_numeric\u001b[0m \u001b[0;34m=\u001b[0m \u001b[0merrors\u001b[0m \u001b[0;32mnot\u001b[0m \u001b[0;32min\u001b[0m \u001b[0;34m(\u001b[0m\u001b[0;34m\"ignore\"\u001b[0m\u001b[0;34m,\u001b[0m \u001b[0;34m\"raise\"\u001b[0m\u001b[0;34m)\u001b[0m\u001b[0;34m\u001b[0m\u001b[0;34m\u001b[0m\u001b[0m\n\u001b[1;32m    184\u001b[0m         \u001b[0;32mtry\u001b[0m\u001b[0;34m:\u001b[0m\u001b[0;34m\u001b[0m\u001b[0;34m\u001b[0m\u001b[0m\n\u001b[0;32m--> 185\u001b[0;31m             values, _ = lib.maybe_convert_numeric(\n\u001b[0m\u001b[1;32m    186\u001b[0m                 \u001b[0mvalues\u001b[0m\u001b[0;34m,\u001b[0m \u001b[0mset\u001b[0m\u001b[0;34m(\u001b[0m\u001b[0;34m)\u001b[0m\u001b[0;34m,\u001b[0m \u001b[0mcoerce_numeric\u001b[0m\u001b[0;34m=\u001b[0m\u001b[0mcoerce_numeric\u001b[0m\u001b[0;34m\u001b[0m\u001b[0;34m\u001b[0m\u001b[0m\n\u001b[1;32m    187\u001b[0m             )\n",
            "\u001b[0;32m/usr/local/lib/python3.9/dist-packages/pandas/_libs/lib.pyx\u001b[0m in \u001b[0;36mpandas._libs.lib.maybe_convert_numeric\u001b[0;34m()\u001b[0m\n",
            "\u001b[0;31mTypeError\u001b[0m: Invalid object type at position 0"
          ]
        },
        {
          "output_type": "display_data",
          "data": {
            "text/plain": [
              "<Figure size 1000x600 with 1 Axes>"
            ],
            "image/png": "[encoded data removed]"
          },
          "metadata": {}
        }
      ]
    },
    {
      "cell_type": "markdown",
      "source": [
        "# Data handling and SMOT"
      ],
      "metadata": {
        "id": "kXJSMjefgtzq"
      }
    },
    {
      "cell_type": "code",
      "source": [
        "import pandas as pd\n",
        "import numpy as np\n",
        "from imblearn.over_sampling import SMOTE\n",
        "\n",
        "# Loading data\n",
        "house = pd.read_csv('/content/House Price India.csv')"
      ],
      "metadata": {
        "id": "J_3JfftGgx0L"
      },
      "execution_count": null,
      "outputs": []
    },
    {
      "cell_type": "code",
      "source": [
        "# Data Inspection\n",
        "print('Data has {0} rows and {1} columns)'.format(house.shape[0], house.shape[1]), '\\n')\n",
        "print('Column names and data types:')\n",
        "print(house.dtypes)"
      ],
      "metadata": {
        "colab": {
          "base_uri": "https://localhost:8080/"
        },
        "id": "Fe0oxFu4hmCt",
        "outputId": "13ce3c1b-262d-4820-a13c-8ae836d96e35"
      },
      "execution_count": null,
      "outputs": [
        {
          "output_type": "stream",
          "name": "stdout",
          "text": [
            "Data has 14620 rows and 23 columns) \n",
            "\n",
            "Column names and data types:\n",
            "id                                         int64\n",
            "Date                                       int64\n",
            "number of bedrooms                         int64\n",
            "number of bathrooms                      float64\n",
            "living area                                int64\n",
            "lot area                                   int64\n",
            "number of floors                         float64\n",
            "waterfront present                       float64\n",
            "number of views                            int64\n",
            "condition of the house                   float64\n",
            "grade of the house                       float64\n",
            "Area of the house(excluding basement)      int64\n",
            "Area of the basement                       int64\n",
            "Built Year                                 int64\n",
            "Renovation Year                          float64\n",
            "Postal Code                              float64\n",
            "Lattitude                                float64\n",
            "Longitude                                float64\n",
            "living_area_renov                          int64\n",
            "lot_area_renov                             int64\n",
            "Number of schools nearby                   int64\n",
            "Distance from the airport                  int64\n",
            "Price                                      int64\n",
            "dtype: object\n"
          ]
        }
      ]
    },
    {
      "cell_type": "code",
      "source": [
        "# Data Cleaning\n",
        "# Removing null values\n",
        "house_cleaned = house.dropna()\n",
        "\n",
        "# Removing duplicates\n",
        "house_cleaned.drop_duplicates(inplace=True)\n",
        "\n",
        "# Printing new shape\n",
        "print('New shape:', house_cleaned.shape)"
      ],
      "metadata": {
        "colab": {
          "base_uri": "https://localhost:8080/"
        },
        "id": "LQfXmnJvh0kt",
        "outputId": "686c604b-9853-4b59-b678-5682f49db5c6"
      },
      "execution_count": null,
      "outputs": [
        {
          "output_type": "stream",
          "name": "stdout",
          "text": [
            "New shape: (14610, 23)\n"
          ]
        },
        {
          "output_type": "stream",
          "name": "stderr",
          "text": [
            "<ipython-input-21-7d5e05a3a5eb>:6: SettingWithCopyWarning: \n",
            "A value is trying to be set on a copy of a slice from a DataFrame\n",
            "\n",
            "See the caveats in the documentation: https://pandas.pydata.org/pandas-docs/stable/user_guide/indexing.html#returning-a-view-versus-a-copy\n",
            "  house_cleaned.drop_duplicates(inplace=True)\n"
          ]
        }
      ]
    },
    {
      "cell_type": "code",
      "source": [
        "# Data Preprocessing\n",
        "# Converting columns with float values to integer values\n",
        "for col in house_cleaned.columns:\n",
        "    house_cleaned[col] = house_cleaned[col].astype(int)\n",
        "print('Column names and data types:')\n",
        "print(house_cleaned.dtypes)"
      ],
      "metadata": {
        "colab": {
          "base_uri": "https://localhost:8080/"
        },
        "id": "OVjBXDpbiNx8",
        "outputId": "40446799-bc6c-47fe-b23b-37a26db3c6cf"
      },
      "execution_count": null,
      "outputs": [
        {
          "output_type": "stream",
          "name": "stdout",
          "text": [
            "Column names and data types:\n",
            "id                                       int64\n",
            "Date                                     int64\n",
            "number of bedrooms                       int64\n",
            "number of bathrooms                      int64\n",
            "living area                              int64\n",
            "lot area                                 int64\n",
            "number of floors                         int64\n",
            "waterfront present                       int64\n",
            "number of views                          int64\n",
            "condition of the house                   int64\n",
            "grade of the house                       int64\n",
            "Area of the house(excluding basement)    int64\n",
            "Area of the basement                     int64\n",
            "Built Year                               int64\n",
            "Renovation Year                          int64\n",
            "Postal Code                              int64\n",
            "Lattitude                                int64\n",
            "Longitude                                int64\n",
            "living_area_renov                        int64\n",
            "lot_area_renov                           int64\n",
            "Number of schools nearby                 int64\n",
            "Distance from the airport                int64\n",
            "Price                                    int64\n",
            "dtype: object\n"
          ]
        },
        {
          "output_type": "stream",
          "name": "stderr",
          "text": [
            "<ipython-input-31-6f8481c6c59d>:4: SettingWithCopyWarning: \n",
            "A value is trying to be set on a copy of a slice from a DataFrame.\n",
            "Try using .loc[row_indexer,col_indexer] = value instead\n",
            "\n",
            "See the caveats in the documentation: https://pandas.pydata.org/pandas-docs/stable/user_guide/indexing.html#returning-a-view-versus-a-copy\n",
            "  house_cleaned[col] = house_cleaned[col].astype(int)\n"
          ]
        }
      ]
    },
    {
      "cell_type": "code",
      "source": [
        "# Syntheic Minority Oversampling technique\n",
        "# Check the ratio between classes\n",
        "class_ratio = house_cleaned['Price'].value_counts(normalize=True)\n",
        "\n",
        "# Print the class ratio\n",
        "print('Imbalanced Class Ratio:')\n",
        "print(class_ratio)\n"
      ],
      "metadata": {
        "colab": {
          "base_uri": "https://localhost:8080/"
        },
        "id": "JQJtQreIkmds",
        "outputId": "c52c315c-1bc3-4af8-f1ce-ddc57bc49f97"
      },
      "execution_count": null,
      "outputs": [
        {
          "output_type": "stream",
          "name": "stdout",
          "text": [
            "Imbalanced Class Ratio:\n",
            "450000    0.007803\n",
            "350000    0.007734\n",
            "400000    0.007118\n",
            "375000    0.007050\n",
            "550000    0.006982\n",
            "            ...   \n",
            "182568    0.000068\n",
            "269800    0.000068\n",
            "298500    0.000068\n",
            "305240    0.000068\n",
            "146000    0.000068\n",
            "Name: Price, Length: 2899, dtype: float64\n"
          ]
        }
      ]
    },
    {
      "cell_type": "code",
      "source": [
        "# Separate features and target variable\n",
        "target_x = house_cleaned.drop('Price', axis=1)\n",
        "target_y = house_cleaned['Price']\n",
        "\n",
        "# SMOTE generates synthetic samples for the minority class by \n",
        "# interpolating between existing samples. \n",
        "# To create these synthetic samples, SMOTE selects 'k' \n",
        "# nearest neighbors for each sample in the minority class.\n",
        "class_counts = target_y.value_counts()\n",
        "single_sample_classes = class_counts[class_counts == 1].index\n",
        "mask = ~target_y.isin(single_sample_classes)\n",
        "filtered_target_x = target_x[mask]\n",
        "filtered_target_y = target_y[mask]\n",
        "\n",
        "# Perform SMOTE oversampling\n",
        "smote = SMOTE(k_neighbors=1)\n",
        "target_x_resampled, target_y_resampled = smote.fit_resample(filtered_target_x, filtered_target_y)\n",
        "\n",
        "# Print the new class ratio\n",
        "class_ratio = pd.Series(target_y_resampled).value_counts(normalize=True)\n",
        "print('New Class Ratio is:')\n",
        "print(class_ratio)"
      ],
      "metadata": {
        "colab": {
          "base_uri": "https://localhost:8080/"
        },
        "id": "KYEyslfGmp1T",
        "outputId": "66d27857-40d3-4ffa-dc08-fc02ce6ac8c9"
      },
      "execution_count": null,
      "outputs": [
        {
          "output_type": "stream",
          "name": "stdout",
          "text": [
            "New Class Ratio is:\n",
            "2380000    0.000789\n",
            "269900     0.000789\n",
            "905000     0.000789\n",
            "995000     0.000789\n",
            "1460000    0.000789\n",
            "             ...   \n",
            "605000     0.000789\n",
            "611000     0.000789\n",
            "619000     0.000789\n",
            "619500     0.000789\n",
            "356500     0.000789\n",
            "Name: Price, Length: 1267, dtype: float64\n"
          ]
        }
      ]
    },
    {
      "cell_type": "markdown",
      "source": [
        "# Lecture 11 "
      ],
      "metadata": {
        "id": "3UHCUpBWMObg"
      }
    },
    {
      "cell_type": "code",
      "source": [
        "strr = 'ahmadazzam'\n",
        "'ahmad' in strr"
      ],
      "metadata": {
        "id": "gu7__2EKMRmC",
        "colab": {
          "base_uri": "https://localhost:8080/"
        },
        "outputId": "5a00d222-e51e-41d7-9cc0-04bb1e544ada"
      },
      "execution_count": null,
      "outputs": [
        {
          "output_type": "execute_result",
          "data": {
            "text/plain": [
              "True"
            ]
          },
          "metadata": {},
          "execution_count": 2
        }
      ]
    },
    {
      "cell_type": "code",
      "source": [
        "print(strr.find('zz'))"
      ],
      "metadata": {
        "colab": {
          "base_uri": "https://localhost:8080/"
        },
        "id": "_ickAerGzcey",
        "outputId": "6cd5fb71-a102-475d-eda8-9ce19c8ec0a2"
      },
      "execution_count": null,
      "outputs": [
        {
          "output_type": "stream",
          "name": "stdout",
          "text": [
            "6\n"
          ]
        }
      ]
    },
    {
      "cell_type": "code",
      "source": [
        "import re\n",
        "print(re.search('azz', strr))"
      ],
      "metadata": {
        "colab": {
          "base_uri": "https://localhost:8080/"
        },
        "id": "tqE3CDyqzjlK",
        "outputId": "28f15284-6c4f-4af7-fca6-18a1d633557f"
      },
      "execution_count": null,
      "outputs": [
        {
          "output_type": "stream",
          "name": "stdout",
          "text": [
            "<re.Match object; span=(5, 8), match='azz'>\n"
          ]
        }
      ]
    },
    {
      "cell_type": "code",
      "source": [
        "strr1 = 'ahmad12azzam3'\n",
        "print(re.search('[0-9][a-z][a-z][a-z][a-z][a-z][0-9]', strr1))"
      ],
      "metadata": {
        "colab": {
          "base_uri": "https://localhost:8080/"
        },
        "id": "-n0hWoG_z5N5",
        "outputId": "9c355dda-4ce1-4ffa-b183-92bc91e61fbb"
      },
      "execution_count": null,
      "outputs": [
        {
          "output_type": "stream",
          "name": "stdout",
          "text": [
            "<re.Match object; span=(6, 13), match='2azzam3'>\n"
          ]
        }
      ]
    },
    {
      "cell_type": "code",
      "source": [
        "rollNo='FA18-BCE-002'\n",
        "print(re.search('[A-Z][A-Z][A-Z]', rollNo))"
      ],
      "metadata": {
        "colab": {
          "base_uri": "https://localhost:8080/"
        },
        "id": "LNg4smz70w4K",
        "outputId": "c8994340-b611-4e2a-d01b-cbbb0687240e"
      },
      "execution_count": null,
      "outputs": [
        {
          "output_type": "stream",
          "name": "stdout",
          "text": [
            "<re.Match object; span=(5, 8), match='BCE'>\n"
          ]
        }
      ]
    },
    {
      "cell_type": "code",
      "source": [
        "empty=[]\n",
        "a = re.search('[A-Z][A-Z][A-Z]', rollNo)\n",
        "empty.append(a.group(0))\n",
        "print(empty)"
      ],
      "metadata": {
        "colab": {
          "base_uri": "https://localhost:8080/"
        },
        "id": "Q0ZD_0vf1gJI",
        "outputId": "8b406bdf-cf25-41f3-b85b-7311508aec64"
      },
      "execution_count": null,
      "outputs": [
        {
          "output_type": "stream",
          "name": "stdout",
          "text": [
            "['BCE']\n"
          ]
        }
      ]
    },
    {
      "cell_type": "code",
      "source": [
        "numbers = []\n",
        "numbers_loc = []\n",
        "lis = ['jawadhussain568ain', 'jawadhuss569ain', 'jawadhuss324ain']\n",
        "for strr in lis:\n",
        "  a = re.search('[0-9][0-9][0-9]', strr)\n",
        "  numbers.append(a.group(0))\n",
        "  numbers_loc.append(a.span())\n",
        "\n",
        "print(numbers)\n",
        "print(numbers_loc)"
      ],
      "metadata": {
        "colab": {
          "base_uri": "https://localhost:8080/"
        },
        "id": "MDTRiYU_2SQJ",
        "outputId": "c6b4a732-fb4b-4380-ccf5-153250d6924a"
      },
      "execution_count": null,
      "outputs": [
        {
          "output_type": "stream",
          "name": "stdout",
          "text": [
            "['568', '569', '324']\n",
            "[(12, 15), (9, 12), (9, 12)]\n"
          ]
        }
      ]
    },
    {
      "cell_type": "code",
      "source": [
        "lis1 = ['jawadhussain586ain', 'jawadhuss5556ain', 'jawadhuss3516ain']\n",
        "for s in lis1:\n",
        "  print(re.search('5.6', s))"
      ],
      "metadata": {
        "colab": {
          "base_uri": "https://localhost:8080/"
        },
        "id": "SIe5lV7D4bkB",
        "outputId": "c5522709-ac70-4552-b2a8-a855e857c6d2"
      },
      "execution_count": null,
      "outputs": [
        {
          "output_type": "stream",
          "name": "stdout",
          "text": [
            "<re.Match object; span=(12, 15), match='586'>\n",
            "<re.Match object; span=(10, 13), match='556'>\n",
            "<re.Match object; span=(10, 13), match='516'>\n"
          ]
        }
      ]
    },
    {
      "cell_type": "code",
      "source": [
        "rollNo1 = 'FA18BCE002'\n",
        "rollNo2 = 'FA18BCE030'\n",
        "lis2 = [rollNo1, rollNo2]\n",
        "for s in lis2:\n",
        "  print(re.search('0..', s))"
      ],
      "metadata": {
        "colab": {
          "base_uri": "https://localhost:8080/"
        },
        "id": "pOmeqjmq9JDW",
        "outputId": "7072351b-b63d-4023-a4d7-75aeb27fc573"
      },
      "execution_count": null,
      "outputs": [
        {
          "output_type": "stream",
          "name": "stdout",
          "text": [
            "<re.Match object; span=(7, 10), match='002'>\n",
            "<re.Match object; span=(7, 10), match='030'>\n"
          ]
        }
      ]
    },
    {
      "cell_type": "code",
      "source": [
        "strr2 = ['0F', '0X', '12'] \n",
        "for s in strr2:\n",
        "  print(re.search('[0-9a-fA-F][0-9a-fA-F]', s))"
      ],
      "metadata": {
        "colab": {
          "base_uri": "https://localhost:8080/"
        },
        "id": "VdCO0Xzp-GiV",
        "outputId": "26df7679-9fa8-4f8d-89d1-53c27c1ea252"
      },
      "execution_count": null,
      "outputs": [
        {
          "output_type": "stream",
          "name": "stdout",
          "text": [
            "<re.Match object; span=(0, 2), match='0F'>\n",
            "None\n",
            "<re.Match object; span=(0, 2), match='12'>\n"
          ]
        }
      ]
    },
    {
      "cell_type": "code",
      "source": [
        "strr3 = ['0F', '0X',]\n",
        "for s in strr3:\n",
        "  print(re.search('[^1-9][^0-9a-fA-F]', s))"
      ],
      "metadata": {
        "colab": {
          "base_uri": "https://localhost:8080/"
        },
        "id": "Ifb39trFBUP8",
        "outputId": "e315a04c-a34a-4ac6-89bd-7798734b6920"
      },
      "execution_count": null,
      "outputs": [
        {
          "output_type": "stream",
          "name": "stdout",
          "text": [
            "None\n",
            "<re.Match object; span=(0, 2), match='0X'>\n"
          ]
        }
      ]
    },
    {
      "cell_type": "code",
      "source": [
        "strr4 = ['jawad^#hussain', '0X']\n",
        "for s in strr4:\n",
        "  print(re.search('[^#:]', s))"
      ],
      "metadata": {
        "colab": {
          "base_uri": "https://localhost:8080/"
        },
        "id": "_-maJ2ReB_sT",
        "outputId": "56dcee9c-321e-4cd5-9d7a-0ee541dc95b2"
      },
      "execution_count": null,
      "outputs": [
        {
          "output_type": "stream",
          "name": "stdout",
          "text": [
            "<re.Match object; span=(0, 1), match='j'>\n",
            "<re.Match object; span=(0, 1), match='0'>\n"
          ]
        }
      ]
    },
    {
      "cell_type": "code",
      "source": [
        "strr5=['jawad-hussain', '0]X',]\n",
        "for s in strr5:\n",
        "  print(re.search('[-]', s))"
      ],
      "metadata": {
        "colab": {
          "base_uri": "https://localhost:8080/"
        },
        "id": "Dmj8rDB2DRNb",
        "outputId": "52d16c28-072e-4a2e-fad4-a7d446e24cf2"
      },
      "execution_count": null,
      "outputs": [
        {
          "output_type": "stream",
          "name": "stdout",
          "text": [
            "<re.Match object; span=(5, 6), match='-'>\n",
            "None\n"
          ]
        }
      ]
    },
    {
      "cell_type": "code",
      "source": [
        "strr6 = ['', '0000']\n",
        "for s in strr6:\n",
        "  print(re.search('0*', s))\n",
        "  print(re.search('0+', s))"
      ],
      "metadata": {
        "colab": {
          "base_uri": "https://localhost:8080/"
        },
        "id": "lMtq5raQFmdC",
        "outputId": "6eb1efce-c804-44ec-aa3a-f4f688eb0404"
      },
      "execution_count": null,
      "outputs": [
        {
          "output_type": "stream",
          "name": "stdout",
          "text": [
            "<re.Match object; span=(0, 0), match=''>\n",
            "None\n",
            "<re.Match object; span=(0, 4), match='0000'>\n",
            "<re.Match object; span=(0, 4), match='0000'>\n"
          ]
        }
      ]
    },
    {
      "cell_type": "markdown",
      "source": [
        "# Lecture 13\n"
      ],
      "metadata": {
        "id": "3K7gU3OivqZa"
      }
    },
    {
      "cell_type": "code",
      "source": [
        "import re\n",
        "list6 = ['Jawad_Hussain123', 'jawad5_hussain']\n",
        "\n",
        "for s in list6:\n",
        "  print(re.search('[0-9][\\w]', s))"
      ],
      "metadata": {
        "colab": {
          "base_uri": "https://localhost:8080/"
        },
        "id": "bcFPZ0CdvwrO",
        "outputId": "75635d6d-9e2c-47ed-b6ae-ee762ff5eddc"
      },
      "execution_count": null,
      "outputs": [
        {
          "output_type": "stream",
          "name": "stdout",
          "text": [
            "<re.Match object; span=(13, 15), match='12'>\n",
            "<re.Match object; span=(5, 7), match='5_'>\n"
          ]
        }
      ]
    },
    {
      "cell_type": "code",
      "source": [
        "list7 = ['ahmadazzam0.5', 'ahmad7azzam']\n",
        "for s in list7:\n",
        "  print(re.search('[\\d][.][\\d]', s))"
      ],
      "metadata": {
        "colab": {
          "base_uri": "https://localhost:8080/"
        },
        "id": "1fKrEEbSv8KX",
        "outputId": "70d463e3-cca4-4389-dfa3-3d3c94bdd277"
      },
      "execution_count": null,
      "outputs": [
        {
          "output_type": "stream",
          "name": "stdout",
          "text": [
            "<re.Match object; span=(10, 13), match='0.5'>\n",
            "None\n"
          ]
        }
      ]
    },
    {
      "cell_type": "code",
      "source": [
        "list8 = ['ahmmad_azzam132', 'ahmad azzam masood', 'ahmadazzammasood']\n",
        "for s in list8:\n",
        "  print(re.search(r'\\Bazzam\\B', s))"
      ],
      "metadata": {
        "colab": {
          "base_uri": "https://localhost:8080/"
        },
        "id": "LhrdBnZJwP5G",
        "outputId": "35e6226e-3323-446e-98fe-8acf6dee3621"
      },
      "execution_count": null,
      "outputs": [
        {
          "output_type": "stream",
          "name": "stdout",
          "text": [
            "<re.Match object; span=(7, 12), match='azzam'>\n",
            "None\n",
            "<re.Match object; span=(5, 10), match='azzam'>\n"
          ]
        }
      ]
    },
    {
      "cell_type": "code",
      "source": [
        "list8 = ['jawad*&^%$#@hussain', 'jawadhussain', 'jawad--hussain']\n",
        "for s in list8:\n",
        "  print(re.search('jawad.+hussain', s))"
      ],
      "metadata": {
        "colab": {
          "base_uri": "https://localhost:8080/"
        },
        "id": "A_dMGKfOyxz3",
        "outputId": "b46a9f01-4e08-4c04-e1ca-332bdbd258b1"
      },
      "execution_count": null,
      "outputs": [
        {
          "output_type": "stream",
          "name": "stdout",
          "text": [
            "<re.Match object; span=(0, 19), match='jawad*&^%$#@hussain'>\n",
            "None\n",
            "<re.Match object; span=(0, 14), match='jawad--hussain'>\n"
          ]
        }
      ]
    },
    {
      "cell_type": "code",
      "source": [
        "list9 = ['jawad*&^%$#@hussain', 'jawadhussain', 'jawad-hussain']\n",
        "for s in list9:\n",
        "  print(re.search('jawad.?hussain', s))"
      ],
      "metadata": {
        "colab": {
          "base_uri": "https://localhost:8080/"
        },
        "id": "kHkfcffl0hqu",
        "outputId": "3f51e478-a1a4-4160-8057-b20b6808645d"
      },
      "execution_count": null,
      "outputs": [
        {
          "output_type": "stream",
          "name": "stdout",
          "text": [
            "None\n",
            "<re.Match object; span=(0, 12), match='jawadhussain'>\n",
            "<re.Match object; span=(0, 13), match='jawad-hussain'>\n"
          ]
        }
      ]
    },
    {
      "cell_type": "code",
      "source": [
        "list10 = ['jawad*&^%$#@hussain', 'jawadHAHhussain', 'jawad-hussain']\n",
        "for s in list10:\n",
        "  print(re.search('jawad.{3}hussain', s))"
      ],
      "metadata": {
        "colab": {
          "base_uri": "https://localhost:8080/"
        },
        "id": "hKvzcdtO1F6k",
        "outputId": "cb4ee361-c65e-4764-8075-1e9a3d626984"
      },
      "execution_count": null,
      "outputs": [
        {
          "output_type": "stream",
          "name": "stdout",
          "text": [
            "None\n",
            "<re.Match object; span=(0, 15), match='jawadHAHhussain'>\n",
            "None\n"
          ]
        }
      ]
    },
    {
      "cell_type": "code",
      "source": [
        "list11 = ['jawadAAAAAAAhussain', 'jawadHAHhussain', 'jawad-hussain']\n",
        "for s in list10:\n",
        "  print(re.search('jawad.{3,7}hussain', s))"
      ],
      "metadata": {
        "colab": {
          "base_uri": "https://localhost:8080/"
        },
        "id": "4t-Pig2310A0",
        "outputId": "038adea9-bef7-4398-d120-810f2a334c99"
      },
      "execution_count": null,
      "outputs": [
        {
          "output_type": "stream",
          "name": "stdout",
          "text": [
            "None\n",
            "None\n",
            "None\n"
          ]
        }
      ]
    },
    {
      "cell_type": "code",
      "source": [
        "list12 = ['jawadAAAAAAAhussain', 'jawadHAHhussain', 'jawad-hussain']\n",
        "for s in list12:\n",
        "  print(re.search('jawad.{3,5}?hussain', s))"
      ],
      "metadata": {
        "colab": {
          "base_uri": "https://localhost:8080/"
        },
        "id": "DhxoGDSq2xHu",
        "outputId": "c51bdf39-17b7-4c88-ec5d-70ed482ab6d8"
      },
      "execution_count": null,
      "outputs": [
        {
          "output_type": "stream",
          "name": "stdout",
          "text": [
            "None\n",
            "<re.Match object; span=(0, 15), match='jawadHAHhussain'>\n",
            "None\n"
          ]
        }
      ]
    },
    {
      "cell_type": "code",
      "source": [
        "list13 = ['jawadAAAAAAAhussain', 'jawadHAHhussain', 'jawad-hussain']\n",
        "for s in list13:\n",
        "  print(re.search('jawad.{3,5}?hussain', s))"
      ],
      "metadata": {
        "id": "yTBaBGi93bLj"
      },
      "execution_count": null,
      "outputs": []
    },
    {
      "cell_type": "code",
      "source": [
        "list14 = ['foo', 'foobar', 'foobarbar', 'foobarbarbar', 'foobarfoobar']\n",
        "for s in list14:\n",
        "  print(re.search('(foo(bar)?)+', s))"
      ],
      "metadata": {
        "colab": {
          "base_uri": "https://localhost:8080/"
        },
        "id": "Lh8kxaoJ9DDh",
        "outputId": "ef0b5c72-fe22-46c1-b773-39b956e2bbb3"
      },
      "execution_count": null,
      "outputs": [
        {
          "output_type": "stream",
          "name": "stdout",
          "text": [
            "<re.Match object; span=(0, 3), match='foo'>\n",
            "<re.Match object; span=(0, 6), match='foobar'>\n",
            "<re.Match object; span=(0, 6), match='foobar'>\n",
            "<re.Match object; span=(0, 6), match='foobar'>\n",
            "<re.Match object; span=(0, 12), match='foobarfoobar'>\n"
          ]
        }
      ]
    },
    {
      "cell_type": "code",
      "source": [
        "list15 = ['foo', 'foo123bar', 'foob1234arbar', 'foobarbarbar', 'foobarfoobar']\n",
        "for s in list15:\n",
        "  print(re.search('\\d\\d\\d', s))"
      ],
      "metadata": {
        "colab": {
          "base_uri": "https://localhost:8080/"
        },
        "id": "p9pUQSBkBHPH",
        "outputId": "cbde869e-1a6f-49b4-a80d-6a98304423d9"
      },
      "execution_count": null,
      "outputs": [
        {
          "output_type": "stream",
          "name": "stdout",
          "text": [
            "None\n",
            "<re.Match object; span=(3, 6), match='123'>\n",
            "<re.Match object; span=(4, 7), match='123'>\n",
            "None\n",
            "None\n"
          ]
        }
      ]
    },
    {
      "cell_type": "code",
      "source": [
        "list16 = ['foo', '123', 'foob1234arbar', 'foobarbarbar', 'foobarfoobar']\n",
        "for s in list16:\n",
        "  print(re.search('(\\d\\d\\d)?', s))"
      ],
      "metadata": {
        "colab": {
          "base_uri": "https://localhost:8080/"
        },
        "id": "xDrQljRDCVmT",
        "outputId": "4d5fae27-792d-4f1e-dfbc-78bc380b8d6a"
      },
      "execution_count": null,
      "outputs": [
        {
          "output_type": "stream",
          "name": "stdout",
          "text": [
            "<re.Match object; span=(0, 0), match=''>\n",
            "<re.Match object; span=(0, 3), match='123'>\n",
            "<re.Match object; span=(0, 0), match=''>\n",
            "<re.Match object; span=(0, 0), match=''>\n",
            "<re.Match object; span=(0, 0), match=''>\n"
          ]
        }
      ]
    },
    {
      "cell_type": "code",
      "source": [
        "list17 = ['foo', '123', 'foob1234arbar', 'foobarbarbar', 'foobarfoobar', 'foo,quaz,baz']\n",
        "for s in list17:\n",
        "  a = print(re.search('(\\w+),(\\w+),(\\w+)', s))"
      ],
      "metadata": {
        "colab": {
          "base_uri": "https://localhost:8080/",
          "height": 235
        },
        "id": "t8LENG4QCcfv",
        "outputId": "9d89ef97-7ffb-4a96-fe90-d1340297e371"
      },
      "execution_count": null,
      "outputs": [
        {
          "output_type": "stream",
          "name": "stdout",
          "text": [
            "None\n"
          ]
        },
        {
          "output_type": "error",
          "ename": "AttributeError",
          "evalue": "ignored",
          "traceback": [
            "\u001b[0;31m---------------------------------------------------------------------------\u001b[0m",
            "\u001b[0;31mAttributeError\u001b[0m                            Traceback (most recent call last)",
            "\u001b[0;32m<ipython-input-52-01e4e4ef2729>\u001b[0m in \u001b[0;36m<cell line: 2>\u001b[0;34m()\u001b[0m\n\u001b[1;32m      2\u001b[0m \u001b[0;32mfor\u001b[0m \u001b[0ms\u001b[0m \u001b[0;32min\u001b[0m \u001b[0mlist17\u001b[0m\u001b[0;34m:\u001b[0m\u001b[0;34m\u001b[0m\u001b[0;34m\u001b[0m\u001b[0m\n\u001b[1;32m      3\u001b[0m   \u001b[0ma\u001b[0m \u001b[0;34m=\u001b[0m \u001b[0mprint\u001b[0m\u001b[0;34m(\u001b[0m\u001b[0mre\u001b[0m\u001b[0;34m.\u001b[0m\u001b[0msearch\u001b[0m\u001b[0;34m(\u001b[0m\u001b[0;34m'(\\w+),(\\w+),(\\w+)'\u001b[0m\u001b[0;34m,\u001b[0m \u001b[0ms\u001b[0m\u001b[0;34m)\u001b[0m\u001b[0;34m)\u001b[0m\u001b[0;34m\u001b[0m\u001b[0;34m\u001b[0m\u001b[0m\n\u001b[0;32m----> 4\u001b[0;31m   \u001b[0;32mif\u001b[0m \u001b[0ma\u001b[0m\u001b[0;34m.\u001b[0m\u001b[0mgroup\u001b[0m\u001b[0;34m:\u001b[0m\u001b[0;34m\u001b[0m\u001b[0;34m\u001b[0m\u001b[0m\n\u001b[0m\u001b[1;32m      5\u001b[0m     \u001b[0mprint\u001b[0m\u001b[0;34m(\u001b[0m\u001b[0ma\u001b[0m\u001b[0;34m.\u001b[0m\u001b[0mgroup\u001b[0m\u001b[0;34m(\u001b[0m\u001b[0;36m0\u001b[0m\u001b[0;34m)\u001b[0m\u001b[0;34m)\u001b[0m\u001b[0;34m\u001b[0m\u001b[0;34m\u001b[0m\u001b[0m\n",
            "\u001b[0;31mAttributeError\u001b[0m: 'NoneType' object has no attribute 'group'"
          ]
        }
      ]
    },
    {
      "cell_type": "code",
      "source": [
        "# Write a regex to extract year from this format MM/DD/YY or MM/DD/YYYY\n",
        "strr1 = ['04/26/2023', '04/26/23', '12/22/233']\n",
        "for s in strr1:\n",
        "  print(re.search('\\d[2]\\d[4]$', s))"
      ],
      "metadata": {
        "colab": {
          "base_uri": "https://localhost:8080/"
        },
        "id": "oo9BbjxqDnhu",
        "outputId": "b18b306a-3a00-4dc9-afae-d506ea4bec47"
      },
      "execution_count": null,
      "outputs": [
        {
          "output_type": "stream",
          "name": "stdout",
          "text": [
            "None\n",
            "None\n",
            "None\n"
          ]
        }
      ]
    },
    {
      "cell_type": "code",
      "source": [
        "# Rrite a regex that extract phone numbers like 0321-xxx-xxxx or (0321) xxx xxxx\n",
        "strr2 = ['0321-519-9271', '(0321) 519 9271', '1234 519 9271', '1234 519 9271']\n",
        "for s in strr2:\n",
        "  print(re.search('.{0,}[0][3][2][1].{0,}.{1,}', s))"
      ],
      "metadata": {
        "colab": {
          "base_uri": "https://localhost:8080/"
        },
        "id": "I9t7_3j8KiRj",
        "outputId": "bf43b76c-91fb-4fff-f9b3-6fc8bb8b6f0e"
      },
      "execution_count": null,
      "outputs": [
        {
          "output_type": "stream",
          "name": "stdout",
          "text": [
            "<re.Match object; span=(0, 13), match='0321-519-9271'>\n",
            "<re.Match object; span=(0, 15), match='(0321) 519 9271'>\n",
            "None\n",
            "None\n"
          ]
        }
      ]
    },
    {
      "cell_type": "code",
      "source": [
        "# Construct a regex that captures words that start with vowels (a,e,i,o,u)\n",
        "strr3 = ['ahmad azzam masood', 'table for me', 'chair for me', 'elephant out there']\n",
        "for s in strr3:\n",
        "  print(re.findall(r'\\b[aeiouAEIOU][a-zA-Z]{1,}\\b', s))"
      ],
      "metadata": {
        "colab": {
          "base_uri": "https://localhost:8080/"
        },
        "id": "mKl2iQr1MHC0",
        "outputId": "658e0064-8c0b-425b-af60-ede93a434696"
      },
      "execution_count": null,
      "outputs": [
        {
          "output_type": "stream",
          "name": "stdout",
          "text": [
            "['ahmad', 'azzam']\n",
            "[]\n",
            "[]\n",
            "['elephant', 'out']\n"
          ]
        }
      ]
    },
    {
      "cell_type": "code",
      "source": [
        "import tensorflow as tf\n",
        "elems = [[1, 2, 3, 4], [7, 8, 9, 10]]\n",
        "print(tf.math.greater_equal(elems[0], elems[1]))"
      ],
      "metadata": {
        "id": "THvToRFFMqVi",
        "colab": {
          "base_uri": "https://localhost:8080/"
        },
        "outputId": "6542d9a9-70fe-48b2-b818-54f3c391321c"
      },
      "execution_count": null,
      "outputs": [
        {
          "output_type": "stream",
          "name": "stdout",
          "text": [
            "tf.Tensor([False False False False], shape=(4,), dtype=bool)\n"
          ]
        }
      ]
    },
    {
      "cell_type": "markdown",
      "source": [
        "# Lecture 14"
      ],
      "metadata": {
        "id": "PYt115Yvt6mp"
      }
    },
    {
      "cell_type": "code",
      "source": [
        "import pdb\n",
        "f = open('sample.txt', 'r')"
      ],
      "metadata": {
        "colab": {
          "base_uri": "https://localhost:8080/"
        },
        "id": "X60hVWaTt9Aw",
        "outputId": "0936496d-e233-4823-e71f-819dff139065"
      },
      "execution_count": null,
      "outputs": [
        {
          "output_type": "stream",
          "name": "stdout",
          "text": [
            "--Return--\n",
            "None\n",
            "> \u001b[0;32m<ipython-input-6-a15915ed0c17>\u001b[0m(3)\u001b[0;36m<cell line: 3>\u001b[0;34m()\u001b[0m\n",
            "\u001b[0;32m      1 \u001b[0;31m\u001b[0;32mimport\u001b[0m \u001b[0mpdb\u001b[0m\u001b[0;34m\u001b[0m\u001b[0;34m\u001b[0m\u001b[0m\n",
            "\u001b[0m\u001b[0;32m      2 \u001b[0;31m\u001b[0mf\u001b[0m \u001b[0;34m=\u001b[0m \u001b[0mopen\u001b[0m\u001b[0;34m(\u001b[0m\u001b[0;34m'sample.txt'\u001b[0m\u001b[0;34m,\u001b[0m \u001b[0;34m'r'\u001b[0m\u001b[0;34m)\u001b[0m\u001b[0;34m\u001b[0m\u001b[0;34m\u001b[0m\u001b[0m\n",
            "\u001b[0m\u001b[0;32m----> 3 \u001b[0;31m\u001b[0mpdb\u001b[0m\u001b[0;34m.\u001b[0m\u001b[0mset_trace\u001b[0m\u001b[0;34m(\u001b[0m\u001b[0;34m)\u001b[0m\u001b[0;34m\u001b[0m\u001b[0;34m\u001b[0m\u001b[0m\n",
            "\u001b[0m\u001b[0;32m      4 \u001b[0;31m\u001b[0mf\u001b[0m\u001b[0;34m\u001b[0m\u001b[0;34m\u001b[0m\u001b[0m\n",
            "\u001b[0m\n",
            "ipdb> for x in f:\n",
            "*** IndentationError: expected an indented block after 'for' statement on line 1\n",
            "--KeyboardInterrupt--\n",
            "\n",
            "KeyboardInterrupt: Interrupted by user\n"
          ]
        },
        {
          "output_type": "execute_result",
          "data": {
            "text/plain": [
              "<_io.TextIOWrapper name='sample.txt' mode='r' encoding='UTF-8'>"
            ]
          },
          "metadata": {},
          "execution_count": 6
        }
      ]
    },
    {
      "cell_type": "code",
      "source": [
        "f = open('sample.txt', 'r')\n",
        "for x in f:\n",
        "  print(x)\n",
        "print(f)"
      ],
      "metadata": {
        "colab": {
          "base_uri": "https://localhost:8080/"
        },
        "id": "obgqOW3juBrQ",
        "outputId": "97de595f-e39e-4a6a-b6f5-4dd9993864a5"
      },
      "execution_count": null,
      "outputs": [
        {
          "output_type": "stream",
          "name": "stdout",
          "text": [
            "Hello my name\n",
            "\n",
            "is Ahmad\n",
            "<_io.TextIOWrapper name='sample.txt' mode='r' encoding='UTF-8'>\n"
          ]
        }
      ]
    },
    {
      "cell_type": "code",
      "source": [
        "f.close()\n",
        "print(f)"
      ],
      "metadata": {
        "colab": {
          "base_uri": "https://localhost:8080/"
        },
        "id": "QQ3SRbpdvjb-",
        "outputId": "6c69620c-7c14-4a5c-8c29-df137d1cbb52"
      },
      "execution_count": null,
      "outputs": [
        {
          "output_type": "stream",
          "name": "stdout",
          "text": [
            "<_io.TextIOWrapper name='sample.txt' mode='r' encoding='UTF-8'>\n"
          ]
        }
      ]
    },
    {
      "cell_type": "code",
      "source": [
        "f = open('sample.txt', 'w')\n",
        "f.write('Hey, my name is Ahmad\\nAnd Im 24.')\n",
        "f.close()\n",
        "f = open('sample.txt', 'r')\n",
        "for x in f:\n",
        "  print(x, end=\"\")"
      ],
      "metadata": {
        "colab": {
          "base_uri": "https://localhost:8080/"
        },
        "id": "Avkn5C3owosl",
        "outputId": "01f6fd90-2831-4a99-ea41-5e835d3c4f4a"
      },
      "execution_count": null,
      "outputs": [
        {
          "output_type": "stream",
          "name": "stdout",
          "text": [
            "Hey, my name is Ahmad\n",
            "And Im 24."
          ]
        }
      ]
    },
    {
      "cell_type": "code",
      "source": [
        "import os\n",
        "os.mkdir('/content/hey')"
      ],
      "metadata": {
        "id": "1QM1PUfRxFYV"
      },
      "execution_count": null,
      "outputs": []
    },
    {
      "cell_type": "markdown",
      "source": [
        "# Exam"
      ],
      "metadata": {
        "id": "ubifKpM39H_F"
      }
    },
    {
      "cell_type": "markdown",
      "source": [
        "## Task 1"
      ],
      "metadata": {
        "id": "I_zBvHv9ApFH"
      }
    },
    {
      "cell_type": "code",
      "source": [
        "import pandas as pd\n",
        "\n",
        "diabetes = pd.read_csv('diabetes.csv')"
      ],
      "metadata": {
        "id": "RVGGBkfN9LtY"
      },
      "execution_count": 24,
      "outputs": []
    },
    {
      "cell_type": "code",
      "source": [
        "# Lambda function: Takes one input argument which is of type list, and returns a list\n",
        "modify_column = lambda column:[round(x, 2)*10 for x in column]"
      ],
      "metadata": {
        "id": "-7CR9BBW9V4o"
      },
      "execution_count": 25,
      "outputs": []
    },
    {
      "cell_type": "code",
      "source": [
        "modified_column = modify_column(diabetes['DiabetesPedigreeFunction'])"
      ],
      "metadata": {
        "id": "XNicffQ192oS"
      },
      "execution_count": 26,
      "outputs": []
    },
    {
      "cell_type": "code",
      "source": [
        "diabetes['DiabetesPedigreeFunction'] = modified_column\n",
        "\n",
        "diabetes.head()"
      ],
      "metadata": {
        "colab": {
          "base_uri": "https://localhost:8080/",
          "height": 206
        },
        "id": "p5euSPKB_5cs",
        "outputId": "48ad377d-677a-4212-8e63-1fb66e76d651"
      },
      "execution_count": 27,
      "outputs": [
        {
          "output_type": "execute_result",
          "data": {
            "text/plain": [
              "   Pregnancies  Glucose  BloodPressure  SkinThickness  Insulin   BMI  \\\n",
              "0            6      148             72             35        0  33.6   \n",
              "1            1       85             66             29        0  26.6   \n",
              "2            8      183             64              0        0  23.3   \n",
              "3            1       89             66             23       94  28.1   \n",
              "4            0      137             40             35      168  43.1   \n",
              "\n",
              "   DiabetesPedigreeFunction  Age  Outcome  \n",
              "0                       6.3   50        1  \n",
              "1                       3.5   31        0  \n",
              "2                       6.7   32        1  \n",
              "3                       1.7   21        0  \n",
              "4                      22.9   33        1  "
            ],
            "text/html": [
              "\n",
              "  <div id=\"df-9ad31a04-c5be-44cb-98c8-0f6c5dc7f4fd\">\n",
              "    <div class=\"colab-df-container\">\n",
              "      <div>\n",
              "<style scoped>\n",
              "    .dataframe tbody tr th:only-of-type {\n",
              "        vertical-align: middle;\n",
              "    }\n",
              "\n",
              "    .dataframe tbody tr th {\n",
              "        vertical-align: top;\n",
              "    }\n",
              "\n",
              "    .dataframe thead th {\n",
              "        text-align: right;\n",
              "    }\n",
              "</style>\n",
              "<table border=\"1\" class=\"dataframe\">\n",
              "  <thead>\n",
              "    <tr style=\"text-align: right;\">\n",
              "      <th></th>\n",
              "      <th>Pregnancies</th>\n",
              "      <th>Glucose</th>\n",
              "      <th>BloodPressure</th>\n",
              "      <th>SkinThickness</th>\n",
              "      <th>Insulin</th>\n",
              "      <th>BMI</th>\n",
              "      <th>DiabetesPedigreeFunction</th>\n",
              "      <th>Age</th>\n",
              "      <th>Outcome</th>\n",
              "    </tr>\n",
              "  </thead>\n",
              "  <tbody>\n",
              "    <tr>\n",
              "      <th>0</th>\n",
              "      <td>6</td>\n",
              "      <td>148</td>\n",
              "      <td>72</td>\n",
              "      <td>35</td>\n",
              "      <td>0</td>\n",
              "      <td>33.6</td>\n",
              "      <td>6.3</td>\n",
              "      <td>50</td>\n",
              "      <td>1</td>\n",
              "    </tr>\n",
              "    <tr>\n",
              "      <th>1</th>\n",
              "      <td>1</td>\n",
              "      <td>85</td>\n",
              "      <td>66</td>\n",
              "      <td>29</td>\n",
              "      <td>0</td>\n",
              "      <td>26.6</td>\n",
              "      <td>3.5</td>\n",
              "      <td>31</td>\n",
              "      <td>0</td>\n",
              "    </tr>\n",
              "    <tr>\n",
              "      <th>2</th>\n",
              "      <td>8</td>\n",
              "      <td>183</td>\n",
              "      <td>64</td>\n",
              "      <td>0</td>\n",
              "      <td>0</td>\n",
              "      <td>23.3</td>\n",
              "      <td>6.7</td>\n",
              "      <td>32</td>\n",
              "      <td>1</td>\n",
              "    </tr>\n",
              "    <tr>\n",
              "      <th>3</th>\n",
              "      <td>1</td>\n",
              "      <td>89</td>\n",
              "      <td>66</td>\n",
              "      <td>23</td>\n",
              "      <td>94</td>\n",
              "      <td>28.1</td>\n",
              "      <td>1.7</td>\n",
              "      <td>21</td>\n",
              "      <td>0</td>\n",
              "    </tr>\n",
              "    <tr>\n",
              "      <th>4</th>\n",
              "      <td>0</td>\n",
              "      <td>137</td>\n",
              "      <td>40</td>\n",
              "      <td>35</td>\n",
              "      <td>168</td>\n",
              "      <td>43.1</td>\n",
              "      <td>22.9</td>\n",
              "      <td>33</td>\n",
              "      <td>1</td>\n",
              "    </tr>\n",
              "  </tbody>\n",
              "</table>\n",
              "</div>\n",
              "      <button class=\"colab-df-convert\" onclick=\"convertToInteractive('df-9ad31a04-c5be-44cb-98c8-0f6c5dc7f4fd')\"\n",
              "              title=\"Convert this dataframe to an interactive table.\"\n",
              "              style=\"display:none;\">\n",
              "        \n",
              "  <svg xmlns=\"http://www.w3.org/2000/svg\" height=\"24px\"viewBox=\"0 0 24 24\"\n",
              "       width=\"24px\">\n",
              "    <path d=\"M0 0h24v24H0V0z\" fill=\"none\"/>\n",
              "    <path d=\"M18.56 5.44l.94 2.06.94-2.06 2.06-.94-2.06-.94-.94-2.06-.94 2.06-2.06.94zm-11 1L8.5 8.5l.94-2.06 2.06-.94-2.06-.94L8.5 2.5l-.94 2.06-2.06.94zm10 10l.94 2.06.94-2.06 2.06-.94-2.06-.94-.94-2.06-.94 2.06-2.06.94z\"/><path d=\"M17.41 7.96l-1.37-1.37c-.4-.4-.92-.59-1.43-.59-.52 0-1.04.2-1.43.59L10.3 9.45l-7.72 7.72c-.78.78-.78 2.05 0 2.83L4 21.41c.39.39.9.59 1.41.59.51 0 1.02-.2 1.41-.59l7.78-7.78 2.81-2.81c.8-.78.8-2.07 0-2.86zM5.41 20L4 18.59l7.72-7.72 1.47 1.35L5.41 20z\"/>\n",
              "  </svg>\n",
              "      </button>\n",
              "      \n",
              "  <style>\n",
              "    .colab-df-container {\n",
              "      display:flex;\n",
              "      flex-wrap:wrap;\n",
              "      gap: 12px;\n",
              "    }\n",
              "\n",
              "    .colab-df-convert {\n",
              "      background-color: #E8F0FE;\n",
              "      border: none;\n",
              "      border-radius: 50%;\n",
              "      cursor: pointer;\n",
              "      display: none;\n",
              "      fill: #1967D2;\n",
              "      height: 32px;\n",
              "      padding: 0 0 0 0;\n",
              "      width: 32px;\n",
              "    }\n",
              "\n",
              "    .colab-df-convert:hover {\n",
              "      background-color: #E2EBFA;\n",
              "      box-shadow: 0px 1px 2px rgba(60, 64, 67, 0.3), 0px 1px 3px 1px rgba(60, 64, 67, 0.15);\n",
              "      fill: #174EA6;\n",
              "    }\n",
              "\n",
              "    [theme=dark] .colab-df-convert {\n",
              "      background-color: #3B4455;\n",
              "      fill: #D2E3FC;\n",
              "    }\n",
              "\n",
              "    [theme=dark] .colab-df-convert:hover {\n",
              "      background-color: #434B5C;\n",
              "      box-shadow: 0px 1px 3px 1px rgba(0, 0, 0, 0.15);\n",
              "      filter: drop-shadow(0px 1px 2px rgba(0, 0, 0, 0.3));\n",
              "      fill: #FFFFFF;\n",
              "    }\n",
              "  </style>\n",
              "\n",
              "      <script>\n",
              "        const buttonEl =\n",
              "          document.querySelector('#df-9ad31a04-c5be-44cb-98c8-0f6c5dc7f4fd button.colab-df-convert');\n",
              "        buttonEl.style.display =\n",
              "          google.colab.kernel.accessAllowed ? 'block' : 'none';\n",
              "\n",
              "        async function convertToInteractive(key) {\n",
              "          const element = document.querySelector('#df-9ad31a04-c5be-44cb-98c8-0f6c5dc7f4fd');\n",
              "          const dataTable =\n",
              "            await google.colab.kernel.invokeFunction('convertToInteractive',\n",
              "                                                     [key], {});\n",
              "          if (!dataTable) return;\n",
              "\n",
              "          const docLinkHtml = 'Like what you see? Visit the ' +\n",
              "            '<a target=\"_blank\" href=https://colab.research.google.com/notebooks/data_table.ipynb>data table notebook</a>'\n",
              "            + ' to learn more about interactive tables.';\n",
              "          element.innerHTML = '';\n",
              "          dataTable['output_type'] = 'display_data';\n",
              "          await google.colab.output.renderOutput(dataTable, element);\n",
              "          const docLink = document.createElement('div');\n",
              "          docLink.innerHTML = docLinkHtml;\n",
              "          element.appendChild(docLink);\n",
              "        }\n",
              "      </script>\n",
              "    </div>\n",
              "  </div>\n",
              "  "
            ]
          },
          "metadata": {},
          "execution_count": 27
        }
      ]
    },
    {
      "cell_type": "code",
      "source": [
        "import functools\n",
        "total = functools.reduce(lambda x, y: x+y, diabetes['DiabetesPedigreeFunction'])\n",
        "total"
      ],
      "metadata": {
        "colab": {
          "base_uri": "https://localhost:8080/"
        },
        "id": "iRjBb8UsCHg4",
        "outputId": "3f252c74-56ba-4807-d608-fa25880404dc"
      },
      "execution_count": 31,
      "outputs": [
        {
          "output_type": "execute_result",
          "data": {
            "text/plain": [
              "3623.5000000000027"
            ]
          },
          "metadata": {},
          "execution_count": 31
        }
      ]
    },
    {
      "cell_type": "code",
      "source": [
        "diabetes.to_csv('/content/diabetes_updated.csv')"
      ],
      "metadata": {
        "id": "6WWhg6v9eP_k"
      },
      "execution_count": 181,
      "outputs": []
    },
    {
      "cell_type": "markdown",
      "source": [
        "## Task 2"
      ],
      "metadata": {
        "id": "XI7HrYeFAsH0"
      }
    },
    {
      "cell_type": "code",
      "source": [
        "motor_vehicle = pd.read_csv('/content/drive/MyDrive/datasets/Motor_Vehicle_Collisions_-_Crashes.csv')"
      ],
      "metadata": {
        "colab": {
          "base_uri": "https://localhost:8080/"
        },
        "id": "cAAHr5XeATtK",
        "outputId": "1ae431b5-6c8b-4a9b-bce3-6442db37fcdf"
      },
      "execution_count": 141,
      "outputs": [
        {
          "output_type": "stream",
          "name": "stderr",
          "text": [
            "<ipython-input-141-e8f80ade322b>:1: DtypeWarning: Columns (3) have mixed types. Specify dtype option on import or set low_memory=False.\n",
            "  motor_vehicle = pd.read_csv('/content/drive/MyDrive/datasets/Motor_Vehicle_Collisions_-_Crashes.csv')\n"
          ]
        }
      ]
    },
    {
      "cell_type": "code",
      "source": [
        "# Number of nan values in each column\n",
        "motor_vehicle.isnull().sum() "
      ],
      "metadata": {
        "colab": {
          "base_uri": "https://localhost:8080/"
        },
        "id": "nJ1RcJPrFOyu",
        "outputId": "5f04476e-a673-40a2-96e8-0c8524a13d79"
      },
      "execution_count": 128,
      "outputs": [
        {
          "output_type": "execute_result",
          "data": {
            "text/plain": [
              "CRASH DATE                             0\n",
              "CRASH TIME                             0\n",
              "BOROUGH                           618045\n",
              "ZIP CODE                          618283\n",
              "LATITUDE                          227222\n",
              "LONGITUDE                         227222\n",
              "LOCATION                          227222\n",
              "ON STREET NAME                    416003\n",
              "CROSS STREET NAME                 739381\n",
              "OFF STREET NAME                  1663689\n",
              "NUMBER OF PERSONS INJURED             18\n",
              "NUMBER OF PERSONS KILLED              31\n",
              "NUMBER OF PEDESTRIANS INJURED          0\n",
              "NUMBER OF PEDESTRIANS KILLED           0\n",
              "NUMBER OF CYCLIST INJURED              0\n",
              "NUMBER OF CYCLIST KILLED               0\n",
              "NUMBER OF MOTORIST INJURED             0\n",
              "NUMBER OF MOTORIST KILLED              0\n",
              "CONTRIBUTING FACTOR VEHICLE 1       6176\n",
              "CONTRIBUTING FACTOR VEHICLE 2     301227\n",
              "CONTRIBUTING FACTOR VEHICLE 3    1847112\n",
              "CONTRIBUTING FACTOR VEHICLE 4    1955946\n",
              "CONTRIBUTING FACTOR VEHICLE 5    1978863\n",
              "COLLISION_ID                           0\n",
              "VEHICLE TYPE CODE 1                12244\n",
              "VEHICLE TYPE CODE 2               367161\n",
              "VEHICLE TYPE CODE 3              1851891\n",
              "VEHICLE TYPE CODE 4              1956981\n",
              "VEHICLE TYPE CODE 5              1979113\n",
              "dtype: int64"
            ]
          },
          "metadata": {},
          "execution_count": 128
        }
      ]
    },
    {
      "cell_type": "code",
      "source": [
        "# Data cleaning\n",
        "import random\n",
        "import numpy as np\n",
        "\n",
        "mean_latitude = motor_vehicle['LATITUDE'].mean()\n",
        "std_latitude = motor_vehicle['LATITUDE'].std()\n",
        "\n",
        "def fill_missing(column_val):\n",
        "  if np.isnan(column_val) == True or column_val == 0: \n",
        "        column_val = np.random.normal(mean_latitude, std_latitude, 1)\n",
        "  return column_val\n",
        "\n",
        "motor_vehicle['LATITUDE'] = motor_vehicle['LATITUDE'].apply(fill_missing) \n",
        "motor_vehicle['LONGITUDE'] = motor_vehicle['LONGITUDE'].apply(fill_missing) \n",
        "\n",
        "# Updated number of null values\n",
        "motor_vehicle.isnull().sum() "
      ],
      "metadata": {
        "colab": {
          "base_uri": "https://localhost:8080/"
        },
        "id": "uQzBc0DjFRvd",
        "outputId": "f1215626-80d2-4fc9-9704-3b43b7fde27d"
      },
      "execution_count": 146,
      "outputs": [
        {
          "output_type": "execute_result",
          "data": {
            "text/plain": [
              "CRASH DATE                             0\n",
              "CRASH TIME                             0\n",
              "BOROUGH                           618045\n",
              "ZIP CODE                          618283\n",
              "LATITUDE                               0\n",
              "LONGITUDE                              0\n",
              "LOCATION                          227222\n",
              "ON STREET NAME                    416003\n",
              "CROSS STREET NAME                 739381\n",
              "OFF STREET NAME                  1663689\n",
              "NUMBER OF PERSONS INJURED             18\n",
              "NUMBER OF PERSONS KILLED              31\n",
              "NUMBER OF PEDESTRIANS INJURED          0\n",
              "NUMBER OF PEDESTRIANS KILLED           0\n",
              "NUMBER OF CYCLIST INJURED              0\n",
              "NUMBER OF CYCLIST KILLED               0\n",
              "NUMBER OF MOTORIST INJURED             0\n",
              "NUMBER OF MOTORIST KILLED              0\n",
              "CONTRIBUTING FACTOR VEHICLE 1       6176\n",
              "CONTRIBUTING FACTOR VEHICLE 2     301227\n",
              "CONTRIBUTING FACTOR VEHICLE 3    1847112\n",
              "CONTRIBUTING FACTOR VEHICLE 4    1955946\n",
              "CONTRIBUTING FACTOR VEHICLE 5    1978863\n",
              "COLLISION_ID                           0\n",
              "VEHICLE TYPE CODE 1                12244\n",
              "VEHICLE TYPE CODE 2               367161\n",
              "VEHICLE TYPE CODE 3              1851891\n",
              "VEHICLE TYPE CODE 4              1956981\n",
              "VEHICLE TYPE CODE 5              1979113\n",
              "dtype: int64"
            ]
          },
          "metadata": {},
          "execution_count": 146
        }
      ]
    },
    {
      "cell_type": "code",
      "source": [
        "# Regex\n",
        "import re\n",
        "\n",
        "# Converting latitude and longitude columns to str\n",
        "motor_vehicle['LATITUDE'] = motor_vehicle['LATITUDE'].astype(str)\n",
        "motor_vehicle['LONGITUDE'] = motor_vehicle['LONGITUDE'].astype(str)"
      ],
      "metadata": {
        "id": "4lVQ7GRNFfBr"
      },
      "execution_count": 147,
      "outputs": []
    },
    {
      "cell_type": "code",
      "source": [
        "regex_column = []\n",
        "\n",
        "motor_vehicle_truncated = motor_vehicle.truncate(0, 99)\n",
        "\n",
        "for i, row in motor_vehicle_truncated.iterrows():\n",
        "  day = re.search('\\d\\d', row['CRASH DATE'])\n",
        "  latitude = re.search('[.]\\d\\d\\d\\d', row['LATITUDE'])\n",
        "  longitude = re.search('[.]\\d\\d\\d\\d', row['LONGITUDE'])\n",
        "  regex_column.append(day.group(0) + latitude.group(0) + longitude.group(0))"
      ],
      "metadata": {
        "colab": {
          "base_uri": "https://localhost:8080/"
        },
        "id": "C0vD3jO-RV6e",
        "outputId": "d496b592-a8eb-46df-cf88-8e59dd1fa360"
      },
      "execution_count": 149,
      "outputs": [
        {
          "output_type": "stream",
          "name": "stdout",
          "text": [
            "0\n",
            "[41.61924193] --- [41.57385019]\n",
            "1\n",
            "[46.2831186] --- [38.6198608]\n",
            "2\n",
            "[42.28312726] --- [41.43007463]\n",
            "3\n",
            "40.667202 --- -73.8665\n",
            "4\n",
            "40.683304 --- -73.917274\n",
            "5\n",
            "[37.66746336] --- [41.94023794]\n",
            "6\n",
            "40.709183 --- -73.956825\n",
            "7\n",
            "40.86816 --- -73.83148\n",
            "8\n",
            "40.67172 --- -73.8971\n",
            "9\n",
            "40.75144 --- -73.97397\n",
            "10\n",
            "40.701275 --- -73.88887\n",
            "11\n",
            "40.675884 --- -73.75577\n",
            "12\n",
            "[43.78587796] --- [40.51242796]\n",
            "13\n",
            "40.59662 --- -74.00231\n",
            "14\n",
            "40.66684 --- -73.78941\n",
            "15\n",
            "40.68158 --- -73.97463\n",
            "16\n",
            "40.65068 --- -73.95881\n",
            "17\n",
            "[40.14642789] --- [42.04943508]\n",
            "18\n",
            "40.87262 --- -73.904686\n",
            "19\n",
            "40.783268 --- -73.82485\n",
            "20\n",
            "40.748917 --- -73.993546\n",
            "21\n",
            "40.744644 --- -73.77041\n",
            "22\n",
            "40.75373 --- -73.88505\n",
            "23\n",
            "40.804375 --- -73.93742\n",
            "24\n",
            "40.63165 --- -74.08762\n",
            "25\n",
            "40.623104 --- -73.95809\n",
            "26\n",
            "40.66576 --- -73.9845\n",
            "27\n",
            "40.687534 --- -73.9775\n",
            "28\n",
            "40.710957 --- -73.951126\n",
            "29\n",
            "40.81813 --- -73.910126\n",
            "30\n",
            "40.70447 --- -73.90148\n",
            "31\n",
            "40.784615 --- -73.953964\n",
            "32\n",
            "[40.18442316] --- [38.99574075]\n",
            "33\n",
            "[40.01040395] --- [42.68728995]\n",
            "34\n",
            "[40.11745568] --- [41.10710431]\n",
            "35\n",
            "[42.10202856] --- [38.69859989]\n",
            "36\n",
            "[40.13052503] --- [42.29612219]\n",
            "37\n",
            "40.663303 --- -73.96049\n",
            "38\n",
            "[42.57192154] --- [42.0398648]\n",
            "39\n",
            "40.720535 --- -73.88885\n",
            "40\n",
            "40.607685 --- -74.13892\n",
            "41\n",
            "40.855972 --- -73.869896\n",
            "42\n",
            "40.790276 --- -73.9396\n",
            "43\n",
            "40.642986 --- -74.01621\n",
            "44\n",
            "[40.0180793] --- [40.1002604]\n",
            "45\n",
            "40.843906 --- -73.92413\n",
            "46\n",
            "40.89481 --- -73.86183\n",
            "47\n",
            "[41.48493325] --- [41.58842571]\n",
            "48\n",
            "40.85169 --- -73.95238\n",
            "49\n",
            "40.861862 --- -73.91275\n",
            "50\n",
            "40.666256 --- -73.900215\n",
            "51\n",
            "40.767242 --- -73.986206\n",
            "52\n",
            "40.62417 --- -73.97048\n",
            "53\n",
            "40.679955 --- -73.97491\n",
            "54\n",
            "40.692356 --- -73.94282\n",
            "55\n",
            "40.78291 --- -73.98578\n",
            "56\n",
            "40.67308 --- -73.91124\n",
            "57\n",
            "40.65011 --- -73.930214\n",
            "58\n",
            "40.638382 --- -74.03668\n",
            "59\n",
            "40.69261 --- -73.81143\n",
            "60\n",
            "40.745235 --- -73.937706\n",
            "61\n",
            "[42.37936128] --- [40.02190325]\n",
            "62\n",
            "40.758705 --- -73.93793\n",
            "63\n",
            "40.695156 --- -73.845406\n",
            "64\n",
            "40.748158 --- -73.97033\n",
            "65\n",
            "40.609535 --- -73.75372\n",
            "66\n",
            "40.59207 --- -73.96299\n",
            "67\n",
            "40.850018 --- -73.9107\n",
            "68\n",
            "40.653023 --- -73.73895\n",
            "69\n",
            "40.62573 --- -73.9564\n",
            "70\n",
            "40.665375 --- -73.934235\n",
            "71\n",
            "40.776237 --- -73.943825\n",
            "72\n",
            "40.640835 --- -73.98967\n",
            "73\n",
            "40.593636 --- -73.797264\n",
            "74\n",
            "40.674263 --- -73.80453\n",
            "75\n",
            "40.70476 --- -73.96491\n",
            "76\n",
            "40.569626 --- -74.190735\n",
            "77\n",
            "40.698463 --- -73.960205\n",
            "78\n",
            "40.658413 --- -73.9171\n",
            "79\n",
            "40.76175 --- -73.96899\n",
            "80\n",
            "40.736614 --- -73.9951\n",
            "81\n",
            "[39.31676086] --- [41.61026208]\n",
            "82\n",
            "[43.0200988] --- [37.30867729]\n",
            "83\n",
            "40.62121 --- -74.12385\n",
            "84\n",
            "40.873737 --- -73.90593\n",
            "85\n",
            "40.66718 --- -73.95076\n",
            "86\n",
            "40.754295 --- -73.93946\n",
            "87\n",
            "40.588116 --- -73.97261\n",
            "88\n",
            "40.854935 --- -73.85822\n",
            "89\n",
            "40.662575 --- -73.93448\n",
            "90\n",
            "40.7448 --- -73.953415\n",
            "91\n",
            "40.79672 --- -73.97618\n",
            "92\n",
            "40.752777 --- -73.70743\n",
            "93\n",
            "40.638523 --- -73.92607\n",
            "94\n",
            "40.637833 --- -74.08193\n",
            "95\n",
            "40.797836 --- -73.96946\n",
            "96\n",
            "40.734375 --- -73.87342\n",
            "97\n",
            "40.699947 --- -73.736626\n",
            "98\n",
            "40.75632 --- -73.999275\n",
            "99\n",
            "40.69614 --- -73.81789\n"
          ]
        }
      ]
    },
    {
      "cell_type": "code",
      "source": [
        "motor_vehicle_truncated.insert(len(motor_vehicle_truncated), 'Regexes', regex_column)"
      ],
      "metadata": {
        "id": "eVrCwT0HTOO4"
      },
      "execution_count": null,
      "outputs": []
    },
    {
      "cell_type": "code",
      "source": [
        "motor_vehicle_truncated.head()"
      ],
      "metadata": {
        "colab": {
          "base_uri": "https://localhost:8080/",
          "height": 438
        },
        "id": "AjP6nLHGOE_0",
        "outputId": "25c4631a-717e-4939-9579-ddbe230890eb"
      },
      "execution_count": 160,
      "outputs": [
        {
          "output_type": "execute_result",
          "data": {
            "text/plain": [
              "   CRASH DATE CRASH TIME   BOROUGH ZIP CODE       LATITUDE      LONGITUDE  \\\n",
              "0  09/11/2021       2:39       NaN      NaN  [41.61924193]  [41.57385019]   \n",
              "1  03/26/2022      11:45       NaN      NaN   [46.2831186]   [38.6198608]   \n",
              "2  06/29/2022       6:55       NaN      NaN  [42.28312726]  [41.43007463]   \n",
              "3  09/11/2021       9:35  BROOKLYN  11208.0      40.667202       -73.8665   \n",
              "4  12/14/2021       8:13  BROOKLYN  11233.0      40.683304     -73.917274   \n",
              "\n",
              "                  LOCATION           ON STREET NAME CROSS STREET NAME  \\\n",
              "0                      NaN    WHITESTONE EXPRESSWAY         20 AVENUE   \n",
              "1                      NaN  QUEENSBORO BRIDGE UPPER               NaN   \n",
              "2                      NaN       THROGS NECK BRIDGE               NaN   \n",
              "3    (40.667202, -73.8665)                      NaN               NaN   \n",
              "4  (40.683304, -73.917274)          SARATOGA AVENUE    DECATUR STREET   \n",
              "\n",
              "        Regexes  ... CONTRIBUTING FACTOR VEHICLE 2  \\\n",
              "0  09.6192.5738  ...                   Unspecified   \n",
              "1  03.2831.6198  ...                           NaN   \n",
              "2  06.2831.4300  ...                   Unspecified   \n",
              "3  09.6672.8665  ...                           NaN   \n",
              "4  12.6833.9172  ...                           NaN   \n",
              "\n",
              "   CONTRIBUTING FACTOR VEHICLE 3  CONTRIBUTING FACTOR VEHICLE 4  \\\n",
              "0                            NaN                            NaN   \n",
              "1                            NaN                            NaN   \n",
              "2                            NaN                            NaN   \n",
              "3                            NaN                            NaN   \n",
              "4                            NaN                            NaN   \n",
              "\n",
              "   CONTRIBUTING FACTOR VEHICLE 5  COLLISION_ID  VEHICLE TYPE CODE 1  \\\n",
              "0                            NaN       4455765                Sedan   \n",
              "1                            NaN       4513547                Sedan   \n",
              "2                            NaN       4541903                Sedan   \n",
              "3                            NaN       4456314                Sedan   \n",
              "4                            NaN       4486609                  NaN   \n",
              "\n",
              "   VEHICLE TYPE CODE 2  VEHICLE TYPE CODE 3  VEHICLE TYPE CODE 4  \\\n",
              "0                Sedan                  NaN                  NaN   \n",
              "1                  NaN                  NaN                  NaN   \n",
              "2        Pick-up Truck                  NaN                  NaN   \n",
              "3                  NaN                  NaN                  NaN   \n",
              "4                  NaN                  NaN                  NaN   \n",
              "\n",
              "  VEHICLE TYPE CODE 5  \n",
              "0                 NaN  \n",
              "1                 NaN  \n",
              "2                 NaN  \n",
              "3                 NaN  \n",
              "4                 NaN  \n",
              "\n",
              "[5 rows x 30 columns]"
            ],
            "text/html": [
              "\n",
              "  <div id=\"df-b1bb9db7-8633-4044-9948-3d9ed389d221\">\n",
              "    <div class=\"colab-df-container\">\n",
              "      <div>\n",
              "<style scoped>\n",
              "    .dataframe tbody tr th:only-of-type {\n",
              "        vertical-align: middle;\n",
              "    }\n",
              "\n",
              "    .dataframe tbody tr th {\n",
              "        vertical-align: top;\n",
              "    }\n",
              "\n",
              "    .dataframe thead th {\n",
              "        text-align: right;\n",
              "    }\n",
              "</style>\n",
              "<table border=\"1\" class=\"dataframe\">\n",
              "  <thead>\n",
              "    <tr style=\"text-align: right;\">\n",
              "      <th></th>\n",
              "      <th>CRASH DATE</th>\n",
              "      <th>CRASH TIME</th>\n",
              "      <th>BOROUGH</th>\n",
              "      <th>ZIP CODE</th>\n",
              "      <th>LATITUDE</th>\n",
              "      <th>LONGITUDE</th>\n",
              "      <th>LOCATION</th>\n",
              "      <th>ON STREET NAME</th>\n",
              "      <th>CROSS STREET NAME</th>\n",
              "      <th>Regexes</th>\n",
              "      <th>...</th>\n",
              "      <th>CONTRIBUTING FACTOR VEHICLE 2</th>\n",
              "      <th>CONTRIBUTING FACTOR VEHICLE 3</th>\n",
              "      <th>CONTRIBUTING FACTOR VEHICLE 4</th>\n",
              "      <th>CONTRIBUTING FACTOR VEHICLE 5</th>\n",
              "      <th>COLLISION_ID</th>\n",
              "      <th>VEHICLE TYPE CODE 1</th>\n",
              "      <th>VEHICLE TYPE CODE 2</th>\n",
              "      <th>VEHICLE TYPE CODE 3</th>\n",
              "      <th>VEHICLE TYPE CODE 4</th>\n",
              "      <th>VEHICLE TYPE CODE 5</th>\n",
              "    </tr>\n",
              "  </thead>\n",
              "  <tbody>\n",
              "    <tr>\n",
              "      <th>0</th>\n",
              "      <td>09/11/2021</td>\n",
              "      <td>2:39</td>\n",
              "      <td>NaN</td>\n",
              "      <td>NaN</td>\n",
              "      <td>[41.61924193]</td>\n",
              "      <td>[41.57385019]</td>\n",
              "      <td>NaN</td>\n",
              "      <td>WHITESTONE EXPRESSWAY</td>\n",
              "      <td>20 AVENUE</td>\n",
              "      <td>09.6192.5738</td>\n",
              "      <td>...</td>\n",
              "      <td>Unspecified</td>\n",
              "      <td>NaN</td>\n",
              "      <td>NaN</td>\n",
              "      <td>NaN</td>\n",
              "      <td>4455765</td>\n",
              "      <td>Sedan</td>\n",
              "      <td>Sedan</td>\n",
              "      <td>NaN</td>\n",
              "      <td>NaN</td>\n",
              "      <td>NaN</td>\n",
              "    </tr>\n",
              "    <tr>\n",
              "      <th>1</th>\n",
              "      <td>03/26/2022</td>\n",
              "      <td>11:45</td>\n",
              "      <td>NaN</td>\n",
              "      <td>NaN</td>\n",
              "      <td>[46.2831186]</td>\n",
              "      <td>[38.6198608]</td>\n",
              "      <td>NaN</td>\n",
              "      <td>QUEENSBORO BRIDGE UPPER</td>\n",
              "      <td>NaN</td>\n",
              "      <td>03.2831.6198</td>\n",
              "      <td>...</td>\n",
              "      <td>NaN</td>\n",
              "      <td>NaN</td>\n",
              "      <td>NaN</td>\n",
              "      <td>NaN</td>\n",
              "      <td>4513547</td>\n",
              "      <td>Sedan</td>\n",
              "      <td>NaN</td>\n",
              "      <td>NaN</td>\n",
              "      <td>NaN</td>\n",
              "      <td>NaN</td>\n",
              "    </tr>\n",
              "    <tr>\n",
              "      <th>2</th>\n",
              "      <td>06/29/2022</td>\n",
              "      <td>6:55</td>\n",
              "      <td>NaN</td>\n",
              "      <td>NaN</td>\n",
              "      <td>[42.28312726]</td>\n",
              "      <td>[41.43007463]</td>\n",
              "      <td>NaN</td>\n",
              "      <td>THROGS NECK BRIDGE</td>\n",
              "      <td>NaN</td>\n",
              "      <td>06.2831.4300</td>\n",
              "      <td>...</td>\n",
              "      <td>Unspecified</td>\n",
              "      <td>NaN</td>\n",
              "      <td>NaN</td>\n",
              "      <td>NaN</td>\n",
              "      <td>4541903</td>\n",
              "      <td>Sedan</td>\n",
              "      <td>Pick-up Truck</td>\n",
              "      <td>NaN</td>\n",
              "      <td>NaN</td>\n",
              "      <td>NaN</td>\n",
              "    </tr>\n",
              "    <tr>\n",
              "      <th>3</th>\n",
              "      <td>09/11/2021</td>\n",
              "      <td>9:35</td>\n",
              "      <td>BROOKLYN</td>\n",
              "      <td>11208.0</td>\n",
              "      <td>40.667202</td>\n",
              "      <td>-73.8665</td>\n",
              "      <td>(40.667202, -73.8665)</td>\n",
              "      <td>NaN</td>\n",
              "      <td>NaN</td>\n",
              "      <td>09.6672.8665</td>\n",
              "      <td>...</td>\n",
              "      <td>NaN</td>\n",
              "      <td>NaN</td>\n",
              "      <td>NaN</td>\n",
              "      <td>NaN</td>\n",
              "      <td>4456314</td>\n",
              "      <td>Sedan</td>\n",
              "      <td>NaN</td>\n",
              "      <td>NaN</td>\n",
              "      <td>NaN</td>\n",
              "      <td>NaN</td>\n",
              "    </tr>\n",
              "    <tr>\n",
              "      <th>4</th>\n",
              "      <td>12/14/2021</td>\n",
              "      <td>8:13</td>\n",
              "      <td>BROOKLYN</td>\n",
              "      <td>11233.0</td>\n",
              "      <td>40.683304</td>\n",
              "      <td>-73.917274</td>\n",
              "      <td>(40.683304, -73.917274)</td>\n",
              "      <td>SARATOGA AVENUE</td>\n",
              "      <td>DECATUR STREET</td>\n",
              "      <td>12.6833.9172</td>\n",
              "      <td>...</td>\n",
              "      <td>NaN</td>\n",
              "      <td>NaN</td>\n",
              "      <td>NaN</td>\n",
              "      <td>NaN</td>\n",
              "      <td>4486609</td>\n",
              "      <td>NaN</td>\n",
              "      <td>NaN</td>\n",
              "      <td>NaN</td>\n",
              "      <td>NaN</td>\n",
              "      <td>NaN</td>\n",
              "    </tr>\n",
              "  </tbody>\n",
              "</table>\n",
              "<p>5 rows × 30 columns</p>\n",
              "</div>\n",
              "      <button class=\"colab-df-convert\" onclick=\"convertToInteractive('df-b1bb9db7-8633-4044-9948-3d9ed389d221')\"\n",
              "              title=\"Convert this dataframe to an interactive table.\"\n",
              "              style=\"display:none;\">\n",
              "        \n",
              "  <svg xmlns=\"http://www.w3.org/2000/svg\" height=\"24px\"viewBox=\"0 0 24 24\"\n",
              "       width=\"24px\">\n",
              "    <path d=\"M0 0h24v24H0V0z\" fill=\"none\"/>\n",
              "    <path d=\"M18.56 5.44l.94 2.06.94-2.06 2.06-.94-2.06-.94-.94-2.06-.94 2.06-2.06.94zm-11 1L8.5 8.5l.94-2.06 2.06-.94-2.06-.94L8.5 2.5l-.94 2.06-2.06.94zm10 10l.94 2.06.94-2.06 2.06-.94-2.06-.94-.94-2.06-.94 2.06-2.06.94z\"/><path d=\"M17.41 7.96l-1.37-1.37c-.4-.4-.92-.59-1.43-.59-.52 0-1.04.2-1.43.59L10.3 9.45l-7.72 7.72c-.78.78-.78 2.05 0 2.83L4 21.41c.39.39.9.59 1.41.59.51 0 1.02-.2 1.41-.59l7.78-7.78 2.81-2.81c.8-.78.8-2.07 0-2.86zM5.41 20L4 18.59l7.72-7.72 1.47 1.35L5.41 20z\"/>\n",
              "  </svg>\n",
              "      </button>\n",
              "      \n",
              "  <style>\n",
              "    .colab-df-container {\n",
              "      display:flex;\n",
              "      flex-wrap:wrap;\n",
              "      gap: 12px;\n",
              "    }\n",
              "\n",
              "    .colab-df-convert {\n",
              "      background-color: #E8F0FE;\n",
              "      border: none;\n",
              "      border-radius: 50%;\n",
              "      cursor: pointer;\n",
              "      display: none;\n",
              "      fill: #1967D2;\n",
              "      height: 32px;\n",
              "      padding: 0 0 0 0;\n",
              "      width: 32px;\n",
              "    }\n",
              "\n",
              "    .colab-df-convert:hover {\n",
              "      background-color: #E2EBFA;\n",
              "      box-shadow: 0px 1px 2px rgba(60, 64, 67, 0.3), 0px 1px 3px 1px rgba(60, 64, 67, 0.15);\n",
              "      fill: #174EA6;\n",
              "    }\n",
              "\n",
              "    [theme=dark] .colab-df-convert {\n",
              "      background-color: #3B4455;\n",
              "      fill: #D2E3FC;\n",
              "    }\n",
              "\n",
              "    [theme=dark] .colab-df-convert:hover {\n",
              "      background-color: #434B5C;\n",
              "      box-shadow: 0px 1px 3px 1px rgba(0, 0, 0, 0.15);\n",
              "      filter: drop-shadow(0px 1px 2px rgba(0, 0, 0, 0.3));\n",
              "      fill: #FFFFFF;\n",
              "    }\n",
              "  </style>\n",
              "\n",
              "      <script>\n",
              "        const buttonEl =\n",
              "          document.querySelector('#df-b1bb9db7-8633-4044-9948-3d9ed389d221 button.colab-df-convert');\n",
              "        buttonEl.style.display =\n",
              "          google.colab.kernel.accessAllowed ? 'block' : 'none';\n",
              "\n",
              "        async function convertToInteractive(key) {\n",
              "          const element = document.querySelector('#df-b1bb9db7-8633-4044-9948-3d9ed389d221');\n",
              "          const dataTable =\n",
              "            await google.colab.kernel.invokeFunction('convertToInteractive',\n",
              "                                                     [key], {});\n",
              "          if (!dataTable) return;\n",
              "\n",
              "          const docLinkHtml = 'Like what you see? Visit the ' +\n",
              "            '<a target=\"_blank\" href=https://colab.research.google.com/notebooks/data_table.ipynb>data table notebook</a>'\n",
              "            + ' to learn more about interactive tables.';\n",
              "          element.innerHTML = '';\n",
              "          dataTable['output_type'] = 'display_data';\n",
              "          await google.colab.output.renderOutput(dataTable, element);\n",
              "          const docLink = document.createElement('div');\n",
              "          docLink.innerHTML = docLinkHtml;\n",
              "          element.appendChild(docLink);\n",
              "        }\n",
              "      </script>\n",
              "    </div>\n",
              "  </div>\n",
              "  "
            ]
          },
          "metadata": {},
          "execution_count": 160
        }
      ]
    },
    {
      "cell_type": "markdown",
      "source": [
        "## Task 3"
      ],
      "metadata": {
        "id": "ZKLdRLDbZ-lP"
      }
    },
    {
      "cell_type": "code",
      "source": [
        "motor_vehicle_truncated['CRASH TIME'] = pd.to_datetime(motor_vehicle_truncated['CRASH TIME'])\n",
        "\n",
        "# Create a line chart\n",
        "motor_vehicle_truncated.plot(x='CRASH TIME', y='NUMBER OF MOTORIST INJURED', kind='line')\n",
        "\n",
        "# Create a bar chart\n",
        "more_truncated = motor_vehicle_truncated.truncate(0, 10)\n",
        "more_truncated.plot(x='CRASH TIME', y='NUMBER OF MOTORIST INJURED', kind='bar')"
      ],
      "metadata": {
        "colab": {
          "base_uri": "https://localhost:8080/",
          "height": 1000
        },
        "id": "NDi758UrY6vR",
        "outputId": "a9dd2980-8572-40d1-923a-fc2129a68c5f"
      },
      "execution_count": 180,
      "outputs": [
        {
          "output_type": "execute_result",
          "data": {
            "text/plain": [
              "<Axes: xlabel='CRASH TIME'>"
            ]
          },
          "metadata": {},
          "execution_count": 180
        },
        {
          "output_type": "display_data",
          "data": {
            "text/plain": [
              "<Figure size 640x480 with 1 Axes>"
            ],
            "image/png": "[encoded data removed]"
          },
          "metadata": {}
        },
        {
          "output_type": "display_data",
          "data": {
            "text/plain": [
              "<Figure size 640x480 with 1 Axes>"
            ],
            "image/png": "[encoded data removed]"
          },
          "metadata": {}
        }
      ]
    },
    {
      "cell_type": "code",
      "source": [
        "# Write to csv\n",
        "motor_vehicle_truncated.to_csv('/content/motor_vehicle_updated.csv')"
      ],
      "metadata": {
        "id": "SlcZDVJEc18G"
      },
      "execution_count": 182,
      "outputs": []
    },
    {
      "cell_type": "code",
      "source": [],
      "metadata": {
        "id": "rIosSe3EerDe"
      },
      "execution_count": null,
      "outputs": []
    }
  ],
  "metadata": {
    "colab": {
      "provenance": []
    },
    "kernelspec": {
      "display_name": "Python 3",
      "name": "python3"
    },
    "language_info": {
      "name": "python"
    }
  },
  "nbformat": 4,
  "nbformat_minor": 0
}